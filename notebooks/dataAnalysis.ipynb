{
 "cells": [
  {
   "cell_type": "markdown",
   "id": "5ff01e1d-3b2b-48d4-b8be-11eeec95a5cf",
   "metadata": {},
   "source": [
    "# Exploratory Data Analysis (EDA): U.S. Oil & Gas (ONRR)\n",
    "\n",
    "This notebook explores the **cleaned ONRR oil & gas dataset** to surface trends and business-relevant insights.  \n",
    "We focus on volumes over time, by commodity, by geography, and by disposition.\n",
    "\n",
    "> **Input:** `../data/cleaned/us_oil_gas_cleaned.csv`  \n",
    "> **Output (optional):** figures saved under `../figures/`\n",
    "\n",
    "---\n"
   ]
  },
  {
   "cell_type": "code",
   "execution_count": 11,
   "id": "7f40be7d-6800-4481-be5d-b328f7b05d83",
   "metadata": {},
   "outputs": [
    {
     "name": "stdout",
     "output_type": "stream",
     "text": [
      "Loaded: ../data/cleaned/us_oil_gas_cleaned.csv | shape: (470830, 13)\n"
     ]
    },
    {
     "data": {
      "text/html": [
       "<div>\n",
       "<style scoped>\n",
       "    .dataframe tbody tr th:only-of-type {\n",
       "        vertical-align: middle;\n",
       "    }\n",
       "\n",
       "    .dataframe tbody tr th {\n",
       "        vertical-align: top;\n",
       "    }\n",
       "\n",
       "    .dataframe thead th {\n",
       "        text-align: right;\n",
       "    }\n",
       "</style>\n",
       "<table border=\"1\" class=\"dataframe\">\n",
       "  <thead>\n",
       "    <tr style=\"text-align: right;\">\n",
       "      <th></th>\n",
       "      <th>production_date</th>\n",
       "      <th>land_class</th>\n",
       "      <th>land_category</th>\n",
       "      <th>state</th>\n",
       "      <th>county</th>\n",
       "      <th>fips_code</th>\n",
       "      <th>offshore_region</th>\n",
       "      <th>commodity</th>\n",
       "      <th>disposition_code</th>\n",
       "      <th>disposition_description</th>\n",
       "      <th>volume</th>\n",
       "      <th>year</th>\n",
       "      <th>month</th>\n",
       "    </tr>\n",
       "  </thead>\n",
       "  <tbody>\n",
       "    <tr>\n",
       "      <th>0</th>\n",
       "      <td>2015-01-01</td>\n",
       "      <td>Federal</td>\n",
       "      <td>Offshore</td>\n",
       "      <td>Withheld</td>\n",
       "      <td>Withheld</td>\n",
       "      <td>NaN</td>\n",
       "      <td>Offshore Alaska</td>\n",
       "      <td>Gas (Mcf)</td>\n",
       "      <td>1</td>\n",
       "      <td>Sales-Royalty Due-Measured</td>\n",
       "      <td>0</td>\n",
       "      <td>2015</td>\n",
       "      <td>1</td>\n",
       "    </tr>\n",
       "    <tr>\n",
       "      <th>1</th>\n",
       "      <td>2015-01-01</td>\n",
       "      <td>Federal</td>\n",
       "      <td>Offshore</td>\n",
       "      <td>Withheld</td>\n",
       "      <td>Withheld</td>\n",
       "      <td>NaN</td>\n",
       "      <td>Offshore Gulf</td>\n",
       "      <td>Gas (Mcf)</td>\n",
       "      <td>1</td>\n",
       "      <td>Sales-Royalty Due-Measured</td>\n",
       "      <td>14508756</td>\n",
       "      <td>2015</td>\n",
       "      <td>1</td>\n",
       "    </tr>\n",
       "    <tr>\n",
       "      <th>2</th>\n",
       "      <td>2015-01-01</td>\n",
       "      <td>Federal</td>\n",
       "      <td>Offshore</td>\n",
       "      <td>Withheld</td>\n",
       "      <td>Withheld</td>\n",
       "      <td>NaN</td>\n",
       "      <td>Offshore Pacific</td>\n",
       "      <td>Gas (Mcf)</td>\n",
       "      <td>1</td>\n",
       "      <td>Sales-Royalty Due-Measured</td>\n",
       "      <td>1207520</td>\n",
       "      <td>2015</td>\n",
       "      <td>1</td>\n",
       "    </tr>\n",
       "    <tr>\n",
       "      <th>3</th>\n",
       "      <td>2015-01-01</td>\n",
       "      <td>Federal</td>\n",
       "      <td>Offshore</td>\n",
       "      <td>Withheld</td>\n",
       "      <td>Withheld</td>\n",
       "      <td>NaN</td>\n",
       "      <td>Offshore Gulf</td>\n",
       "      <td>Gas (Mcf)</td>\n",
       "      <td>4</td>\n",
       "      <td>Sales-Royalty Due-Not Measured</td>\n",
       "      <td>487324</td>\n",
       "      <td>2015</td>\n",
       "      <td>1</td>\n",
       "    </tr>\n",
       "    <tr>\n",
       "      <th>4</th>\n",
       "      <td>2015-01-01</td>\n",
       "      <td>Federal</td>\n",
       "      <td>Offshore</td>\n",
       "      <td>Withheld</td>\n",
       "      <td>Withheld</td>\n",
       "      <td>NaN</td>\n",
       "      <td>Offshore Pacific</td>\n",
       "      <td>Gas (Mcf)</td>\n",
       "      <td>4</td>\n",
       "      <td>Sales-Royalty Due-Not Measured</td>\n",
       "      <td>114808</td>\n",
       "      <td>2015</td>\n",
       "      <td>1</td>\n",
       "    </tr>\n",
       "  </tbody>\n",
       "</table>\n",
       "</div>"
      ],
      "text/plain": [
       "  production_date land_class land_category     state    county  fips_code  \\\n",
       "0      2015-01-01    Federal      Offshore  Withheld  Withheld        NaN   \n",
       "1      2015-01-01    Federal      Offshore  Withheld  Withheld        NaN   \n",
       "2      2015-01-01    Federal      Offshore  Withheld  Withheld        NaN   \n",
       "3      2015-01-01    Federal      Offshore  Withheld  Withheld        NaN   \n",
       "4      2015-01-01    Federal      Offshore  Withheld  Withheld        NaN   \n",
       "\n",
       "    offshore_region  commodity  disposition_code  \\\n",
       "0   Offshore Alaska  Gas (Mcf)                 1   \n",
       "1     Offshore Gulf  Gas (Mcf)                 1   \n",
       "2  Offshore Pacific  Gas (Mcf)                 1   \n",
       "3     Offshore Gulf  Gas (Mcf)                 4   \n",
       "4  Offshore Pacific  Gas (Mcf)                 4   \n",
       "\n",
       "          disposition_description    volume  year  month  \n",
       "0      Sales-Royalty Due-Measured         0  2015      1  \n",
       "1      Sales-Royalty Due-Measured  14508756  2015      1  \n",
       "2      Sales-Royalty Due-Measured   1207520  2015      1  \n",
       "3  Sales-Royalty Due-Not Measured    487324  2015      1  \n",
       "4  Sales-Royalty Due-Not Measured    114808  2015      1  "
      ]
     },
     "execution_count": 11,
     "metadata": {},
     "output_type": "execute_result"
    }
   ],
   "source": [
    "## 3.1 Load Cleaned Data\n",
    "import os\n",
    "import pandas as pd\n",
    "import numpy as np\n",
    "import matplotlib.pyplot as plt\n",
    "\n",
    "plt.rcParams['figure.figsize'] = (10, 5)\n",
    "\n",
    "# Paths\n",
    "CLEANED = \"../data/cleaned/us_oil_gas_cleaned.csv\"\n",
    "FIG_DIR = \"../figures\"\n",
    "os.makedirs(FIG_DIR, exist_ok=True)\n",
    "\n",
    "# Load\n",
    "df = pd.read_csv(CLEANED, parse_dates=['production_date'])\n",
    "print(\"Loaded:\", CLEANED, \"| shape:\", df.shape)\n",
    "df.head()\n"
   ]
  },
  {
   "cell_type": "markdown",
   "id": "d89cd770-9390-4a81-8f32-25eeb2e2062c",
   "metadata": {},
   "source": [
    "## 3.2 Dataset Overview"
   ]
  },
  {
   "cell_type": "code",
   "execution_count": 12,
   "id": "b2db5874-9183-4264-bf64-ffeefeb56c4e",
   "metadata": {},
   "outputs": [
    {
     "data": {
      "text/html": [
       "<div>\n",
       "<style scoped>\n",
       "    .dataframe tbody tr th:only-of-type {\n",
       "        vertical-align: middle;\n",
       "    }\n",
       "\n",
       "    .dataframe tbody tr th {\n",
       "        vertical-align: top;\n",
       "    }\n",
       "\n",
       "    .dataframe thead th {\n",
       "        text-align: right;\n",
       "    }\n",
       "</style>\n",
       "<table border=\"1\" class=\"dataframe\">\n",
       "  <thead>\n",
       "    <tr style=\"text-align: right;\">\n",
       "      <th></th>\n",
       "      <th>count</th>\n",
       "      <th>mean</th>\n",
       "      <th>std</th>\n",
       "      <th>min</th>\n",
       "      <th>25%</th>\n",
       "      <th>50%</th>\n",
       "      <th>75%</th>\n",
       "      <th>max</th>\n",
       "    </tr>\n",
       "  </thead>\n",
       "  <tbody>\n",
       "    <tr>\n",
       "      <th>fips_code</th>\n",
       "      <td>454200.0</td>\n",
       "      <td>33246.875359</td>\n",
       "      <td>1.647127e+04</td>\n",
       "      <td>1003.0</td>\n",
       "      <td>22027.0</td>\n",
       "      <td>35045.0</td>\n",
       "      <td>48225.0</td>\n",
       "      <td>56045.0</td>\n",
       "    </tr>\n",
       "    <tr>\n",
       "      <th>disposition_code</th>\n",
       "      <td>470830.0</td>\n",
       "      <td>18.445779</td>\n",
       "      <td>1.421068e+01</td>\n",
       "      <td>1.0</td>\n",
       "      <td>10.0</td>\n",
       "      <td>17.0</td>\n",
       "      <td>25.0</td>\n",
       "      <td>69.0</td>\n",
       "    </tr>\n",
       "    <tr>\n",
       "      <th>volume</th>\n",
       "      <td>470830.0</td>\n",
       "      <td>132570.798568</td>\n",
       "      <td>1.840172e+06</td>\n",
       "      <td>-25877925.0</td>\n",
       "      <td>0.0</td>\n",
       "      <td>0.0</td>\n",
       "      <td>160.0</td>\n",
       "      <td>83628039.0</td>\n",
       "    </tr>\n",
       "    <tr>\n",
       "      <th>year</th>\n",
       "      <td>470830.0</td>\n",
       "      <td>2019.656568</td>\n",
       "      <td>3.021743e+00</td>\n",
       "      <td>2015.0</td>\n",
       "      <td>2017.0</td>\n",
       "      <td>2020.0</td>\n",
       "      <td>2022.0</td>\n",
       "      <td>2025.0</td>\n",
       "    </tr>\n",
       "    <tr>\n",
       "      <th>month</th>\n",
       "      <td>470830.0</td>\n",
       "      <td>6.358155</td>\n",
       "      <td>3.461143e+00</td>\n",
       "      <td>1.0</td>\n",
       "      <td>3.0</td>\n",
       "      <td>6.0</td>\n",
       "      <td>9.0</td>\n",
       "      <td>12.0</td>\n",
       "    </tr>\n",
       "  </tbody>\n",
       "</table>\n",
       "</div>"
      ],
      "text/plain": [
       "                     count           mean           std         min      25%  \\\n",
       "fips_code         454200.0   33246.875359  1.647127e+04      1003.0  22027.0   \n",
       "disposition_code  470830.0      18.445779  1.421068e+01         1.0     10.0   \n",
       "volume            470830.0  132570.798568  1.840172e+06 -25877925.0      0.0   \n",
       "year              470830.0    2019.656568  3.021743e+00      2015.0   2017.0   \n",
       "month             470830.0       6.358155  3.461143e+00         1.0      3.0   \n",
       "\n",
       "                      50%      75%         max  \n",
       "fips_code         35045.0  48225.0     56045.0  \n",
       "disposition_code     17.0     25.0        69.0  \n",
       "volume                0.0    160.0  83628039.0  \n",
       "year               2020.0   2022.0      2025.0  \n",
       "month                 6.0      9.0        12.0  "
      ]
     },
     "execution_count": 12,
     "metadata": {},
     "output_type": "execute_result"
    }
   ],
   "source": [
    "# Schema / dtypes\n",
    "df.dtypes\n",
    "\n",
    "# Missing values (top 10)\n",
    "df.isna().sum().sort_values(ascending=False).head(10)\n",
    "\n",
    "# Basic stats for numeric columns\n",
    "df.describe(include=[np.number]).T"
   ]
  },
  {
   "cell_type": "markdown",
   "id": "73bfe18c-fda6-4a98-b5d3-e634fc482f30",
   "metadata": {},
   "source": [
    "## 3.3 Univariate Distributions"
   ]
  },
  {
   "cell_type": "code",
   "execution_count": 13,
   "id": "2b0e2c5a-96fc-48de-b34c-bf9328efcedb",
   "metadata": {},
   "outputs": [
    {
     "data": {
      "image/png": "[encoded data removed]",
      "text/plain": [
       "<Figure size 1000x500 with 1 Axes>"
      ]
     },
     "metadata": {},
     "output_type": "display_data"
    },
    {
     "data": {
      "image/png": "[encoded data removed]",
      "text/plain": [
       "<Figure size 1000x500 with 1 Axes>"
      ]
     },
     "metadata": {},
     "output_type": "display_data"
    }
   ],
   "source": [
    "# Volume distribution\n",
    "plt.hist(df['volume'].dropna(), bins=60)\n",
    "plt.title(\"Distribution of Reported Volumes\")\n",
    "plt.xlabel(\"Volume\"); plt.ylabel(\"Count\")\n",
    "plt.tight_layout(); plt.show()\n",
    "\n",
    "# Commodity frequency\n",
    "commodity_counts = df['commodity'].value_counts()\n",
    "commodity_counts.plot(kind='bar')\n",
    "plt.title(\"Record Counts by Commodity\")\n",
    "plt.xlabel(\"Commodity\"); plt.ylabel(\"Count\")\n",
    "plt.tight_layout(); plt.show()"
   ]
  },
  {
   "cell_type": "markdown",
   "id": "fb40208a-93e1-4a55-b66c-bf69dbf3abfc",
   "metadata": {},
   "source": [
    "## 3.4 Time-Series Trends"
   ]
  },
  {
   "cell_type": "code",
   "execution_count": 14,
   "id": "99e92bfe-13a7-4250-8df5-9001f83dbd46",
   "metadata": {
    "jupyter": {
     "source_hidden": true
    }
   },
   "outputs": [
    {
     "data": {
      "image/png": "[encoded data removed]",
      "text/plain": [
       "<Figure size 1000x500 with 1 Axes>"
      ]
     },
     "metadata": {},
     "output_type": "display_data"
    },
    {
     "data": {
      "image/png": "[encoded data removed]",
      "text/plain": [
       "<Figure size 1000x500 with 1 Axes>"
      ]
     },
     "metadata": {},
     "output_type": "display_data"
    }
   ],
   "source": [
    "# Total volume by year\n",
    "vol_by_year = df.groupby('year')['volume'].sum().sort_index()\n",
    "vol_by_year.plot(kind='bar')\n",
    "plt.title(\"Total Volume by Year\")\n",
    "plt.xlabel(\"Year\"); plt.ylabel(\"Total Volume\")\n",
    "plt.tight_layout(); plt.show()\n",
    "\n",
    "# Oil vs Gas over time\n",
    "vol_year_commodity = df.pivot_table(index='year', columns='commodity', values='volume', aggfunc='sum')\n",
    "vol_year_commodity.plot(kind='line', marker='o')\n",
    "plt.title(\"Volume by Year and Commodity\")\n",
    "plt.xlabel(\"Year\"); plt.ylabel(\"Total Volume\")\n",
    "plt.tight_layout(); plt.show()"
   ]
  },
  {
   "cell_type": "markdown",
   "id": "03c49f80-9f42-456f-8b9e-daf283fdf677",
   "metadata": {},
   "source": [
    "## 3.5 Geographic Patterns"
   ]
  },
  {
   "cell_type": "code",
   "execution_count": 15,
   "id": "fd2da926-736b-4f26-b339-6f590776153e",
   "metadata": {
    "jupyter": {
     "source_hidden": true
    }
   },
   "outputs": [
    {
     "data": {
      "image/png": "[encoded data removed]",
      "text/plain": [
       "<Figure size 1000x500 with 1 Axes>"
      ]
     },
     "metadata": {},
     "output_type": "display_data"
    },
    {
     "data": {
      "image/png": "[encoded data removed]",
      "text/plain": [
       "<Figure size 1000x500 with 1 Axes>"
      ]
     },
     "metadata": {},
     "output_type": "display_data"
    }
   ],
   "source": [
    "# Top states by total volume (excluding 'Withheld')\n",
    "state_series = df[df['state'].str.lower() != 'withheld'].groupby('state')['volume'].sum().sort_values(ascending=False).head(12)\n",
    "state_series.plot(kind='bar')\n",
    "plt.title(\"Top States by Total Volume\")\n",
    "plt.xlabel(\"State\"); plt.ylabel(\"Total Volume\")\n",
    "plt.tight_layout(); plt.show()\n",
    "\n",
    "# Offshore regions (if present)\n",
    "if 'offshore_region' in df.columns:\n",
    "    off_series = df.groupby('offshore_region')['volume'].sum().sort_values(ascending=False)\n",
    "    off_series.plot(kind='bar')\n",
    "    plt.title(\"Total Volume by Offshore Region\")\n",
    "    plt.xlabel(\"Offshore Region\"); plt.ylabel(\"Total Volume\")\n",
    "    plt.tight_layout(); plt.show()"
   ]
  },
  {
   "cell_type": "markdown",
   "id": "805f3be6-f152-4baf-9e8a-8b07803c53d1",
   "metadata": {},
   "source": [
    "## 3.6 Disposition Analysis"
   ]
  },
  {
   "cell_type": "code",
   "execution_count": 16,
   "id": "72edf092-d94a-419a-a511-fc3b8360e8e2",
   "metadata": {
    "jupyter": {
     "source_hidden": true
    }
   },
   "outputs": [
    {
     "data": {
      "image/png": "[encoded data removed]",
      "text/plain": [
       "<Figure size 1000x500 with 1 Axes>"
      ]
     },
     "metadata": {},
     "output_type": "display_data"
    }
   ],
   "source": [
    "disp_series = (df.groupby('disposition_description')['volume']\n",
    "                 .sum().sort_values(ascending=False).head(15))\n",
    "disp_series.plot(kind='barh')\n",
    "plt.title(\"Top Disposition Categories by Total Volume\")\n",
    "plt.xlabel(\"Total Volume\"); plt.ylabel(\"Disposition\")\n",
    "plt.tight_layout(); plt.show()"
   ]
  },
  {
   "cell_type": "markdown",
   "id": "963b44e2-b0d9-43c5-ba3b-9b649aa0699f",
   "metadata": {},
   "source": [
    "## 3.7 Anomalies: Negative Volumes & Outliers"
   ]
  },
  {
   "cell_type": "code",
   "execution_count": 17,
   "id": "662548cc-edcd-49b5-9aab-e40818e27a0d",
   "metadata": {},
   "outputs": [
    {
     "name": "stdout",
     "output_type": "stream",
     "text": [
      "Negative rows: 13036\n"
     ]
    },
    {
     "data": {
      "text/plain": [
       "commodity  disposition_code  disposition_description       \n",
       "Oil (Bbl)  13                Transferred From Facility         4023\n",
       "Gas (Mcf)  25                Buy-Back Purchased For L/A Use    3773\n",
       "           42                Differences/Adjustments           2202\n",
       "           13                Transferred From Facility         1792\n",
       "Oil (Bbl)  42                Differences/Adjustments           1098\n",
       "           25                Buy-Back Purchased For L/A Use     148\n",
       "Name: volume, dtype: int64"
      ]
     },
     "metadata": {},
     "output_type": "display_data"
    },
    {
     "data": {
      "text/html": [
       "<div>\n",
       "<style scoped>\n",
       "    .dataframe tbody tr th:only-of-type {\n",
       "        vertical-align: middle;\n",
       "    }\n",
       "\n",
       "    .dataframe tbody tr th {\n",
       "        vertical-align: top;\n",
       "    }\n",
       "\n",
       "    .dataframe thead th {\n",
       "        text-align: right;\n",
       "    }\n",
       "</style>\n",
       "<table border=\"1\" class=\"dataframe\">\n",
       "  <thead>\n",
       "    <tr style=\"text-align: right;\">\n",
       "      <th></th>\n",
       "      <th>production_date</th>\n",
       "      <th>commodity</th>\n",
       "      <th>state</th>\n",
       "      <th>disposition_description</th>\n",
       "      <th>volume</th>\n",
       "    </tr>\n",
       "  </thead>\n",
       "  <tbody>\n",
       "    <tr>\n",
       "      <th>36423</th>\n",
       "      <td>2015-10-01</td>\n",
       "      <td>Gas (Mcf)</td>\n",
       "      <td>Wy</td>\n",
       "      <td>Transferred To Facility</td>\n",
       "      <td>83628039</td>\n",
       "    </tr>\n",
       "    <tr>\n",
       "      <th>16617</th>\n",
       "      <td>2015-05-01</td>\n",
       "      <td>Gas (Mcf)</td>\n",
       "      <td>Wy</td>\n",
       "      <td>Transferred To Facility</td>\n",
       "      <td>82835274</td>\n",
       "    </tr>\n",
       "    <tr>\n",
       "      <th>24570</th>\n",
       "      <td>2015-07-01</td>\n",
       "      <td>Gas (Mcf)</td>\n",
       "      <td>Wy</td>\n",
       "      <td>Transferred To Facility</td>\n",
       "      <td>82654601</td>\n",
       "    </tr>\n",
       "    <tr>\n",
       "      <th>28549</th>\n",
       "      <td>2015-08-01</td>\n",
       "      <td>Gas (Mcf)</td>\n",
       "      <td>Wy</td>\n",
       "      <td>Transferred To Facility</td>\n",
       "      <td>82620515</td>\n",
       "    </tr>\n",
       "    <tr>\n",
       "      <th>44253</th>\n",
       "      <td>2015-12-01</td>\n",
       "      <td>Gas (Mcf)</td>\n",
       "      <td>Wy</td>\n",
       "      <td>Transferred To Facility</td>\n",
       "      <td>82249586</td>\n",
       "    </tr>\n",
       "    <tr>\n",
       "      <th>48145</th>\n",
       "      <td>2016-01-01</td>\n",
       "      <td>Gas (Mcf)</td>\n",
       "      <td>Wy</td>\n",
       "      <td>Transferred To Facility</td>\n",
       "      <td>81394280</td>\n",
       "    </tr>\n",
       "    <tr>\n",
       "      <th>32503</th>\n",
       "      <td>2015-09-01</td>\n",
       "      <td>Gas (Mcf)</td>\n",
       "      <td>Wy</td>\n",
       "      <td>Transferred To Facility</td>\n",
       "      <td>81360579</td>\n",
       "    </tr>\n",
       "    <tr>\n",
       "      <th>8653</th>\n",
       "      <td>2015-03-01</td>\n",
       "      <td>Gas (Mcf)</td>\n",
       "      <td>Wy</td>\n",
       "      <td>Transferred To Facility</td>\n",
       "      <td>80910504</td>\n",
       "    </tr>\n",
       "    <tr>\n",
       "      <th>12659</th>\n",
       "      <td>2015-04-01</td>\n",
       "      <td>Gas (Mcf)</td>\n",
       "      <td>Wy</td>\n",
       "      <td>Transferred To Facility</td>\n",
       "      <td>80860960</td>\n",
       "    </tr>\n",
       "    <tr>\n",
       "      <th>55858</th>\n",
       "      <td>2016-03-01</td>\n",
       "      <td>Gas (Mcf)</td>\n",
       "      <td>Wy</td>\n",
       "      <td>Transferred To Facility</td>\n",
       "      <td>80774576</td>\n",
       "    </tr>\n",
       "  </tbody>\n",
       "</table>\n",
       "</div>"
      ],
      "text/plain": [
       "      production_date  commodity state  disposition_description    volume\n",
       "36423      2015-10-01  Gas (Mcf)    Wy  Transferred To Facility  83628039\n",
       "16617      2015-05-01  Gas (Mcf)    Wy  Transferred To Facility  82835274\n",
       "24570      2015-07-01  Gas (Mcf)    Wy  Transferred To Facility  82654601\n",
       "28549      2015-08-01  Gas (Mcf)    Wy  Transferred To Facility  82620515\n",
       "44253      2015-12-01  Gas (Mcf)    Wy  Transferred To Facility  82249586\n",
       "48145      2016-01-01  Gas (Mcf)    Wy  Transferred To Facility  81394280\n",
       "32503      2015-09-01  Gas (Mcf)    Wy  Transferred To Facility  81360579\n",
       "8653       2015-03-01  Gas (Mcf)    Wy  Transferred To Facility  80910504\n",
       "12659      2015-04-01  Gas (Mcf)    Wy  Transferred To Facility  80860960\n",
       "55858      2016-03-01  Gas (Mcf)    Wy  Transferred To Facility  80774576"
      ]
     },
     "execution_count": 17,
     "metadata": {},
     "output_type": "execute_result"
    }
   ],
   "source": [
    "# Negative volumes\n",
    "neg = df[df['volume'] < 0]\n",
    "print(\"Negative rows:\", neg.shape[0])\n",
    "if not neg.empty:\n",
    "    neg_summary = (neg.groupby(['commodity','disposition_code','disposition_description'])\n",
    "                     ['volume'].count()\n",
    "                     .sort_values(ascending=False).head(10))\n",
    "    display(neg_summary)\n",
    "\n",
    "# Outliers: largest absolute volumes\n",
    "abs_top = df.reindex(df['volume'].abs().sort_values(ascending=False).index).head(10)\n",
    "abs_top[['production_date','commodity','state','disposition_description','volume']]"
   ]
  },
  {
   "cell_type": "markdown",
   "id": "eec97ec4-42d2-456e-87e2-90b38f9a50c0",
   "metadata": {},
   "source": [
    "## 3.8 Save Figures"
   ]
  },
  {
   "cell_type": "code",
   "execution_count": 18,
   "id": "ed29cd23-303f-4550-8ccb-53d044624028",
   "metadata": {},
   "outputs": [
    {
     "name": "stdout",
     "output_type": "stream",
     "text": [
      "Saved figure: ../figures\\vol_by_year.png\n"
     ]
    }
   ],
   "source": [
    "vol_by_year.plot(kind='bar')\n",
    "plt.title(\"Total Volume by Year\")\n",
    "plt.xlabel(\"Year\"); plt.ylabel(\"Total Volume\")\n",
    "plt.tight_layout()\n",
    "save_path = os.path.join(FIG_DIR, \"vol_by_year.png\")\n",
    "plt.savefig(save_path, bbox_inches='tight', dpi=150)\n",
    "print(\"Saved figure:\", save_path)\n",
    "plt.close()"
   ]
  },
  {
   "cell_type": "markdown",
   "id": "c20ae47b-19ec-4bf0-8aae-483131fc81d6",
   "metadata": {},
   "source": [
    "## 3.9 EDA Takeaways (Fill These In)\n",
    "\n",
    "- **Trend:** Summarize whether oil/gas volumes increased/decreased over 2015–2025.  \n",
    "- **Commodity Mix:** Note which commodity dominates and how the mix shifted over time.  \n",
    "- **Geography:** Highlight top-producing states/offshore regions.  \n",
    "- **Disposition:** What are the primary end-uses/categories by volume?  \n",
    "- **Data Quality:** Comment on negatives (adjustments), outliers, withheld geographies.\n",
    "\n",
    "- **Distribution of Reported Volumes (Univariate EDA):**\n",
    "Note: Most reported volumes cluster near zero, which creates a skewed distribution. This motivated deeper    analysis by commodity and geography. \n",
    "\n",
    "These insights set up the next step (optional): **forecasting** or building a **dashboard** to share interactively."
   ]
  },
  {
   "cell_type": "markdown",
   "id": "2bbf3aaa-c7c8-4164-8efc-549c9391cb15",
   "metadata": {},
   "source": [
    "## 4 — Forecasting with Prophet\n",
    "\n",
    "Now that we’ve completed our EDA, we’ll use **Facebook Prophet** to forecast U.S. federal oil & gas production volumes.  \n",
    "Prophet is well-suited for time series with clear seasonality and trend components.  \n",
    "\n",
    "We’ll:  \n",
    "1. Aggregate monthly production volumes.  \n",
    "2. Split the data into a training set and a recent holdout period for evaluation.  \n",
    "3. Fit Prophet and generate a 3-year forecast.  \n",
    "4. Evaluate accuracy with MAPE.  \n",
    "5. Visualize forecasts for all commodities and individual commodities.  "
   ]
  },
  {
   "cell_type": "markdown",
   "id": "7b4dd5f2-0331-4779-be23-768ee91d8e2f",
   "metadata": {},
   "source": [
    "## 4.1 Prepare Monthly Totals\n",
    "\n",
    "We aggregate volumes by month since the ONRR dataset is reported monthly.  \n",
    "This produces a clean time series with columns:  \n",
    "- **ds** → date (Prophet’s expected format)  \n",
    "- **y** → volume value  "
   ]
  },
  {
   "cell_type": "code",
   "execution_count": 19,
   "id": "c5faa39a-dda5-47d3-8d14-de8f8a21599e",
   "metadata": {},
   "outputs": [
    {
     "data": {
      "text/plain": [
       "(          ds          y\n",
       " 0 2015-01-01  499300687\n",
       " 1 2015-02-01  451972556\n",
       " 2 2015-03-01  493122773\n",
       " 3 2015-04-01  497089327\n",
       " 4 2015-05-01  505458541,\n",
       "             ds          y\n",
       " 120 2025-01-01  572527063\n",
       " 121 2025-02-01  522004263\n",
       " 122 2025-03-01  591984020\n",
       " 123 2025-04-01  550800839\n",
       " 124 2025-05-01  555726896)"
      ]
     },
     "execution_count": 19,
     "metadata": {},
     "output_type": "execute_result"
    }
   ],
   "source": [
    "import pandas as pd\n",
    "import numpy as np\n",
    "from prophet import Prophet\n",
    "from sklearn.metrics import mean_absolute_percentage_error as mape\n",
    "from prophet.plot import plot_plotly, plot_components_plotly\n",
    "import plotly.io as pio\n",
    "\n",
    "CLEANED = \"../data/cleaned/us_oil_gas_cleaned.csv\"\n",
    "df = pd.read_csv(CLEANED, parse_dates=[\"production_date\"])\n",
    "\n",
    "# We’ll forecast at monthly granularity, summed volume.\n",
    "# Keep negatives (they are real adjustments in ONRR data).\n",
    "monthly_all = (\n",
    "    df.groupby(pd.Grouper(key=\"production_date\", freq=\"MS\"))[\"volume\"]\n",
    "      .sum()\n",
    "      .reset_index()\n",
    "      .rename(columns={\"production_date\":\"ds\",\"volume\":\"y\"})\n",
    "      .sort_values(\"ds\")\n",
    ")\n",
    "monthly_all.head(), monthly_all.tail()\n"
   ]
  },
  {
   "cell_type": "markdown",
   "id": "316d3ea2-2377-4537-8d4c-f87d5e61ae77",
   "metadata": {},
   "source": [
    "## 4.2 Train / Holdout Split\n",
    "\n",
    "We’ll reserve the last 18 months of data for validation.  \n",
    "This ensures the model is evaluated on unseen, recent data.  "
   ]
  },
  {
   "cell_type": "code",
   "execution_count": 20,
   "id": "20f809c8-b8f1-4f40-a0fb-ce6ef747d8ae",
   "metadata": {},
   "outputs": [
    {
     "name": "stdout",
     "output_type": "stream",
     "text": [
      "Train: 2015-01-01 00:00:00 → 2023-11-01 00:00:00 | rows: 107\n",
      "Test : 2023-12-01 00:00:00 → 2025-05-01 00:00:00 | rows: 18\n"
     ]
    }
   ],
   "source": [
    "holdout_months = 18\n",
    "train = monthly_all.iloc[:-holdout_months, :].copy()\n",
    "test  = monthly_all.iloc[-holdout_months:, :].copy()\n",
    "\n",
    "print(\"Train:\", train[\"ds\"].min(), \"→\", train[\"ds\"].max(), \"| rows:\", len(train))\n",
    "print(\"Test :\", test[\"ds\"].min(),  \"→\", test[\"ds\"].max(),  \"| rows:\", len(test))"
   ]
  },
  {
   "cell_type": "markdown",
   "id": "1c979293-5676-433f-8c0b-ae9cd87d4e65",
   "metadata": {},
   "source": [
    "## 4.3 Fit Prophet Model\n",
    "\n",
    "We configure Prophet with yearly seasonality (appropriate for energy production cycles).  \n",
    "The model is fit on the training set and asked to predict 36 months into the future.  "
   ]
  },
  {
   "cell_type": "code",
   "execution_count": 21,
   "id": "66dbcb50-2d50-42b8-81c9-0b6abf81852f",
   "metadata": {},
   "outputs": [
    {
     "name": "stderr",
     "output_type": "stream",
     "text": [
      "14:24:57 - cmdstanpy - INFO - Chain [1] start processing\n",
      "14:24:57 - cmdstanpy - INFO - Chain [1] done processing\n"
     ]
    },
    {
     "data": {
      "text/html": [
       "<div>\n",
       "<style scoped>\n",
       "    .dataframe tbody tr th:only-of-type {\n",
       "        vertical-align: middle;\n",
       "    }\n",
       "\n",
       "    .dataframe tbody tr th {\n",
       "        vertical-align: top;\n",
       "    }\n",
       "\n",
       "    .dataframe thead th {\n",
       "        text-align: right;\n",
       "    }\n",
       "</style>\n",
       "<table border=\"1\" class=\"dataframe\">\n",
       "  <thead>\n",
       "    <tr style=\"text-align: right;\">\n",
       "      <th></th>\n",
       "      <th>ds</th>\n",
       "      <th>yhat</th>\n",
       "      <th>yhat_lower</th>\n",
       "      <th>yhat_upper</th>\n",
       "    </tr>\n",
       "  </thead>\n",
       "  <tbody>\n",
       "    <tr>\n",
       "      <th>138</th>\n",
       "      <td>2026-07-01</td>\n",
       "      <td>6.192589e+08</td>\n",
       "      <td>5.944713e+08</td>\n",
       "      <td>6.443024e+08</td>\n",
       "    </tr>\n",
       "    <tr>\n",
       "      <th>139</th>\n",
       "      <td>2026-08-01</td>\n",
       "      <td>6.273211e+08</td>\n",
       "      <td>6.038522e+08</td>\n",
       "      <td>6.543925e+08</td>\n",
       "    </tr>\n",
       "    <tr>\n",
       "      <th>140</th>\n",
       "      <td>2026-09-01</td>\n",
       "      <td>6.144456e+08</td>\n",
       "      <td>5.906400e+08</td>\n",
       "      <td>6.416516e+08</td>\n",
       "    </tr>\n",
       "    <tr>\n",
       "      <th>141</th>\n",
       "      <td>2026-10-01</td>\n",
       "      <td>6.344154e+08</td>\n",
       "      <td>6.080910e+08</td>\n",
       "      <td>6.615354e+08</td>\n",
       "    </tr>\n",
       "    <tr>\n",
       "      <th>142</th>\n",
       "      <td>2026-11-01</td>\n",
       "      <td>6.288745e+08</td>\n",
       "      <td>6.033706e+08</td>\n",
       "      <td>6.565626e+08</td>\n",
       "    </tr>\n",
       "  </tbody>\n",
       "</table>\n",
       "</div>"
      ],
      "text/plain": [
       "            ds          yhat    yhat_lower    yhat_upper\n",
       "138 2026-07-01  6.192589e+08  5.944713e+08  6.443024e+08\n",
       "139 2026-08-01  6.273211e+08  6.038522e+08  6.543925e+08\n",
       "140 2026-09-01  6.144456e+08  5.906400e+08  6.416516e+08\n",
       "141 2026-10-01  6.344154e+08  6.080910e+08  6.615354e+08\n",
       "142 2026-11-01  6.288745e+08  6.033706e+08  6.565626e+08"
      ]
     },
     "execution_count": 21,
     "metadata": {},
     "output_type": "execute_result"
    }
   ],
   "source": [
    "m_all = Prophet(yearly_seasonality=True, weekly_seasonality=False, daily_seasonality=False, stan_backend=\"CMDSTANPY\")\n",
    "m_all.fit(train)\n",
    "\n",
    "future_all = m_all.make_future_dataframe(periods=36, freq=\"MS\")\n",
    "fc_all = m_all.predict(future_all)\n",
    "fc_all.tail()[[\"ds\",\"yhat\",\"yhat_lower\",\"yhat_upper\"]]"
   ]
  },
  {
   "cell_type": "markdown",
   "id": "cff22a8e-4679-4448-af17-9c5257b8efd7",
   "metadata": {},
   "source": [
    "## 4.4 Model Evaluation\n",
    "\n",
    "We evaluate the forecast against the holdout period using **MAPE (Mean Absolute Percentage Error)**.  \n",
    "This gives us an intuitive % error metric. "
   ]
  },
  {
   "cell_type": "code",
   "execution_count": 22,
   "id": "7604f075-ec1f-4f45-bedd-b15f6aa9318b",
   "metadata": {},
   "outputs": [
    {
     "name": "stdout",
     "output_type": "stream",
     "text": [
      "Holdout MAPE: 2.34%\n"
     ]
    }
   ],
   "source": [
    "eval_df = test.merge(fc_all[[\"ds\",\"yhat\"]], on=\"ds\", how=\"left\")\n",
    "score_mape = mape(eval_df[\"y\"], eval_df[\"yhat\"])\n",
    "print(f\"Holdout MAPE: {score_mape*100:.2f}%\")"
   ]
  },
  {
   "cell_type": "markdown",
   "id": "30d98af3-185a-4937-8681-a46a4b04408f",
   "metadata": {},
   "source": [
    "## 4.5 Plot History + Forecast\n",
    "\n",
    "We use Prophet’s Plotly integration to visualize actual volumes, fitted values, and forecasts with uncertainty bands.  "
   ]
  },
  {
   "cell_type": "code",
   "execution_count": 23,
   "id": "7ebd4308-c0aa-4a3d-b9ee-3d7633583bf2",
   "metadata": {
    "jupyter": {
     "source_hidden": true
    }
   },
   "outputs": [
    {
     "data": {
      "application/vnd.plotly.v1+json": {
       "config": {
        "plotlyServerURL": "https://plot.ly"
       },
       "data": [
        {
         "marker": {
          "color": "black",
          "size": 4
         },
         "mode": "markers",
         "name": "Actual",
         "type": "scatter",
         "x": [
          "2015-01-01T00:00:00.000000000",
          "2015-02-01T00:00:00.000000000",
          "2015-03-01T00:00:00.000000000",
          "2015-04-01T00:00:00.000000000",
          "2015-05-01T00:00:00.000000000",
          "2015-06-01T00:00:00.000000000",
          "2015-07-01T00:00:00.000000000",
          "2015-08-01T00:00:00.000000000",
          "2015-09-01T00:00:00.000000000",
          "2015-10-01T00:00:00.000000000",
          "2015-11-01T00:00:00.000000000",
          "2015-12-01T00:00:00.000000000",
          "2016-01-01T00:00:00.000000000",
          "2016-02-01T00:00:00.000000000",
          "2016-03-01T00:00:00.000000000",
          "2016-04-01T00:00:00.000000000",
          "2016-05-01T00:00:00.000000000",
          "2016-06-01T00:00:00.000000000",
          "2016-07-01T00:00:00.000000000",
          "2016-08-01T00:00:00.000000000",
          "2016-09-01T00:00:00.000000000",
          "2016-10-01T00:00:00.000000000",
          "2016-11-01T00:00:00.000000000",
          "2016-12-01T00:00:00.000000000",
          "2017-01-01T00:00:00.000000000",
          "2017-02-01T00:00:00.000000000",
          "2017-03-01T00:00:00.000000000",
          "2017-04-01T00:00:00.000000000",
          "2017-05-01T00:00:00.000000000",
          "2017-06-01T00:00:00.000000000",
          "2017-07-01T00:00:00.000000000",
          "2017-08-01T00:00:00.000000000",
          "2017-09-01T00:00:00.000000000",
          "2017-10-01T00:00:00.000000000",
          "2017-11-01T00:00:00.000000000",
          "2017-12-01T00:00:00.000000000",
          "2018-01-01T00:00:00.000000000",
          "2018-02-01T00:00:00.000000000",
          "2018-03-01T00:00:00.000000000",
          "2018-04-01T00:00:00.000000000",
          "2018-05-01T00:00:00.000000000",
          "2018-06-01T00:00:00.000000000",
          "2018-07-01T00:00:00.000000000",
          "2018-08-01T00:00:00.000000000",
          "2018-09-01T00:00:00.000000000",
          "2018-10-01T00:00:00.000000000",
          "2018-11-01T00:00:00.000000000",
          "2018-12-01T00:00:00.000000000",
          "2019-01-01T00:00:00.000000000",
          "2019-02-01T00:00:00.000000000",
          "2019-03-01T00:00:00.000000000",
          "2019-04-01T00:00:00.000000000",
          "2019-05-01T00:00:00.000000000",
          "2019-06-01T00:00:00.000000000",
          "2019-07-01T00:00:00.000000000",
          "2019-08-01T00:00:00.000000000",
          "2019-09-01T00:00:00.000000000",
          "2019-10-01T00:00:00.000000000",
          "2019-11-01T00:00:00.000000000",
          "2019-12-01T00:00:00.000000000",
          "2020-01-01T00:00:00.000000000",
          "2020-02-01T00:00:00.000000000",
          "2020-03-01T00:00:00.000000000",
          "2020-04-01T00:00:00.000000000",
          "2020-05-01T00:00:00.000000000",
          "2020-06-01T00:00:00.000000000",
          "2020-07-01T00:00:00.000000000",
          "2020-08-01T00:00:00.000000000",
          "2020-09-01T00:00:00.000000000",
          "2020-10-01T00:00:00.000000000",
          "2020-11-01T00:00:00.000000000",
          "2020-12-01T00:00:00.000000000",
          "2021-01-01T00:00:00.000000000",
          "2021-02-01T00:00:00.000000000",
          "2021-03-01T00:00:00.000000000",
          "2021-04-01T00:00:00.000000000",
          "2021-05-01T00:00:00.000000000",
          "2021-06-01T00:00:00.000000000",
          "2021-07-01T00:00:00.000000000",
          "2021-08-01T00:00:00.000000000",
          "2021-09-01T00:00:00.000000000",
          "2021-10-01T00:00:00.000000000",
          "2021-11-01T00:00:00.000000000",
          "2021-12-01T00:00:00.000000000",
          "2022-01-01T00:00:00.000000000",
          "2022-02-01T00:00:00.000000000",
          "2022-03-01T00:00:00.000000000",
          "2022-04-01T00:00:00.000000000",
          "2022-05-01T00:00:00.000000000",
          "2022-06-01T00:00:00.000000000",
          "2022-07-01T00:00:00.000000000",
          "2022-08-01T00:00:00.000000000",
          "2022-09-01T00:00:00.000000000",
          "2022-10-01T00:00:00.000000000",
          "2022-11-01T00:00:00.000000000",
          "2022-12-01T00:00:00.000000000",
          "2023-01-01T00:00:00.000000000",
          "2023-02-01T00:00:00.000000000",
          "2023-03-01T00:00:00.000000000",
          "2023-04-01T00:00:00.000000000",
          "2023-05-01T00:00:00.000000000",
          "2023-06-01T00:00:00.000000000",
          "2023-07-01T00:00:00.000000000",
          "2023-08-01T00:00:00.000000000",
          "2023-09-01T00:00:00.000000000",
          "2023-10-01T00:00:00.000000000",
          "2023-11-01T00:00:00.000000000"
         ],
         "y": {
          "bdata": "T7nCHcyN8BrVdGQdL/ugHW2vIB79UekccNx5Hr6Etx6yE+UdovEiHkEC0Rxdi48dQhYEHeJxJRuahYkdT27dG5GLrRxfK0IbACl2G6N38hsp+1MbaG/pHFlQ8Bvc4ccccK5QHET4rBlHWt4ch1ZeGxvtGhwHbuoaNBZCHNVa+Ru2tlIbBUBQG7nLThtGXdMbhrPbG9QMnxlwSJYcx1VGG34b9xvUDTUbxyVeHXZ3FR4Tf7Icx/uNHRLcRB297Tge5NXdHf/WmBoUi4IeoK6dHWkpdx5bsF8dXyGiG4K1fB6JVcEdOD31HnjDSh7TTk8f/NH6Hkak7xxbZQ0fE45pHKJgsxlHumIZoAstGw3+LBkvba4ZAz4nGUFmNBumJj4cGT6dHKbEQhnlxVwde8F8HPPzmx17UX4crDrTHRUp/xz+0Q8aMKi+HSFkjx2pADcewbmiHdDr0BobJX4eEakQHui8jB71URQeA+dyH5crax/kWxAfxt+EIEGaZx/WbiIg1PUWIZbmcR2YX/QgXn9EH0vTRiB5mW8fibK+H1ajkiA7JiAg6+5uIfwh7iA=",
          "dtype": "i4"
         }
        },
        {
         "hoverinfo": "skip",
         "line": {
          "width": 0
         },
         "mode": "lines",
         "type": "scatter",
         "x": [
          "2015-01-01T00:00:00.000000000",
          "2015-02-01T00:00:00.000000000",
          "2015-03-01T00:00:00.000000000",
          "2015-04-01T00:00:00.000000000",
          "2015-05-01T00:00:00.000000000",
          "2015-06-01T00:00:00.000000000",
          "2015-07-01T00:00:00.000000000",
          "2015-08-01T00:00:00.000000000",
          "2015-09-01T00:00:00.000000000",
          "2015-10-01T00:00:00.000000000",
          "2015-11-01T00:00:00.000000000",
          "2015-12-01T00:00:00.000000000",
          "2016-01-01T00:00:00.000000000",
          "2016-02-01T00:00:00.000000000",
          "2016-03-01T00:00:00.000000000",
          "2016-04-01T00:00:00.000000000",
          "2016-05-01T00:00:00.000000000",
          "2016-06-01T00:00:00.000000000",
          "2016-07-01T00:00:00.000000000",
          "2016-08-01T00:00:00.000000000",
          "2016-09-01T00:00:00.000000000",
          "2016-10-01T00:00:00.000000000",
          "2016-11-01T00:00:00.000000000",
          "2016-12-01T00:00:00.000000000",
          "2017-01-01T00:00:00.000000000",
          "2017-02-01T00:00:00.000000000",
          "2017-03-01T00:00:00.000000000",
          "2017-04-01T00:00:00.000000000",
          "2017-05-01T00:00:00.000000000",
          "2017-06-01T00:00:00.000000000",
          "2017-07-01T00:00:00.000000000",
          "2017-08-01T00:00:00.000000000",
          "2017-09-01T00:00:00.000000000",
          "2017-10-01T00:00:00.000000000",
          "2017-11-01T00:00:00.000000000",
          "2017-12-01T00:00:00.000000000",
          "2018-01-01T00:00:00.000000000",
          "2018-02-01T00:00:00.000000000",
          "2018-03-01T00:00:00.000000000",
          "2018-04-01T00:00:00.000000000",
          "2018-05-01T00:00:00.000000000",
          "2018-06-01T00:00:00.000000000",
          "2018-07-01T00:00:00.000000000",
          "2018-08-01T00:00:00.000000000",
          "2018-09-01T00:00:00.000000000",
          "2018-10-01T00:00:00.000000000",
          "2018-11-01T00:00:00.000000000",
          "2018-12-01T00:00:00.000000000",
          "2019-01-01T00:00:00.000000000",
          "2019-02-01T00:00:00.000000000",
          "2019-03-01T00:00:00.000000000",
          "2019-04-01T00:00:00.000000000",
          "2019-05-01T00:00:00.000000000",
          "2019-06-01T00:00:00.000000000",
          "2019-07-01T00:00:00.000000000",
          "2019-08-01T00:00:00.000000000",
          "2019-09-01T00:00:00.000000000",
          "2019-10-01T00:00:00.000000000",
          "2019-11-01T00:00:00.000000000",
          "2019-12-01T00:00:00.000000000",
          "2020-01-01T00:00:00.000000000",
          "2020-02-01T00:00:00.000000000",
          "2020-03-01T00:00:00.000000000",
          "2020-04-01T00:00:00.000000000",
          "2020-05-01T00:00:00.000000000",
          "2020-06-01T00:00:00.000000000",
          "2020-07-01T00:00:00.000000000",
          "2020-08-01T00:00:00.000000000",
          "2020-09-01T00:00:00.000000000",
          "2020-10-01T00:00:00.000000000",
          "2020-11-01T00:00:00.000000000",
          "2020-12-01T00:00:00.000000000",
          "2021-01-01T00:00:00.000000000",
          "2021-02-01T00:00:00.000000000",
          "2021-03-01T00:00:00.000000000",
          "2021-04-01T00:00:00.000000000",
          "2021-05-01T00:00:00.000000000",
          "2021-06-01T00:00:00.000000000",
          "2021-07-01T00:00:00.000000000",
          "2021-08-01T00:00:00.000000000",
          "2021-09-01T00:00:00.000000000",
          "2021-10-01T00:00:00.000000000",
          "2021-11-01T00:00:00.000000000",
          "2021-12-01T00:00:00.000000000",
          "2022-01-01T00:00:00.000000000",
          "2022-02-01T00:00:00.000000000",
          "2022-03-01T00:00:00.000000000",
          "2022-04-01T00:00:00.000000000",
          "2022-05-01T00:00:00.000000000",
          "2022-06-01T00:00:00.000000000",
          "2022-07-01T00:00:00.000000000",
          "2022-08-01T00:00:00.000000000",
          "2022-09-01T00:00:00.000000000",
          "2022-10-01T00:00:00.000000000",
          "2022-11-01T00:00:00.000000000",
          "2022-12-01T00:00:00.000000000",
          "2023-01-01T00:00:00.000000000",
          "2023-02-01T00:00:00.000000000",
          "2023-03-01T00:00:00.000000000",
          "2023-04-01T00:00:00.000000000",
          "2023-05-01T00:00:00.000000000",
          "2023-06-01T00:00:00.000000000",
          "2023-07-01T00:00:00.000000000",
          "2023-08-01T00:00:00.000000000",
          "2023-09-01T00:00:00.000000000",
          "2023-10-01T00:00:00.000000000",
          "2023-11-01T00:00:00.000000000",
          "2023-12-01T00:00:00.000000000",
          "2024-01-01T00:00:00.000000000",
          "2024-02-01T00:00:00.000000000",
          "2024-03-01T00:00:00.000000000",
          "2024-04-01T00:00:00.000000000",
          "2024-05-01T00:00:00.000000000",
          "2024-06-01T00:00:00.000000000",
          "2024-07-01T00:00:00.000000000",
          "2024-08-01T00:00:00.000000000",
          "2024-09-01T00:00:00.000000000",
          "2024-10-01T00:00:00.000000000",
          "2024-11-01T00:00:00.000000000",
          "2024-12-01T00:00:00.000000000",
          "2025-01-01T00:00:00.000000000",
          "2025-02-01T00:00:00.000000000",
          "2025-03-01T00:00:00.000000000",
          "2025-04-01T00:00:00.000000000",
          "2025-05-01T00:00:00.000000000",
          "2025-06-01T00:00:00.000000000",
          "2025-07-01T00:00:00.000000000",
          "2025-08-01T00:00:00.000000000",
          "2025-09-01T00:00:00.000000000",
          "2025-10-01T00:00:00.000000000",
          "2025-11-01T00:00:00.000000000",
          "2025-12-01T00:00:00.000000000",
          "2026-01-01T00:00:00.000000000",
          "2026-02-01T00:00:00.000000000",
          "2026-03-01T00:00:00.000000000",
          "2026-04-01T00:00:00.000000000",
          "2026-05-01T00:00:00.000000000",
          "2026-06-01T00:00:00.000000000",
          "2026-07-01T00:00:00.000000000",
          "2026-08-01T00:00:00.000000000",
          "2026-09-01T00:00:00.000000000",
          "2026-10-01T00:00:00.000000000",
          "2026-11-01T00:00:00.000000000"
         ],
         "y": {
          "bdata": "JTpMhld5vEFWBo0g3rG5QT4lyZibLLxB9L49GUJyu0HqCjQwdv27QYJRmiOj6rpBz+1A8m8Yu0FFDSkIAfu7QaFMtUJL57pBZnU4jkwHvEFcmLMa7iO7QSmLVFZkD7xBQx0F/u8kvEGQDwNjF6G5QcTDXs3DCL1BuQuLsnsXu0FoN1mwNAe7QU9BtmpyTLpBaQsEc06hu0FzrdZglxa7QexbchjPa7pBKTAe3BNdu0H3aNgX9Wy7QVn6oT2a07tBmniSBr2fu0GNJs/KGli4Qeu1C4i7ULxB0K+eSQ/MukFfA9bUNQ27Qda8cJ0YALpBUPmSoNwlu0HcQ3VBBAm7QRSVGqo3TLpBupryWxk9u0HM+rXJDyO7QWwzvEW62rtBLHx94G+Ou0EMonCXB7y4QdiO3aWp4LtBhR06uT6eukFEdv7rKzG7QbGiBcvqKbpBvc4EbPfoukH1CAecNki7QX3inXAFarpBStwmUwpcu0EKqoM6S8i6QYvNiJU0wbtBORtlwyy0u0H3qjSw6QO5QVMJG2ReYrtBonZVYmfOukH9u/y1El67QXabo6ydGrpBcPHNoHOQukF6fTqLeW+7QZBVtpzNXLpBsy5g8et5u0HhTD54FMa6QUi2neSZubtBOWtxAKOYu0FH/4qFpVy5Qa2Zkh1tlrxByDvcRlLhukF3jhSOC666QaTigbwDFLpBGKHooryMu0HUv3OLEeG6QXwKIgoGTrpBSPk/BQ4/u0Hz0RN14G27QX7icSSQybtBQkAA/Miuu0FZuQbPhHO4Qbhftb9OXbxBBnhFqIgbu0Ey2t3YRmq7QRpDDNBwqLpBqopa7Tbau0GF0xd2FNy7QbeDumroKbtBvVvh6FtjvEHX1mGasz+8QRnWtiegD71BWHj6hroAvUHmuS3DcVK6QVFyO9JWd71BIKO2x+JxvEFeqX7l6xq9QUhX6lVlR7xBNuieZl0vvUF190DX/Jq9QadxKHKJ3LxBhB4EGNIVvkH1eNSSmL+9QdGQpNqGm75BTzaF6NTGvkERYO/bGRW8QQr1TxjM0L5BKhKfJEskvkEFm5LguP2+QeC2gGAz771B1CKqnpRdvkHwkVd9dGW/QSjjQGlccr5BAMFEZza+v0Htl8Rydhe/QciM2TFOB8BBItNWpAs4wEH8wce/9hG+QQZFr+FlxMBBf7l1MRoBwEGdVBq1E92/QdQsCkiZQ79B4G0x5xpzwEEysiKlGDrAQZbvwo1W/r9BxKs9fcd/wEG16a26aJzAQY3MLKK29cBB+u5kNB3OwEFIvcOLkKq+QYxwf45dVsFBcrQB4f6iwEEgesYfytHAQRkykI9Td8BBLuBXT64dwUEf0/i16xTBQeeWK//yv8BBa4+vCQtdwUEyIVY/HVPBQeApam7vv8FBmUuH4T6pwUFqogcH4EfAQUsybwbH4sFBp2IqHPVxwUE5IEMEb7nBQZMQlSClN8FBCkGy13S3wUH7nEPdBv/BQSA5BKs5msFB6VAJvV0fwkFX5Ws7WvvBQQ==",
          "dtype": "f8"
         }
        },
        {
         "fill": "tonexty",
         "fillcolor": "rgba(0, 114, 178, 0.2)",
         "line": {
          "color": "#0072B2",
          "width": 2
         },
         "mode": "lines",
         "name": "Predicted",
         "type": "scatter",
         "x": [
          "2015-01-01T00:00:00.000000000",
          "2015-02-01T00:00:00.000000000",
          "2015-03-01T00:00:00.000000000",
          "2015-04-01T00:00:00.000000000",
          "2015-05-01T00:00:00.000000000",
          "2015-06-01T00:00:00.000000000",
          "2015-07-01T00:00:00.000000000",
          "2015-08-01T00:00:00.000000000",
          "2015-09-01T00:00:00.000000000",
          "2015-10-01T00:00:00.000000000",
          "2015-11-01T00:00:00.000000000",
          "2015-12-01T00:00:00.000000000",
          "2016-01-01T00:00:00.000000000",
          "2016-02-01T00:00:00.000000000",
          "2016-03-01T00:00:00.000000000",
          "2016-04-01T00:00:00.000000000",
          "2016-05-01T00:00:00.000000000",
          "2016-06-01T00:00:00.000000000",
          "2016-07-01T00:00:00.000000000",
          "2016-08-01T00:00:00.000000000",
          "2016-09-01T00:00:00.000000000",
          "2016-10-01T00:00:00.000000000",
          "2016-11-01T00:00:00.000000000",
          "2016-12-01T00:00:00.000000000",
          "2017-01-01T00:00:00.000000000",
          "2017-02-01T00:00:00.000000000",
          "2017-03-01T00:00:00.000000000",
          "2017-04-01T00:00:00.000000000",
          "2017-05-01T00:00:00.000000000",
          "2017-06-01T00:00:00.000000000",
          "2017-07-01T00:00:00.000000000",
          "2017-08-01T00:00:00.000000000",
          "2017-09-01T00:00:00.000000000",
          "2017-10-01T00:00:00.000000000",
          "2017-11-01T00:00:00.000000000",
          "2017-12-01T00:00:00.000000000",
          "2018-01-01T00:00:00.000000000",
          "2018-02-01T00:00:00.000000000",
          "2018-03-01T00:00:00.000000000",
          "2018-04-01T00:00:00.000000000",
          "2018-05-01T00:00:00.000000000",
          "2018-06-01T00:00:00.000000000",
          "2018-07-01T00:00:00.000000000",
          "2018-08-01T00:00:00.000000000",
          "2018-09-01T00:00:00.000000000",
          "2018-10-01T00:00:00.000000000",
          "2018-11-01T00:00:00.000000000",
          "2018-12-01T00:00:00.000000000",
          "2019-01-01T00:00:00.000000000",
          "2019-02-01T00:00:00.000000000",
          "2019-03-01T00:00:00.000000000",
          "2019-04-01T00:00:00.000000000",
          "2019-05-01T00:00:00.000000000",
          "2019-06-01T00:00:00.000000000",
          "2019-07-01T00:00:00.000000000",
          "2019-08-01T00:00:00.000000000",
          "2019-09-01T00:00:00.000000000",
          "2019-10-01T00:00:00.000000000",
          "2019-11-01T00:00:00.000000000",
          "2019-12-01T00:00:00.000000000",
          "2020-01-01T00:00:00.000000000",
          "2020-02-01T00:00:00.000000000",
          "2020-03-01T00:00:00.000000000",
          "2020-04-01T00:00:00.000000000",
          "2020-05-01T00:00:00.000000000",
          "2020-06-01T00:00:00.000000000",
          "2020-07-01T00:00:00.000000000",
          "2020-08-01T00:00:00.000000000",
          "2020-09-01T00:00:00.000000000",
          "2020-10-01T00:00:00.000000000",
          "2020-11-01T00:00:00.000000000",
          "2020-12-01T00:00:00.000000000",
          "2021-01-01T00:00:00.000000000",
          "2021-02-01T00:00:00.000000000",
          "2021-03-01T00:00:00.000000000",
          "2021-04-01T00:00:00.000000000",
          "2021-05-01T00:00:00.000000000",
          "2021-06-01T00:00:00.000000000",
          "2021-07-01T00:00:00.000000000",
          "2021-08-01T00:00:00.000000000",
          "2021-09-01T00:00:00.000000000",
          "2021-10-01T00:00:00.000000000",
          "2021-11-01T00:00:00.000000000",
          "2021-12-01T00:00:00.000000000",
          "2022-01-01T00:00:00.000000000",
          "2022-02-01T00:00:00.000000000",
          "2022-03-01T00:00:00.000000000",
          "2022-04-01T00:00:00.000000000",
          "2022-05-01T00:00:00.000000000",
          "2022-06-01T00:00:00.000000000",
          "2022-07-01T00:00:00.000000000",
          "2022-08-01T00:00:00.000000000",
          "2022-09-01T00:00:00.000000000",
          "2022-10-01T00:00:00.000000000",
          "2022-11-01T00:00:00.000000000",
          "2022-12-01T00:00:00.000000000",
          "2023-01-01T00:00:00.000000000",
          "2023-02-01T00:00:00.000000000",
          "2023-03-01T00:00:00.000000000",
          "2023-04-01T00:00:00.000000000",
          "2023-05-01T00:00:00.000000000",
          "2023-06-01T00:00:00.000000000",
          "2023-07-01T00:00:00.000000000",
          "2023-08-01T00:00:00.000000000",
          "2023-09-01T00:00:00.000000000",
          "2023-10-01T00:00:00.000000000",
          "2023-11-01T00:00:00.000000000",
          "2023-12-01T00:00:00.000000000",
          "2024-01-01T00:00:00.000000000",
          "2024-02-01T00:00:00.000000000",
          "2024-03-01T00:00:00.000000000",
          "2024-04-01T00:00:00.000000000",
          "2024-05-01T00:00:00.000000000",
          "2024-06-01T00:00:00.000000000",
          "2024-07-01T00:00:00.000000000",
          "2024-08-01T00:00:00.000000000",
          "2024-09-01T00:00:00.000000000",
          "2024-10-01T00:00:00.000000000",
          "2024-11-01T00:00:00.000000000",
          "2024-12-01T00:00:00.000000000",
          "2025-01-01T00:00:00.000000000",
          "2025-02-01T00:00:00.000000000",
          "2025-03-01T00:00:00.000000000",
          "2025-04-01T00:00:00.000000000",
          "2025-05-01T00:00:00.000000000",
          "2025-06-01T00:00:00.000000000",
          "2025-07-01T00:00:00.000000000",
          "2025-08-01T00:00:00.000000000",
          "2025-09-01T00:00:00.000000000",
          "2025-10-01T00:00:00.000000000",
          "2025-11-01T00:00:00.000000000",
          "2025-12-01T00:00:00.000000000",
          "2026-01-01T00:00:00.000000000",
          "2026-02-01T00:00:00.000000000",
          "2026-03-01T00:00:00.000000000",
          "2026-04-01T00:00:00.000000000",
          "2026-05-01T00:00:00.000000000",
          "2026-06-01T00:00:00.000000000",
          "2026-07-01T00:00:00.000000000",
          "2026-08-01T00:00:00.000000000",
          "2026-09-01T00:00:00.000000000",
          "2026-10-01T00:00:00.000000000",
          "2026-11-01T00:00:00.000000000"
         ],
         "y": {
          "bdata": "mrPLXQfUvUFg9sfPDSa7Qdt92gq0lr1BvNVkXpnFvEE29sZvNXi9QTgCczU3RLxBjqX6WimXvEHj831bpWe9QTfRfFEOWbxBAkZOZqRnvUFiamUjg6S8QSs6cJfuir1Be+W2feaLvUFcXa61Rh+7QXhFjazaXL5Bo5v2wpOQvEE0BFP/cGy8QcbutiCirbtBMWCuZUo2vUFwalfKoYq8QSopuL/117tBOQxLRbrPvEHk1pYu2tu8QSuYlrsrXr1B5UaxqwT+vEElVTyfMMq5QZ4qVdLQqb1B31Dasz8xvEFdzVrXgFu8QenzXqoHfbtBwgKTwgaivEG6opHZyHu8QVBkILpys7tBBjJMOxm7vEHDXMfpFIm8QaLheguRMr1BLKg9izn6vEEoXUTLlRC6QY82d8F+Pr1BOZWWSXgevEEuP9a0epK8QeJTAgQkj7tBuOhcbAhPvEHDrz8fkae8QUvENeOdwLtBCbY0N/XPvEH6w1gK7Vi8QWPNL+fgI71B02nSoAUMvUE/c7MIyGW6QUHvvZ1q3bxBkzdW8AoUvEHUyQ0qIs68QXbOvO7eobtBOueZPEz8u0GA1JTqgdS8QWoOD46kzbtBZriRhLTjvEHbgzfgTCi8QZwWgicyFr1B5nBXrOMevUH/Qt2C/bm6QXklroHL/r1BH2qnNj46vEEkyURGlR28QZwMRAaAZrtBtlT0sY/2vEG4dG2rjVK8QSgeCbw2rbtB/NqKxK+xvEE/NImb8Mq8QVrPd6v2Wb1Bn7nA5aYRvUHW2u2qAPO5QT8GeP7B5b1BZShcaH2LvEHfgstNkdC8QXJSE8fPDbxB1HLZSaBTvUGXOfSFFU29QRsln4typLxBnxqDasbKvUGdrmc/Pru9QRk8GqIZhr5BBvNKKT5wvkFypSKtFqm7QWHT6I0l9r5BnpK9WZv4vUGR8FFA/Y2+QYkCL9Mirb1BjQ3atmaOvkF30m2tawm/QUznFLX0RL5B3TJhhKt1v0EOCjObHyG/QWu2q3m5BsBBCSu3/gkMwEESscO1UpS9QeNQcqCNFcBBrgzI2jiEv0HBMYVF2C/AQZSHBJfqVb9BhmFsW7jRv0GN4x5RNmbAQVx6jt4N6L9BieQhyb+PwEFEYtZKS0PAQZ23TdTuysBBMPuZ6obgwEGASn1Tpn6/QevC6aDcccFB7yJIT9WgwEHjB+m8MaPAQTW0xHDmWMBBQ4ppLJ8xwUHtIgJ93fDAQUCX9hWarMBBEqWWssc8wUEucbwu0FfBQdXwEk9ErcFB2y2gTimSwUGciJ8T4wvAQf0I3GhwDcJBCm7YpMtkwUEQJLsJrovBQXZeac3KLsFBL96lLAzTwUE/aYtpK9HBQUsGOYs+fsFBfnCEmMESwkEWQyih/QrCQQO5uW9rcMJBL5mD0X1lwkFZcm8T6gHBQRCJ0oNxqMJBaum8aawpwkEKGQddXXTCQd6idSbwA8JBjyZLGJJ0wkFACpWTFLLCQT6VaBfZT8JBcboOfzTowkGupneK7r3CQQ==",
          "dtype": "f8"
         }
        },
        {
         "fill": "tonexty",
         "fillcolor": "rgba(0, 114, 178, 0.2)",
         "hoverinfo": "skip",
         "line": {
          "width": 0
         },
         "mode": "lines",
         "type": "scatter",
         "x": [
          "2015-01-01T00:00:00.000000000",
          "2015-02-01T00:00:00.000000000",
          "2015-03-01T00:00:00.000000000",
          "2015-04-01T00:00:00.000000000",
          "2015-05-01T00:00:00.000000000",
          "2015-06-01T00:00:00.000000000",
          "2015-07-01T00:00:00.000000000",
          "2015-08-01T00:00:00.000000000",
          "2015-09-01T00:00:00.000000000",
          "2015-10-01T00:00:00.000000000",
          "2015-11-01T00:00:00.000000000",
          "2015-12-01T00:00:00.000000000",
          "2016-01-01T00:00:00.000000000",
          "2016-02-01T00:00:00.000000000",
          "2016-03-01T00:00:00.000000000",
          "2016-04-01T00:00:00.000000000",
          "2016-05-01T00:00:00.000000000",
          "2016-06-01T00:00:00.000000000",
          "2016-07-01T00:00:00.000000000",
          "2016-08-01T00:00:00.000000000",
          "2016-09-01T00:00:00.000000000",
          "2016-10-01T00:00:00.000000000",
          "2016-11-01T00:00:00.000000000",
          "2016-12-01T00:00:00.000000000",
          "2017-01-01T00:00:00.000000000",
          "2017-02-01T00:00:00.000000000",
          "2017-03-01T00:00:00.000000000",
          "2017-04-01T00:00:00.000000000",
          "2017-05-01T00:00:00.000000000",
          "2017-06-01T00:00:00.000000000",
          "2017-07-01T00:00:00.000000000",
          "2017-08-01T00:00:00.000000000",
          "2017-09-01T00:00:00.000000000",
          "2017-10-01T00:00:00.000000000",
          "2017-11-01T00:00:00.000000000",
          "2017-12-01T00:00:00.000000000",
          "2018-01-01T00:00:00.000000000",
          "2018-02-01T00:00:00.000000000",
          "2018-03-01T00:00:00.000000000",
          "2018-04-01T00:00:00.000000000",
          "2018-05-01T00:00:00.000000000",
          "2018-06-01T00:00:00.000000000",
          "2018-07-01T00:00:00.000000000",
          "2018-08-01T00:00:00.000000000",
          "2018-09-01T00:00:00.000000000",
          "2018-10-01T00:00:00.000000000",
          "2018-11-01T00:00:00.000000000",
          "2018-12-01T00:00:00.000000000",
          "2019-01-01T00:00:00.000000000",
          "2019-02-01T00:00:00.000000000",
          "2019-03-01T00:00:00.000000000",
          "2019-04-01T00:00:00.000000000",
          "2019-05-01T00:00:00.000000000",
          "2019-06-01T00:00:00.000000000",
          "2019-07-01T00:00:00.000000000",
          "2019-08-01T00:00:00.000000000",
          "2019-09-01T00:00:00.000000000",
          "2019-10-01T00:00:00.000000000",
          "2019-11-01T00:00:00.000000000",
          "2019-12-01T00:00:00.000000000",
          "2020-01-01T00:00:00.000000000",
          "2020-02-01T00:00:00.000000000",
          "2020-03-01T00:00:00.000000000",
          "2020-04-01T00:00:00.000000000",
          "2020-05-01T00:00:00.000000000",
          "2020-06-01T00:00:00.000000000",
          "2020-07-01T00:00:00.000000000",
          "2020-08-01T00:00:00.000000000",
          "2020-09-01T00:00:00.000000000",
          "2020-10-01T00:00:00.000000000",
          "2020-11-01T00:00:00.000000000",
          "2020-12-01T00:00:00.000000000",
          "2021-01-01T00:00:00.000000000",
          "2021-02-01T00:00:00.000000000",
          "2021-03-01T00:00:00.000000000",
          "2021-04-01T00:00:00.000000000",
          "2021-05-01T00:00:00.000000000",
          "2021-06-01T00:00:00.000000000",
          "2021-07-01T00:00:00.000000000",
          "2021-08-01T00:00:00.000000000",
          "2021-09-01T00:00:00.000000000",
          "2021-10-01T00:00:00.000000000",
          "2021-11-01T00:00:00.000000000",
          "2021-12-01T00:00:00.000000000",
          "2022-01-01T00:00:00.000000000",
          "2022-02-01T00:00:00.000000000",
          "2022-03-01T00:00:00.000000000",
          "2022-04-01T00:00:00.000000000",
          "2022-05-01T00:00:00.000000000",
          "2022-06-01T00:00:00.000000000",
          "2022-07-01T00:00:00.000000000",
          "2022-08-01T00:00:00.000000000",
          "2022-09-01T00:00:00.000000000",
          "2022-10-01T00:00:00.000000000",
          "2022-11-01T00:00:00.000000000",
          "2022-12-01T00:00:00.000000000",
          "2023-01-01T00:00:00.000000000",
          "2023-02-01T00:00:00.000000000",
          "2023-03-01T00:00:00.000000000",
          "2023-04-01T00:00:00.000000000",
          "2023-05-01T00:00:00.000000000",
          "2023-06-01T00:00:00.000000000",
          "2023-07-01T00:00:00.000000000",
          "2023-08-01T00:00:00.000000000",
          "2023-09-01T00:00:00.000000000",
          "2023-10-01T00:00:00.000000000",
          "2023-11-01T00:00:00.000000000",
          "2023-12-01T00:00:00.000000000",
          "2024-01-01T00:00:00.000000000",
          "2024-02-01T00:00:00.000000000",
          "2024-03-01T00:00:00.000000000",
          "2024-04-01T00:00:00.000000000",
          "2024-05-01T00:00:00.000000000",
          "2024-06-01T00:00:00.000000000",
          "2024-07-01T00:00:00.000000000",
          "2024-08-01T00:00:00.000000000",
          "2024-09-01T00:00:00.000000000",
          "2024-10-01T00:00:00.000000000",
          "2024-11-01T00:00:00.000000000",
          "2024-12-01T00:00:00.000000000",
          "2025-01-01T00:00:00.000000000",
          "2025-02-01T00:00:00.000000000",
          "2025-03-01T00:00:00.000000000",
          "2025-04-01T00:00:00.000000000",
          "2025-05-01T00:00:00.000000000",
          "2025-06-01T00:00:00.000000000",
          "2025-07-01T00:00:00.000000000",
          "2025-08-01T00:00:00.000000000",
          "2025-09-01T00:00:00.000000000",
          "2025-10-01T00:00:00.000000000",
          "2025-11-01T00:00:00.000000000",
          "2025-12-01T00:00:00.000000000",
          "2026-01-01T00:00:00.000000000",
          "2026-02-01T00:00:00.000000000",
          "2026-03-01T00:00:00.000000000",
          "2026-04-01T00:00:00.000000000",
          "2026-05-01T00:00:00.000000000",
          "2026-06-01T00:00:00.000000000",
          "2026-07-01T00:00:00.000000000",
          "2026-08-01T00:00:00.000000000",
          "2026-09-01T00:00:00.000000000",
          "2026-10-01T00:00:00.000000000",
          "2026-11-01T00:00:00.000000000"
         ],
         "y": {
          "bdata": "mfzayC5dv0FAPgcu7428QfOcoNpbDb9Bfl7OqRcuvkGX7/ZyYNa+QaAiYTS+qr1BKpLCywAQvkFS0Bw5j9C+Qfhzecd32b1BwUArSJfnvkE18eNfyRW+QVh4ISzy+75BHKKfYf3jvkGIHCgpPYW8QdwGWepOwb9BRSoDrrb/vUF+ItlQPby9QRg+un44QL1Bj8G8qzdfvkE4/IvIofi9QYwsBmxMOr1BT6JmY0EqvkFoTcqQr0m+QXZf9vPczb5Bd4rk5vFyvkE4TpugIkG7QdhpEbvfAL9BSZwA4TB7vUFWISTeLsK9QXyerPYo8rxBDfaoVb4AvkGIMy+/pfS9QV9QHKO6Rb1ByCGN/isbvkGf44RXWuu9QQkzgTIDiL5BfJ668+NWvkHQQoin2YK7QX1qShW7lr5BFyngLN2evUHq8o3cCQW+Qd99dM7B/rxB9ZpujNevvUGRi+W4MyW+QXPYI7LMJr1BDZGd3+AovkGmK2MXA9a9QfbsbDA0mr5Brjn9jbGlvkEfEsC1u+y7QRREgyvMUr5BFjbD5L2EvUH85fA6/zS+QY7jLT+V+LxBHO8NrPNzvUHT3ev2dT2+QfBYuGsSQL1BLJdWOZMwvkHJDh3pfae9QQHEiJzrjr5BZ0j3fBiAvkECUBZZTR68QaP/DPABfr9BG72/nRSzvUHmGk9+e3W9QabfXKOa57xBYkX56DxzvkE93iNFfLu9QUsQazG5F71BMEs2bW3+vUHx7AFOWUi+QVeP2gog075Bo/rfd3F0vkHN+KKdq0O7QcQd/20iOb9BU0rc9SAMvkF9Rw/PQD6+QV5AEyc+dr1B1KbeYiG8vkEJys1bEOO+Qckxr2CQCr5BVv30vq5Jv0GP8gqRbBK/QaIIAvDi9L9BcwcvydDpv0GRNO6J6DO9QTjbp4b6MsBBxrbEiyNEv0EzlO3ItPa/QWXr9qryEr9BSz//4s0AwEEB9h950y7AQUnDkDPgsr9B283PN3VwwEHVUOxUHkXAQeyyvdSNusBB/tqD7EvNwEHPIRYH5xW/QUyYoMsrxcBBg1GSlaNuwEFpyPeaJ/LAQWbWjfKhYcBBdbDun9WcwEF1s+iXrxnBQeS0VumlqcBBb/oSP1ZLwUH1iMpQ+fDAQQsw+pSvhMFBc7HSwy2ZwUGwT+Y3I3rAQavk8bEPH8JBucEfCQNYwUGIme+tDGPBQROoxGMvCMFBvkWGLsPnwUGCp7MXurLBQYh42Kx5YsFBrE9DR68AwkFvaX8CCRHCQQ3mqCHyX8JBImwywihKwkH0rrIpZr3AQRBrHPt60cJBDbJLeVcWwkEJTklk0UXCQbRXs0Il6MFBOAIkL1ilwkFHi44HnIjCQUE1SegFPMJBt5eq5mLKwkE3Qr/KyMTCQapJ+Fr1MsNBkyqZ/BQkw0F0xT3ed7vBQcAnz2jFdsNBEuSXDd7pwkGrKbo9SUjDQfvYC/5zvsJBAibBJKMzw0FflEFGnoDDQefl+dtpH8NBqDXcaR23w0GpatvdLJHDQQ==",
          "dtype": "f8"
         }
        }
       ],
       "layout": {
        "height": 600,
        "showlegend": false,
        "template": {
         "data": {
          "bar": [
           {
            "error_x": {
             "color": "#2a3f5f"
            },
            "error_y": {
             "color": "#2a3f5f"
            },
            "marker": {
             "line": {
              "color": "#E5ECF6",
              "width": 0.5
             },
             "pattern": {
              "fillmode": "overlay",
              "size": 10,
              "solidity": 0.2
             }
            },
            "type": "bar"
           }
          ],
          "barpolar": [
           {
            "marker": {
             "line": {
              "color": "#E5ECF6",
              "width": 0.5
             },
             "pattern": {
              "fillmode": "overlay",
              "size": 10,
              "solidity": 0.2
             }
            },
            "type": "barpolar"
           }
          ],
          "carpet": [
           {
            "aaxis": {
             "endlinecolor": "#2a3f5f",
             "gridcolor": "white",
             "linecolor": "white",
             "minorgridcolor": "white",
             "startlinecolor": "#2a3f5f"
            },
            "baxis": {
             "endlinecolor": "#2a3f5f",
             "gridcolor": "white",
             "linecolor": "white",
             "minorgridcolor": "white",
             "startlinecolor": "#2a3f5f"
            },
            "type": "carpet"
           }
          ],
          "choropleth": [
           {
            "colorbar": {
             "outlinewidth": 0,
             "ticks": ""
            },
            "type": "choropleth"
           }
          ],
          "contour": [
           {
            "colorbar": {
             "outlinewidth": 0,
             "ticks": ""
            },
            "colorscale": [
             [
              0,
              "#0d0887"
             ],
             [
              0.1111111111111111,
              "#46039f"
             ],
             [
              0.2222222222222222,
              "#7201a8"
             ],
             [
              0.3333333333333333,
              "#9c179e"
             ],
             [
              0.4444444444444444,
              "#bd3786"
             ],
             [
              0.5555555555555556,
              "#d8576b"
             ],
             [
              0.6666666666666666,
              "#ed7953"
             ],
             [
              0.7777777777777778,
              "#fb9f3a"
             ],
             [
              0.8888888888888888,
              "#fdca26"
             ],
             [
              1,
              "#f0f921"
             ]
            ],
            "type": "contour"
           }
          ],
          "contourcarpet": [
           {
            "colorbar": {
             "outlinewidth": 0,
             "ticks": ""
            },
            "type": "contourcarpet"
           }
          ],
          "heatmap": [
           {
            "colorbar": {
             "outlinewidth": 0,
             "ticks": ""
            },
            "colorscale": [
             [
              0,
              "#0d0887"
             ],
             [
              0.1111111111111111,
              "#46039f"
             ],
             [
              0.2222222222222222,
              "#7201a8"
             ],
             [
              0.3333333333333333,
              "#9c179e"
             ],
             [
              0.4444444444444444,
              "#bd3786"
             ],
             [
              0.5555555555555556,
              "#d8576b"
             ],
             [
              0.6666666666666666,
              "#ed7953"
             ],
             [
              0.7777777777777778,
              "#fb9f3a"
             ],
             [
              0.8888888888888888,
              "#fdca26"
             ],
             [
              1,
              "#f0f921"
             ]
            ],
            "type": "heatmap"
           }
          ],
          "histogram": [
           {
            "marker": {
             "pattern": {
              "fillmode": "overlay",
              "size": 10,
              "solidity": 0.2
             }
            },
            "type": "histogram"
           }
          ],
          "histogram2d": [
           {
            "colorbar": {
             "outlinewidth": 0,
             "ticks": ""
            },
            "colorscale": [
             [
              0,
              "#0d0887"
             ],
             [
              0.1111111111111111,
              "#46039f"
             ],
             [
              0.2222222222222222,
              "#7201a8"
             ],
             [
              0.3333333333333333,
              "#9c179e"
             ],
             [
              0.4444444444444444,
              "#bd3786"
             ],
             [
              0.5555555555555556,
              "#d8576b"
             ],
             [
              0.6666666666666666,
              "#ed7953"
             ],
             [
              0.7777777777777778,
              "#fb9f3a"
             ],
             [
              0.8888888888888888,
              "#fdca26"
             ],
             [
              1,
              "#f0f921"
             ]
            ],
            "type": "histogram2d"
           }
          ],
          "histogram2dcontour": [
           {
            "colorbar": {
             "outlinewidth": 0,
             "ticks": ""
            },
            "colorscale": [
             [
              0,
              "#0d0887"
             ],
             [
              0.1111111111111111,
              "#46039f"
             ],
             [
              0.2222222222222222,
              "#7201a8"
             ],
             [
              0.3333333333333333,
              "#9c179e"
             ],
             [
              0.4444444444444444,
              "#bd3786"
             ],
             [
              0.5555555555555556,
              "#d8576b"
             ],
             [
              0.6666666666666666,
              "#ed7953"
             ],
             [
              0.7777777777777778,
              "#fb9f3a"
             ],
             [
              0.8888888888888888,
              "#fdca26"
             ],
             [
              1,
              "#f0f921"
             ]
            ],
            "type": "histogram2dcontour"
           }
          ],
          "mesh3d": [
           {
            "colorbar": {
             "outlinewidth": 0,
             "ticks": ""
            },
            "type": "mesh3d"
           }
          ],
          "parcoords": [
           {
            "line": {
             "colorbar": {
              "outlinewidth": 0,
              "ticks": ""
             }
            },
            "type": "parcoords"
           }
          ],
          "pie": [
           {
            "automargin": true,
            "type": "pie"
           }
          ],
          "scatter": [
           {
            "fillpattern": {
             "fillmode": "overlay",
             "size": 10,
             "solidity": 0.2
            },
            "type": "scatter"
           }
          ],
          "scatter3d": [
           {
            "line": {
             "colorbar": {
              "outlinewidth": 0,
              "ticks": ""
             }
            },
            "marker": {
             "colorbar": {
              "outlinewidth": 0,
              "ticks": ""
             }
            },
            "type": "scatter3d"
           }
          ],
          "scattercarpet": [
           {
            "marker": {
             "colorbar": {
              "outlinewidth": 0,
              "ticks": ""
             }
            },
            "type": "scattercarpet"
           }
          ],
          "scattergeo": [
           {
            "marker": {
             "colorbar": {
              "outlinewidth": 0,
              "ticks": ""
             }
            },
            "type": "scattergeo"
           }
          ],
          "scattergl": [
           {
            "marker": {
             "colorbar": {
              "outlinewidth": 0,
              "ticks": ""
             }
            },
            "type": "scattergl"
           }
          ],
          "scattermap": [
           {
            "marker": {
             "colorbar": {
              "outlinewidth": 0,
              "ticks": ""
             }
            },
            "type": "scattermap"
           }
          ],
          "scattermapbox": [
           {
            "marker": {
             "colorbar": {
              "outlinewidth": 0,
              "ticks": ""
             }
            },
            "type": "scattermapbox"
           }
          ],
          "scatterpolar": [
           {
            "marker": {
             "colorbar": {
              "outlinewidth": 0,
              "ticks": ""
             }
            },
            "type": "scatterpolar"
           }
          ],
          "scatterpolargl": [
           {
            "marker": {
             "colorbar": {
              "outlinewidth": 0,
              "ticks": ""
             }
            },
            "type": "scatterpolargl"
           }
          ],
          "scatterternary": [
           {
            "marker": {
             "colorbar": {
              "outlinewidth": 0,
              "ticks": ""
             }
            },
            "type": "scatterternary"
           }
          ],
          "surface": [
           {
            "colorbar": {
             "outlinewidth": 0,
             "ticks": ""
            },
            "colorscale": [
             [
              0,
              "#0d0887"
             ],
             [
              0.1111111111111111,
              "#46039f"
             ],
             [
              0.2222222222222222,
              "#7201a8"
             ],
             [
              0.3333333333333333,
              "#9c179e"
             ],
             [
              0.4444444444444444,
              "#bd3786"
             ],
             [
              0.5555555555555556,
              "#d8576b"
             ],
             [
              0.6666666666666666,
              "#ed7953"
             ],
             [
              0.7777777777777778,
              "#fb9f3a"
             ],
             [
              0.8888888888888888,
              "#fdca26"
             ],
             [
              1,
              "#f0f921"
             ]
            ],
            "type": "surface"
           }
          ],
          "table": [
           {
            "cells": {
             "fill": {
              "color": "#EBF0F8"
             },
             "line": {
              "color": "white"
             }
            },
            "header": {
             "fill": {
              "color": "#C8D4E3"
             },
             "line": {
              "color": "white"
             }
            },
            "type": "table"
           }
          ]
         },
         "layout": {
          "annotationdefaults": {
           "arrowcolor": "#2a3f5f",
           "arrowhead": 0,
           "arrowwidth": 1
          },
          "autotypenumbers": "strict",
          "coloraxis": {
           "colorbar": {
            "outlinewidth": 0,
            "ticks": ""
           }
          },
          "colorscale": {
           "diverging": [
            [
             0,
             "#8e0152"
            ],
            [
             0.1,
             "#c51b7d"
            ],
            [
             0.2,
             "#de77ae"
            ],
            [
             0.3,
             "#f1b6da"
            ],
            [
             0.4,
             "#fde0ef"
            ],
            [
             0.5,
             "#f7f7f7"
            ],
            [
             0.6,
             "#e6f5d0"
            ],
            [
             0.7,
             "#b8e186"
            ],
            [
             0.8,
             "#7fbc41"
            ],
            [
             0.9,
             "#4d9221"
            ],
            [
             1,
             "#276419"
            ]
           ],
           "sequential": [
            [
             0,
             "#0d0887"
            ],
            [
             0.1111111111111111,
             "#46039f"
            ],
            [
             0.2222222222222222,
             "#7201a8"
            ],
            [
             0.3333333333333333,
             "#9c179e"
            ],
            [
             0.4444444444444444,
             "#bd3786"
            ],
            [
             0.5555555555555556,
             "#d8576b"
            ],
            [
             0.6666666666666666,
             "#ed7953"
            ],
            [
             0.7777777777777778,
             "#fb9f3a"
            ],
            [
             0.8888888888888888,
             "#fdca26"
            ],
            [
             1,
             "#f0f921"
            ]
           ],
           "sequentialminus": [
            [
             0,
             "#0d0887"
            ],
            [
             0.1111111111111111,
             "#46039f"
            ],
            [
             0.2222222222222222,
             "#7201a8"
            ],
            [
             0.3333333333333333,
             "#9c179e"
            ],
            [
             0.4444444444444444,
             "#bd3786"
            ],
            [
             0.5555555555555556,
             "#d8576b"
            ],
            [
             0.6666666666666666,
             "#ed7953"
            ],
            [
             0.7777777777777778,
             "#fb9f3a"
            ],
            [
             0.8888888888888888,
             "#fdca26"
            ],
            [
             1,
             "#f0f921"
            ]
           ]
          },
          "colorway": [
           "#636efa",
           "#EF553B",
           "#00cc96",
           "#ab63fa",
           "#FFA15A",
           "#19d3f3",
           "#FF6692",
           "#B6E880",
           "#FF97FF",
           "#FECB52"
          ],
          "font": {
           "color": "#2a3f5f"
          },
          "geo": {
           "bgcolor": "white",
           "lakecolor": "white",
           "landcolor": "#E5ECF6",
           "showlakes": true,
           "showland": true,
           "subunitcolor": "white"
          },
          "hoverlabel": {
           "align": "left"
          },
          "hovermode": "closest",
          "mapbox": {
           "style": "light"
          },
          "paper_bgcolor": "white",
          "plot_bgcolor": "#E5ECF6",
          "polar": {
           "angularaxis": {
            "gridcolor": "white",
            "linecolor": "white",
            "ticks": ""
           },
           "bgcolor": "#E5ECF6",
           "radialaxis": {
            "gridcolor": "white",
            "linecolor": "white",
            "ticks": ""
           }
          },
          "scene": {
           "xaxis": {
            "backgroundcolor": "#E5ECF6",
            "gridcolor": "white",
            "gridwidth": 2,
            "linecolor": "white",
            "showbackground": true,
            "ticks": "",
            "zerolinecolor": "white"
           },
           "yaxis": {
            "backgroundcolor": "#E5ECF6",
            "gridcolor": "white",
            "gridwidth": 2,
            "linecolor": "white",
            "showbackground": true,
            "ticks": "",
            "zerolinecolor": "white"
           },
           "zaxis": {
            "backgroundcolor": "#E5ECF6",
            "gridcolor": "white",
            "gridwidth": 2,
            "linecolor": "white",
            "showbackground": true,
            "ticks": "",
            "zerolinecolor": "white"
           }
          },
          "shapedefaults": {
           "line": {
            "color": "#2a3f5f"
           }
          },
          "ternary": {
           "aaxis": {
            "gridcolor": "white",
            "linecolor": "white",
            "ticks": ""
           },
           "baxis": {
            "gridcolor": "white",
            "linecolor": "white",
            "ticks": ""
           },
           "bgcolor": "#E5ECF6",
           "caxis": {
            "gridcolor": "white",
            "linecolor": "white",
            "ticks": ""
           }
          },
          "title": {
           "x": 0.05
          },
          "xaxis": {
           "automargin": true,
           "gridcolor": "white",
           "linecolor": "white",
           "ticks": "",
           "title": {
            "standoff": 15
           },
           "zerolinecolor": "white",
           "zerolinewidth": 2
          },
          "yaxis": {
           "automargin": true,
           "gridcolor": "white",
           "linecolor": "white",
           "ticks": "",
           "title": {
            "standoff": 15
           },
           "zerolinecolor": "white",
           "zerolinewidth": 2
          }
         }
        },
        "title": {
         "text": "All Commodities — Monthly Volume: History & Forecast"
        },
        "width": 900,
        "xaxis": {
         "rangeselector": {
          "buttons": [
           {
            "count": 7,
            "label": "1w",
            "step": "day",
            "stepmode": "backward"
           },
           {
            "count": 1,
            "label": "1m",
            "step": "month",
            "stepmode": "backward"
           },
           {
            "count": 6,
            "label": "6m",
            "step": "month",
            "stepmode": "backward"
           },
           {
            "count": 1,
            "label": "1y",
            "step": "year",
            "stepmode": "backward"
           },
           {
            "step": "all"
           }
          ]
         },
         "rangeslider": {
          "visible": true
         },
         "title": {
          "text": "ds"
         },
         "type": "date"
        },
        "yaxis": {
         "title": {
          "text": "y"
         }
        }
       }
      },
      "image/png": "[encoded data removed]"
     },
     "metadata": {},
     "output_type": "display_data"
    }
   ],
   "source": [
    "from prophet.plot import plot_plotly\n",
    "fig = plot_plotly(m_all, fc_all)\n",
    "fig.update_layout(title=\"All Commodities — Monthly Volume: History & Forecast\")\n",
    "fig"
   ]
  },
  {
   "cell_type": "markdown",
   "id": "77b92666-0f43-4722-83d1-92f43bcba182",
   "metadata": {
    "jp-MarkdownHeadingCollapsed": true
   },
   "source": [
    "## 4.6 Forecast by Commodity\n",
    "\n",
    "To gain deeper insight, we fit separate Prophet models for each commodity.  \n",
    "This allows us to see differences in forecast accuracy and seasonal patterns.  "
   ]
  },
  {
   "cell_type": "code",
   "execution_count": 24,
   "id": "6af098bb-446a-405b-94a9-083b580132d1",
   "metadata": {
    "scrolled": true
   },
   "outputs": [
    {
     "name": "stderr",
     "output_type": "stream",
     "text": [
      "14:25:04 - cmdstanpy - INFO - Chain [1] start processing\n",
      "14:25:04 - cmdstanpy - INFO - Chain [1] done processing\n",
      "14:25:04 - cmdstanpy - INFO - Chain [1] start processing\n",
      "14:25:04 - cmdstanpy - INFO - Chain [1] done processing\n"
     ]
    },
    {
     "data": {
      "text/html": [
       "<div>\n",
       "<style scoped>\n",
       "    .dataframe tbody tr th:only-of-type {\n",
       "        vertical-align: middle;\n",
       "    }\n",
       "\n",
       "    .dataframe tbody tr th {\n",
       "        vertical-align: top;\n",
       "    }\n",
       "\n",
       "    .dataframe thead th {\n",
       "        text-align: right;\n",
       "    }\n",
       "</style>\n",
       "<table border=\"1\" class=\"dataframe\">\n",
       "  <thead>\n",
       "    <tr style=\"text-align: right;\">\n",
       "      <th></th>\n",
       "      <th>commodity</th>\n",
       "      <th>rows</th>\n",
       "      <th>mape</th>\n",
       "    </tr>\n",
       "  </thead>\n",
       "  <tbody>\n",
       "    <tr>\n",
       "      <th>0</th>\n",
       "      <td>Gas (Mcf)</td>\n",
       "      <td>125</td>\n",
       "      <td>0.022809</td>\n",
       "    </tr>\n",
       "    <tr>\n",
       "      <th>1</th>\n",
       "      <td>Oil (Bbl)</td>\n",
       "      <td>125</td>\n",
       "      <td>0.039653</td>\n",
       "    </tr>\n",
       "  </tbody>\n",
       "</table>\n",
       "</div>"
      ],
      "text/plain": [
       "   commodity  rows      mape\n",
       "0  Gas (Mcf)   125  0.022809\n",
       "1  Oil (Bbl)   125  0.039653"
      ]
     },
     "execution_count": 24,
     "metadata": {},
     "output_type": "execute_result"
    }
   ],
   "source": [
    "commodities = df[\"commodity\"].dropna().unique().tolist()\n",
    "results = []\n",
    "models, forecasts = {}, {}\n",
    "\n",
    "for com in sorted(commodities):\n",
    "    series = (df[df[\"commodity\"]==com]\n",
    "              .groupby(pd.Grouper(key=\"production_date\", freq=\"MS\"))[\"volume\"]\n",
    "              .sum().reset_index()\n",
    "              .rename(columns={\"production_date\":\"ds\",\"volume\":\"y\"})\n",
    "              .sort_values(\"ds\"))\n",
    "    if len(series) < 24:\n",
    "        continue\n",
    "\n",
    "    tr = series.iloc[:-holdout_months, :]\n",
    "    te = series.iloc[-holdout_months:, :]\n",
    "\n",
    "    m = Prophet(yearly_seasonality=True, weekly_seasonality=False, daily_seasonality=False, stan_backend=\"CMDSTANPY\")\n",
    "    m.fit(tr)\n",
    "    fut = m.make_future_dataframe(periods=36, freq=\"MS\")\n",
    "    fc  = m.predict(fut)\n",
    "\n",
    "    merged = te.merge(fc[[\"ds\",\"yhat\"]], on=\"ds\", how=\"left\")\n",
    "    metric = mape(merged[\"y\"], merged[\"yhat\"])\n",
    "\n",
    "    results.append({\"commodity\": com, \"rows\": len(series), \"mape\": float(metric)})\n",
    "    models[com] = m\n",
    "    forecasts[com] = fc\n",
    "\n",
    "pd.DataFrame(results).sort_values(\"mape\")"
   ]
  },
  {
   "cell_type": "markdown",
   "id": "ffa4f601-9ebd-47f7-a1ab-bc59a407beb4",
   "metadata": {},
   "source": [
    "## 4.7 Visualize One Commodity’s Forecast\n",
    "\n",
    "We pick the commodity with the lowest MAPE and visualize both its forecast and seasonal components.  "
   ]
  },
  {
   "cell_type": "code",
   "execution_count": 25,
   "id": "4425a43d-c82c-4891-93aa-0ba6fcbbe4a5",
   "metadata": {
    "jupyter": {
     "source_hidden": true
    }
   },
   "outputs": [
    {
     "data": {
      "application/vnd.plotly.v1+json": {
       "config": {
        "plotlyServerURL": "https://plot.ly"
       },
       "data": [
        {
         "marker": {
          "color": "black",
          "size": 4
         },
         "mode": "markers",
         "name": "Actual",
         "type": "scatter",
         "x": [
          "2015-01-01T00:00:00.000000000",
          "2015-02-01T00:00:00.000000000",
          "2015-03-01T00:00:00.000000000",
          "2015-04-01T00:00:00.000000000",
          "2015-05-01T00:00:00.000000000",
          "2015-06-01T00:00:00.000000000",
          "2015-07-01T00:00:00.000000000",
          "2015-08-01T00:00:00.000000000",
          "2015-09-01T00:00:00.000000000",
          "2015-10-01T00:00:00.000000000",
          "2015-11-01T00:00:00.000000000",
          "2015-12-01T00:00:00.000000000",
          "2016-01-01T00:00:00.000000000",
          "2016-02-01T00:00:00.000000000",
          "2016-03-01T00:00:00.000000000",
          "2016-04-01T00:00:00.000000000",
          "2016-05-01T00:00:00.000000000",
          "2016-06-01T00:00:00.000000000",
          "2016-07-01T00:00:00.000000000",
          "2016-08-01T00:00:00.000000000",
          "2016-09-01T00:00:00.000000000",
          "2016-10-01T00:00:00.000000000",
          "2016-11-01T00:00:00.000000000",
          "2016-12-01T00:00:00.000000000",
          "2017-01-01T00:00:00.000000000",
          "2017-02-01T00:00:00.000000000",
          "2017-03-01T00:00:00.000000000",
          "2017-04-01T00:00:00.000000000",
          "2017-05-01T00:00:00.000000000",
          "2017-06-01T00:00:00.000000000",
          "2017-07-01T00:00:00.000000000",
          "2017-08-01T00:00:00.000000000",
          "2017-09-01T00:00:00.000000000",
          "2017-10-01T00:00:00.000000000",
          "2017-11-01T00:00:00.000000000",
          "2017-12-01T00:00:00.000000000",
          "2018-01-01T00:00:00.000000000",
          "2018-02-01T00:00:00.000000000",
          "2018-03-01T00:00:00.000000000",
          "2018-04-01T00:00:00.000000000",
          "2018-05-01T00:00:00.000000000",
          "2018-06-01T00:00:00.000000000",
          "2018-07-01T00:00:00.000000000",
          "2018-08-01T00:00:00.000000000",
          "2018-09-01T00:00:00.000000000",
          "2018-10-01T00:00:00.000000000",
          "2018-11-01T00:00:00.000000000",
          "2018-12-01T00:00:00.000000000",
          "2019-01-01T00:00:00.000000000",
          "2019-02-01T00:00:00.000000000",
          "2019-03-01T00:00:00.000000000",
          "2019-04-01T00:00:00.000000000",
          "2019-05-01T00:00:00.000000000",
          "2019-06-01T00:00:00.000000000",
          "2019-07-01T00:00:00.000000000",
          "2019-08-01T00:00:00.000000000",
          "2019-09-01T00:00:00.000000000",
          "2019-10-01T00:00:00.000000000",
          "2019-11-01T00:00:00.000000000",
          "2019-12-01T00:00:00.000000000",
          "2020-01-01T00:00:00.000000000",
          "2020-02-01T00:00:00.000000000",
          "2020-03-01T00:00:00.000000000",
          "2020-04-01T00:00:00.000000000",
          "2020-05-01T00:00:00.000000000",
          "2020-06-01T00:00:00.000000000",
          "2020-07-01T00:00:00.000000000",
          "2020-08-01T00:00:00.000000000",
          "2020-09-01T00:00:00.000000000",
          "2020-10-01T00:00:00.000000000",
          "2020-11-01T00:00:00.000000000",
          "2020-12-01T00:00:00.000000000",
          "2021-01-01T00:00:00.000000000",
          "2021-02-01T00:00:00.000000000",
          "2021-03-01T00:00:00.000000000",
          "2021-04-01T00:00:00.000000000",
          "2021-05-01T00:00:00.000000000",
          "2021-06-01T00:00:00.000000000",
          "2021-07-01T00:00:00.000000000",
          "2021-08-01T00:00:00.000000000",
          "2021-09-01T00:00:00.000000000",
          "2021-10-01T00:00:00.000000000",
          "2021-11-01T00:00:00.000000000",
          "2021-12-01T00:00:00.000000000",
          "2022-01-01T00:00:00.000000000",
          "2022-02-01T00:00:00.000000000",
          "2022-03-01T00:00:00.000000000",
          "2022-04-01T00:00:00.000000000",
          "2022-05-01T00:00:00.000000000",
          "2022-06-01T00:00:00.000000000",
          "2022-07-01T00:00:00.000000000",
          "2022-08-01T00:00:00.000000000",
          "2022-09-01T00:00:00.000000000",
          "2022-10-01T00:00:00.000000000",
          "2022-11-01T00:00:00.000000000",
          "2022-12-01T00:00:00.000000000",
          "2023-01-01T00:00:00.000000000",
          "2023-02-01T00:00:00.000000000",
          "2023-03-01T00:00:00.000000000",
          "2023-04-01T00:00:00.000000000",
          "2023-05-01T00:00:00.000000000",
          "2023-06-01T00:00:00.000000000",
          "2023-07-01T00:00:00.000000000",
          "2023-08-01T00:00:00.000000000",
          "2023-09-01T00:00:00.000000000",
          "2023-10-01T00:00:00.000000000",
          "2023-11-01T00:00:00.000000000"
         ],
         "y": {
          "bdata": "roS8GQyfQxevJHAZr6uXGf41Khp8TxgZPt5EGjEVZhpx06wZrrvxGSZf1xgUJWAZJV/aGDHjTxdyBVAZ3oXhF4DMjhgQNFwXUpFkFzcozheBpoMXeoy3GEo5wReHMGMYMWDhF4xHnhWymE4YBWElF8bGrBfghcAW6xe0F5QUbRc6V+sWjBoeF3Uz1haF+WoXWSNZF6GyZBUiY+AX5x/PFpZNdxc3IKoW9O5EGEFjvRi0T7oXTv5yGIE3+BfRy8UY2KJnGODt7xWus+oYS2weGF/Q1xhWSOcXXOi6FpxzmhhmDDcY438xGeUSehgEWlYZitYNGRKuURdmrwsZmZztFj0EGhUIBswUBNogFrRY5BSt3toUJQflFPPQ5hXAQaYWUTf8Fv8iVRT4YoQXwsjkFkEbuRfkucMWBHPQF1i6Zxel7X0V54XaFzldrRczyFQYqV/IF0SjlxXsQYYYFZM0GDQIoBhi9RgY5kRPGbUAKxmjr9EYalAOGlMBLxkpy8oZqHxpGuKwfRe3y04a0DsYGX+I9Bntux8Z308jGdQq7BnLBW8ZnmGCGniEOho=",
          "dtype": "i4"
         }
        },
        {
         "hoverinfo": "skip",
         "line": {
          "width": 0
         },
         "mode": "lines",
         "type": "scatter",
         "x": [
          "2015-01-01T00:00:00.000000000",
          "2015-02-01T00:00:00.000000000",
          "2015-03-01T00:00:00.000000000",
          "2015-04-01T00:00:00.000000000",
          "2015-05-01T00:00:00.000000000",
          "2015-06-01T00:00:00.000000000",
          "2015-07-01T00:00:00.000000000",
          "2015-08-01T00:00:00.000000000",
          "2015-09-01T00:00:00.000000000",
          "2015-10-01T00:00:00.000000000",
          "2015-11-01T00:00:00.000000000",
          "2015-12-01T00:00:00.000000000",
          "2016-01-01T00:00:00.000000000",
          "2016-02-01T00:00:00.000000000",
          "2016-03-01T00:00:00.000000000",
          "2016-04-01T00:00:00.000000000",
          "2016-05-01T00:00:00.000000000",
          "2016-06-01T00:00:00.000000000",
          "2016-07-01T00:00:00.000000000",
          "2016-08-01T00:00:00.000000000",
          "2016-09-01T00:00:00.000000000",
          "2016-10-01T00:00:00.000000000",
          "2016-11-01T00:00:00.000000000",
          "2016-12-01T00:00:00.000000000",
          "2017-01-01T00:00:00.000000000",
          "2017-02-01T00:00:00.000000000",
          "2017-03-01T00:00:00.000000000",
          "2017-04-01T00:00:00.000000000",
          "2017-05-01T00:00:00.000000000",
          "2017-06-01T00:00:00.000000000",
          "2017-07-01T00:00:00.000000000",
          "2017-08-01T00:00:00.000000000",
          "2017-09-01T00:00:00.000000000",
          "2017-10-01T00:00:00.000000000",
          "2017-11-01T00:00:00.000000000",
          "2017-12-01T00:00:00.000000000",
          "2018-01-01T00:00:00.000000000",
          "2018-02-01T00:00:00.000000000",
          "2018-03-01T00:00:00.000000000",
          "2018-04-01T00:00:00.000000000",
          "2018-05-01T00:00:00.000000000",
          "2018-06-01T00:00:00.000000000",
          "2018-07-01T00:00:00.000000000",
          "2018-08-01T00:00:00.000000000",
          "2018-09-01T00:00:00.000000000",
          "2018-10-01T00:00:00.000000000",
          "2018-11-01T00:00:00.000000000",
          "2018-12-01T00:00:00.000000000",
          "2019-01-01T00:00:00.000000000",
          "2019-02-01T00:00:00.000000000",
          "2019-03-01T00:00:00.000000000",
          "2019-04-01T00:00:00.000000000",
          "2019-05-01T00:00:00.000000000",
          "2019-06-01T00:00:00.000000000",
          "2019-07-01T00:00:00.000000000",
          "2019-08-01T00:00:00.000000000",
          "2019-09-01T00:00:00.000000000",
          "2019-10-01T00:00:00.000000000",
          "2019-11-01T00:00:00.000000000",
          "2019-12-01T00:00:00.000000000",
          "2020-01-01T00:00:00.000000000",
          "2020-02-01T00:00:00.000000000",
          "2020-03-01T00:00:00.000000000",
          "2020-04-01T00:00:00.000000000",
          "2020-05-01T00:00:00.000000000",
          "2020-06-01T00:00:00.000000000",
          "2020-07-01T00:00:00.000000000",
          "2020-08-01T00:00:00.000000000",
          "2020-09-01T00:00:00.000000000",
          "2020-10-01T00:00:00.000000000",
          "2020-11-01T00:00:00.000000000",
          "2020-12-01T00:00:00.000000000",
          "2021-01-01T00:00:00.000000000",
          "2021-02-01T00:00:00.000000000",
          "2021-03-01T00:00:00.000000000",
          "2021-04-01T00:00:00.000000000",
          "2021-05-01T00:00:00.000000000",
          "2021-06-01T00:00:00.000000000",
          "2021-07-01T00:00:00.000000000",
          "2021-08-01T00:00:00.000000000",
          "2021-09-01T00:00:00.000000000",
          "2021-10-01T00:00:00.000000000",
          "2021-11-01T00:00:00.000000000",
          "2021-12-01T00:00:00.000000000",
          "2022-01-01T00:00:00.000000000",
          "2022-02-01T00:00:00.000000000",
          "2022-03-01T00:00:00.000000000",
          "2022-04-01T00:00:00.000000000",
          "2022-05-01T00:00:00.000000000",
          "2022-06-01T00:00:00.000000000",
          "2022-07-01T00:00:00.000000000",
          "2022-08-01T00:00:00.000000000",
          "2022-09-01T00:00:00.000000000",
          "2022-10-01T00:00:00.000000000",
          "2022-11-01T00:00:00.000000000",
          "2022-12-01T00:00:00.000000000",
          "2023-01-01T00:00:00.000000000",
          "2023-02-01T00:00:00.000000000",
          "2023-03-01T00:00:00.000000000",
          "2023-04-01T00:00:00.000000000",
          "2023-05-01T00:00:00.000000000",
          "2023-06-01T00:00:00.000000000",
          "2023-07-01T00:00:00.000000000",
          "2023-08-01T00:00:00.000000000",
          "2023-09-01T00:00:00.000000000",
          "2023-10-01T00:00:00.000000000",
          "2023-11-01T00:00:00.000000000",
          "2023-12-01T00:00:00.000000000",
          "2024-01-01T00:00:00.000000000",
          "2024-02-01T00:00:00.000000000",
          "2024-03-01T00:00:00.000000000",
          "2024-04-01T00:00:00.000000000",
          "2024-05-01T00:00:00.000000000",
          "2024-06-01T00:00:00.000000000",
          "2024-07-01T00:00:00.000000000",
          "2024-08-01T00:00:00.000000000",
          "2024-09-01T00:00:00.000000000",
          "2024-10-01T00:00:00.000000000",
          "2024-11-01T00:00:00.000000000",
          "2024-12-01T00:00:00.000000000",
          "2025-01-01T00:00:00.000000000",
          "2025-02-01T00:00:00.000000000",
          "2025-03-01T00:00:00.000000000",
          "2025-04-01T00:00:00.000000000",
          "2025-05-01T00:00:00.000000000",
          "2025-06-01T00:00:00.000000000",
          "2025-07-01T00:00:00.000000000",
          "2025-08-01T00:00:00.000000000",
          "2025-09-01T00:00:00.000000000",
          "2025-10-01T00:00:00.000000000",
          "2025-11-01T00:00:00.000000000",
          "2025-12-01T00:00:00.000000000",
          "2026-01-01T00:00:00.000000000",
          "2026-02-01T00:00:00.000000000",
          "2026-03-01T00:00:00.000000000",
          "2026-04-01T00:00:00.000000000",
          "2026-05-01T00:00:00.000000000",
          "2026-06-01T00:00:00.000000000",
          "2026-07-01T00:00:00.000000000",
          "2026-08-01T00:00:00.000000000",
          "2026-09-01T00:00:00.000000000",
          "2026-10-01T00:00:00.000000000",
          "2026-11-01T00:00:00.000000000"
         ],
         "y": {
          "bdata": "oCAgSMcEuUHR10L1+se2QVew1c3itLhB4iSzq9MiuEFyFiTgrby4QWcbvGSomLdBMdn55/HPt0FYCL7w9XC4QbR0gRRGqbdB2hMS/NltuEGpC1+sPqa3QXcRhTnPcLhBK4OMymJSuEGqde3FwUu2QVoWX+595rhBu7nZYGJbt0HDpm9Cg023QS5U8EqPmLZBzLXEIi7Ft0FiA2hrAj23QS0yLBsMvbZBVuWPz5qMt0F013r+GVC3QQ2U5UC7sLdBnPWzh6Jat0HiP7DIRpm0QaL+UDkA2bdByOH6C1GftkH4cfMuKsC2QQPrcvb1DrZBA/1n9jjztkHG0akd1cO2QQTAiGLnN7ZB3DQnSl8Wt0Hm8Fw45s22QWQwVVe1XLdBcX6y4MoPt0HUr/LDda20Qbo7M8OeR7dBqNcxrrFitkEC7P00jvK2QbchTd1787VBY4k5Yg6JtkHb6la3a962QS8g5pv/ArZB1NoNb+wAt0FdXqoM0X+2QTZseErrKrdBQB3d3KrytkG7KLleqdi0Qa8tRzkSs7ZBpim+qmMztkE1ydBMguS2QThqJMtr2bVBejcQQBAJtkFk4lJ5G7m2Qdy7u2T467VB8+ysUc25tkHQH3mKhBu2QeHI1xZhz7ZBZ8+I9XuvtkEdxTnzKqy0QTrvkxR0gLdBeWdj6IoAtkEgM92aoNG1QUmjD6s6NbVB0t+bKN9jtkHV0eACF9m1QdObCQeMUrVB7oNmdyNMtkHrEATuqxS2QSuJM+R0nrZBgefvl8cltkHkAMnLHrWzQZJNl/dcArdBp4Wr57LNtUEELADHDiq2QVP5YR61hrVBgL+HwiOHtkGU/ULuvny2QarjzD/5D7ZBZr3TWCf+tkGiIHkLc7m2QSwoh3KZdbdBlAnvPxJLt0GMsR11Qha1QZMB/GQLvbdB6B4N4XEJt0E+LPHkm6G3QWSh+UTzyLZB3GFN31J1t0HAGpEWMuC3QXBdYoD2RLdB0WdF7o88uEGjveSSQN23QU74xI8Cs7hBho7zTrKxuEENCKw6PKW2QYdvKC0jn7hBhpAVbWE1uEEDB2JFbhm5QRioGiULG7hBDBuhXOKHuEFMFzbI/k65QWCG3v5JmLhBB1oArd+quUFfC6nNKiK5QVZoZDd5+blB33oRgPcKukFBMmj+ozO4QWX5I93TGbtB4XvDWl6uuUEXfdfZwbS5QVwJ5qgrJrlBQsvMMrd8ukFRqQ6zaTO6QWR+J1xu3LlBLGWWo6y2ukHa/BgDBrO6QTHr3jI6WbtB89xUMfQWu0HJQ7gHrZ24QQVK3uDB87tBcASA+M3lukGZcTR/iTm7QRrQ8LqglrpBKBOzyB+Bu0GQXWunmI+7QQMCQoeq9bpBl5SnAqUGvEE1athns7q7Qaco0MNvbbxBI96cgyc6vEGDNh7ojg+6QX6Jg4fYurxB7Z5Gpa/ru0GHQ/3bmnO8Qa58ypvmqLtBhxJLx9xHvEGrzlnix8C8QVf/cNo597tBe6OvrhsFvUECjvbZJZW8QQ==",
          "dtype": "f8"
         }
        },
        {
         "fill": "tonexty",
         "fillcolor": "rgba(0, 114, 178, 0.2)",
         "line": {
          "color": "#0072B2",
          "width": 2
         },
         "mode": "lines",
         "name": "Predicted",
         "type": "scatter",
         "x": [
          "2015-01-01T00:00:00.000000000",
          "2015-02-01T00:00:00.000000000",
          "2015-03-01T00:00:00.000000000",
          "2015-04-01T00:00:00.000000000",
          "2015-05-01T00:00:00.000000000",
          "2015-06-01T00:00:00.000000000",
          "2015-07-01T00:00:00.000000000",
          "2015-08-01T00:00:00.000000000",
          "2015-09-01T00:00:00.000000000",
          "2015-10-01T00:00:00.000000000",
          "2015-11-01T00:00:00.000000000",
          "2015-12-01T00:00:00.000000000",
          "2016-01-01T00:00:00.000000000",
          "2016-02-01T00:00:00.000000000",
          "2016-03-01T00:00:00.000000000",
          "2016-04-01T00:00:00.000000000",
          "2016-05-01T00:00:00.000000000",
          "2016-06-01T00:00:00.000000000",
          "2016-07-01T00:00:00.000000000",
          "2016-08-01T00:00:00.000000000",
          "2016-09-01T00:00:00.000000000",
          "2016-10-01T00:00:00.000000000",
          "2016-11-01T00:00:00.000000000",
          "2016-12-01T00:00:00.000000000",
          "2017-01-01T00:00:00.000000000",
          "2017-02-01T00:00:00.000000000",
          "2017-03-01T00:00:00.000000000",
          "2017-04-01T00:00:00.000000000",
          "2017-05-01T00:00:00.000000000",
          "2017-06-01T00:00:00.000000000",
          "2017-07-01T00:00:00.000000000",
          "2017-08-01T00:00:00.000000000",
          "2017-09-01T00:00:00.000000000",
          "2017-10-01T00:00:00.000000000",
          "2017-11-01T00:00:00.000000000",
          "2017-12-01T00:00:00.000000000",
          "2018-01-01T00:00:00.000000000",
          "2018-02-01T00:00:00.000000000",
          "2018-03-01T00:00:00.000000000",
          "2018-04-01T00:00:00.000000000",
          "2018-05-01T00:00:00.000000000",
          "2018-06-01T00:00:00.000000000",
          "2018-07-01T00:00:00.000000000",
          "2018-08-01T00:00:00.000000000",
          "2018-09-01T00:00:00.000000000",
          "2018-10-01T00:00:00.000000000",
          "2018-11-01T00:00:00.000000000",
          "2018-12-01T00:00:00.000000000",
          "2019-01-01T00:00:00.000000000",
          "2019-02-01T00:00:00.000000000",
          "2019-03-01T00:00:00.000000000",
          "2019-04-01T00:00:00.000000000",
          "2019-05-01T00:00:00.000000000",
          "2019-06-01T00:00:00.000000000",
          "2019-07-01T00:00:00.000000000",
          "2019-08-01T00:00:00.000000000",
          "2019-09-01T00:00:00.000000000",
          "2019-10-01T00:00:00.000000000",
          "2019-11-01T00:00:00.000000000",
          "2019-12-01T00:00:00.000000000",
          "2020-01-01T00:00:00.000000000",
          "2020-02-01T00:00:00.000000000",
          "2020-03-01T00:00:00.000000000",
          "2020-04-01T00:00:00.000000000",
          "2020-05-01T00:00:00.000000000",
          "2020-06-01T00:00:00.000000000",
          "2020-07-01T00:00:00.000000000",
          "2020-08-01T00:00:00.000000000",
          "2020-09-01T00:00:00.000000000",
          "2020-10-01T00:00:00.000000000",
          "2020-11-01T00:00:00.000000000",
          "2020-12-01T00:00:00.000000000",
          "2021-01-01T00:00:00.000000000",
          "2021-02-01T00:00:00.000000000",
          "2021-03-01T00:00:00.000000000",
          "2021-04-01T00:00:00.000000000",
          "2021-05-01T00:00:00.000000000",
          "2021-06-01T00:00:00.000000000",
          "2021-07-01T00:00:00.000000000",
          "2021-08-01T00:00:00.000000000",
          "2021-09-01T00:00:00.000000000",
          "2021-10-01T00:00:00.000000000",
          "2021-11-01T00:00:00.000000000",
          "2021-12-01T00:00:00.000000000",
          "2022-01-01T00:00:00.000000000",
          "2022-02-01T00:00:00.000000000",
          "2022-03-01T00:00:00.000000000",
          "2022-04-01T00:00:00.000000000",
          "2022-05-01T00:00:00.000000000",
          "2022-06-01T00:00:00.000000000",
          "2022-07-01T00:00:00.000000000",
          "2022-08-01T00:00:00.000000000",
          "2022-09-01T00:00:00.000000000",
          "2022-10-01T00:00:00.000000000",
          "2022-11-01T00:00:00.000000000",
          "2022-12-01T00:00:00.000000000",
          "2023-01-01T00:00:00.000000000",
          "2023-02-01T00:00:00.000000000",
          "2023-03-01T00:00:00.000000000",
          "2023-04-01T00:00:00.000000000",
          "2023-05-01T00:00:00.000000000",
          "2023-06-01T00:00:00.000000000",
          "2023-07-01T00:00:00.000000000",
          "2023-08-01T00:00:00.000000000",
          "2023-09-01T00:00:00.000000000",
          "2023-10-01T00:00:00.000000000",
          "2023-11-01T00:00:00.000000000",
          "2023-12-01T00:00:00.000000000",
          "2024-01-01T00:00:00.000000000",
          "2024-02-01T00:00:00.000000000",
          "2024-03-01T00:00:00.000000000",
          "2024-04-01T00:00:00.000000000",
          "2024-05-01T00:00:00.000000000",
          "2024-06-01T00:00:00.000000000",
          "2024-07-01T00:00:00.000000000",
          "2024-08-01T00:00:00.000000000",
          "2024-09-01T00:00:00.000000000",
          "2024-10-01T00:00:00.000000000",
          "2024-11-01T00:00:00.000000000",
          "2024-12-01T00:00:00.000000000",
          "2025-01-01T00:00:00.000000000",
          "2025-02-01T00:00:00.000000000",
          "2025-03-01T00:00:00.000000000",
          "2025-04-01T00:00:00.000000000",
          "2025-05-01T00:00:00.000000000",
          "2025-06-01T00:00:00.000000000",
          "2025-07-01T00:00:00.000000000",
          "2025-08-01T00:00:00.000000000",
          "2025-09-01T00:00:00.000000000",
          "2025-10-01T00:00:00.000000000",
          "2025-11-01T00:00:00.000000000",
          "2025-12-01T00:00:00.000000000",
          "2026-01-01T00:00:00.000000000",
          "2026-02-01T00:00:00.000000000",
          "2026-03-01T00:00:00.000000000",
          "2026-04-01T00:00:00.000000000",
          "2026-05-01T00:00:00.000000000",
          "2026-06-01T00:00:00.000000000",
          "2026-07-01T00:00:00.000000000",
          "2026-08-01T00:00:00.000000000",
          "2026-09-01T00:00:00.000000000",
          "2026-10-01T00:00:00.000000000",
          "2026-11-01T00:00:00.000000000"
         ],
         "y": {
          "bdata": "sRjFCycGukEiid4BPNC3QdYFVrvesblBWYr632sYuUFE8xL8nsG5QbASthlxo7hB8Ct2CzPRuEHmA0EyHm25QWviyNr9lLhB+lDbJVJouUHx6M//Gau4QW87zVtia7lB2neTMZ9EuUHT5gtiPUe3Qd7lPGAF9LlBMTHsNTBouEGQd2NZ+0W4QXj72EzHmrdBU8cYr3DDuEGJP+je+Tq4QSnFtPVNq7dBPhdoQZN6uEFlEVCFPEK4QS4rPlA8r7hBSRuKbhJIuEHMr79zk6K1QUyCLed+17hBRJLMZJKgt0F1DpOme863QeBpN5rsCbdBXIOXGoHot0EK4iXe6s63Qf6IM7VKNrdBvrWBz74UuEFcGZsvO723QaiRjFZHUrhBajk5WEAOuEFcZ/3uOqy1QawUOBs+QbhBQ9kC2oVit0FXEb6mI9e3QZ6ASWw177ZBvvGvewB9t0Ecu93n58S3QbVdfokhFLdBhty3jzH0t0EWjXY5pHC3QdPeqsC4IbhB7DMPD3Lzt0F+HMj2wcu1Qecs4BY/urdBfR7Cmjktt0G/i+x1c+K3QZjDmfKy0LZBaeRro3sKt0FCF/qIa7C3Qavcd/BP4rZBqtOpPla/t0H2j2XkvQm3Qe0zmxVn0bdBwymktkOyt0HhOmuygby1QbZzjI9rcLhBUJA8MDbstkFQXqwoYtG2QWcqIefNLbZB8+W/F9Zdt0GhN636/Ny2QZw1UnFFXLZB+5u/2Tw5t0E7rjQZDQ+3QWbc3AC/ibdBHNdbQMI8t0GaIODPZ6u0QXU/fMiE8rdBR2chb7bZtkHLKpunfiC3QfQ0X82idbZBk+Ezd1Vzt0E8q0cG73a3Qc6/2qh++7ZB0qgdiDH2t0EZX452Eb63QeH7HPV9cbhBPJ+FhNpMuEFUOiGpOAq2Qal+qMCVu7hBO1MaDUH8t0FndF4xP4+4Qc4WkIS0xrdBupx+699yuEHTmVLlKtq4QYdxmRTISLhBDVbncjhHuUFqOt2qDuO4QT7xJYqDsrlB4p4BaKCjuUEz5DHfU5u3QbLfOewqprlBkDT1kVY6uUGtSht1rw+6QWnjoRMgH7lBxalvzAd5uUEi+h10kUK6QVjdu50PmLlBjucMsImXukEchRcL8Ae6QT5I0y1e9LpBJx0rhDn7ukEtJTU1diu5QW6gCEDrArxB2q37lbSkukHFFeZ/pa66QY9fn/MPMbpBeTW6Fd2Fu0E/AeytAiu7QT/dGi3zyLpBp0yBdJXDu0HpO4C8Dbi7QXF3IYNqULxBEFuEpQ8WvEFZkewXV5e5QRSLVllI77xB/DkoRCLfu0G3k7xCSy68QVUirawXjLtBfhrb6euLvEHePNw7uZG8QVWpXKF8GLxBXd34E1EVvUEDCIUCMd28QYkyLoGdkL1BFkSyEPprvUEH3001WCm7QRgj1Uy12r1B3vhGmWAbvUF1G4u9Xq69Qe2+vBDU5bxB4EGrd/+RvUH1QH9xSvm9QccZxqDnZ71BZf0T/1dmvkGk4gk3LgK+QQ==",
          "dtype": "f8"
         }
        },
        {
         "fill": "tonexty",
         "fillcolor": "rgba(0, 114, 178, 0.2)",
         "hoverinfo": "skip",
         "line": {
          "width": 0
         },
         "mode": "lines",
         "type": "scatter",
         "x": [
          "2015-01-01T00:00:00.000000000",
          "2015-02-01T00:00:00.000000000",
          "2015-03-01T00:00:00.000000000",
          "2015-04-01T00:00:00.000000000",
          "2015-05-01T00:00:00.000000000",
          "2015-06-01T00:00:00.000000000",
          "2015-07-01T00:00:00.000000000",
          "2015-08-01T00:00:00.000000000",
          "2015-09-01T00:00:00.000000000",
          "2015-10-01T00:00:00.000000000",
          "2015-11-01T00:00:00.000000000",
          "2015-12-01T00:00:00.000000000",
          "2016-01-01T00:00:00.000000000",
          "2016-02-01T00:00:00.000000000",
          "2016-03-01T00:00:00.000000000",
          "2016-04-01T00:00:00.000000000",
          "2016-05-01T00:00:00.000000000",
          "2016-06-01T00:00:00.000000000",
          "2016-07-01T00:00:00.000000000",
          "2016-08-01T00:00:00.000000000",
          "2016-09-01T00:00:00.000000000",
          "2016-10-01T00:00:00.000000000",
          "2016-11-01T00:00:00.000000000",
          "2016-12-01T00:00:00.000000000",
          "2017-01-01T00:00:00.000000000",
          "2017-02-01T00:00:00.000000000",
          "2017-03-01T00:00:00.000000000",
          "2017-04-01T00:00:00.000000000",
          "2017-05-01T00:00:00.000000000",
          "2017-06-01T00:00:00.000000000",
          "2017-07-01T00:00:00.000000000",
          "2017-08-01T00:00:00.000000000",
          "2017-09-01T00:00:00.000000000",
          "2017-10-01T00:00:00.000000000",
          "2017-11-01T00:00:00.000000000",
          "2017-12-01T00:00:00.000000000",
          "2018-01-01T00:00:00.000000000",
          "2018-02-01T00:00:00.000000000",
          "2018-03-01T00:00:00.000000000",
          "2018-04-01T00:00:00.000000000",
          "2018-05-01T00:00:00.000000000",
          "2018-06-01T00:00:00.000000000",
          "2018-07-01T00:00:00.000000000",
          "2018-08-01T00:00:00.000000000",
          "2018-09-01T00:00:00.000000000",
          "2018-10-01T00:00:00.000000000",
          "2018-11-01T00:00:00.000000000",
          "2018-12-01T00:00:00.000000000",
          "2019-01-01T00:00:00.000000000",
          "2019-02-01T00:00:00.000000000",
          "2019-03-01T00:00:00.000000000",
          "2019-04-01T00:00:00.000000000",
          "2019-05-01T00:00:00.000000000",
          "2019-06-01T00:00:00.000000000",
          "2019-07-01T00:00:00.000000000",
          "2019-08-01T00:00:00.000000000",
          "2019-09-01T00:00:00.000000000",
          "2019-10-01T00:00:00.000000000",
          "2019-11-01T00:00:00.000000000",
          "2019-12-01T00:00:00.000000000",
          "2020-01-01T00:00:00.000000000",
          "2020-02-01T00:00:00.000000000",
          "2020-03-01T00:00:00.000000000",
          "2020-04-01T00:00:00.000000000",
          "2020-05-01T00:00:00.000000000",
          "2020-06-01T00:00:00.000000000",
          "2020-07-01T00:00:00.000000000",
          "2020-08-01T00:00:00.000000000",
          "2020-09-01T00:00:00.000000000",
          "2020-10-01T00:00:00.000000000",
          "2020-11-01T00:00:00.000000000",
          "2020-12-01T00:00:00.000000000",
          "2021-01-01T00:00:00.000000000",
          "2021-02-01T00:00:00.000000000",
          "2021-03-01T00:00:00.000000000",
          "2021-04-01T00:00:00.000000000",
          "2021-05-01T00:00:00.000000000",
          "2021-06-01T00:00:00.000000000",
          "2021-07-01T00:00:00.000000000",
          "2021-08-01T00:00:00.000000000",
          "2021-09-01T00:00:00.000000000",
          "2021-10-01T00:00:00.000000000",
          "2021-11-01T00:00:00.000000000",
          "2021-12-01T00:00:00.000000000",
          "2022-01-01T00:00:00.000000000",
          "2022-02-01T00:00:00.000000000",
          "2022-03-01T00:00:00.000000000",
          "2022-04-01T00:00:00.000000000",
          "2022-05-01T00:00:00.000000000",
          "2022-06-01T00:00:00.000000000",
          "2022-07-01T00:00:00.000000000",
          "2022-08-01T00:00:00.000000000",
          "2022-09-01T00:00:00.000000000",
          "2022-10-01T00:00:00.000000000",
          "2022-11-01T00:00:00.000000000",
          "2022-12-01T00:00:00.000000000",
          "2023-01-01T00:00:00.000000000",
          "2023-02-01T00:00:00.000000000",
          "2023-03-01T00:00:00.000000000",
          "2023-04-01T00:00:00.000000000",
          "2023-05-01T00:00:00.000000000",
          "2023-06-01T00:00:00.000000000",
          "2023-07-01T00:00:00.000000000",
          "2023-08-01T00:00:00.000000000",
          "2023-09-01T00:00:00.000000000",
          "2023-10-01T00:00:00.000000000",
          "2023-11-01T00:00:00.000000000",
          "2023-12-01T00:00:00.000000000",
          "2024-01-01T00:00:00.000000000",
          "2024-02-01T00:00:00.000000000",
          "2024-03-01T00:00:00.000000000",
          "2024-04-01T00:00:00.000000000",
          "2024-05-01T00:00:00.000000000",
          "2024-06-01T00:00:00.000000000",
          "2024-07-01T00:00:00.000000000",
          "2024-08-01T00:00:00.000000000",
          "2024-09-01T00:00:00.000000000",
          "2024-10-01T00:00:00.000000000",
          "2024-11-01T00:00:00.000000000",
          "2024-12-01T00:00:00.000000000",
          "2025-01-01T00:00:00.000000000",
          "2025-02-01T00:00:00.000000000",
          "2025-03-01T00:00:00.000000000",
          "2025-04-01T00:00:00.000000000",
          "2025-05-01T00:00:00.000000000",
          "2025-06-01T00:00:00.000000000",
          "2025-07-01T00:00:00.000000000",
          "2025-08-01T00:00:00.000000000",
          "2025-09-01T00:00:00.000000000",
          "2025-10-01T00:00:00.000000000",
          "2025-11-01T00:00:00.000000000",
          "2025-12-01T00:00:00.000000000",
          "2026-01-01T00:00:00.000000000",
          "2026-02-01T00:00:00.000000000",
          "2026-03-01T00:00:00.000000000",
          "2026-04-01T00:00:00.000000000",
          "2026-05-01T00:00:00.000000000",
          "2026-06-01T00:00:00.000000000",
          "2026-07-01T00:00:00.000000000",
          "2026-08-01T00:00:00.000000000",
          "2026-09-01T00:00:00.000000000",
          "2026-10-01T00:00:00.000000000",
          "2026-11-01T00:00:00.000000000"
         ],
         "y": {
          "bdata": "vHcFYRjtukES7FtHGse4QXytX5uxnLpB4GD6lmMLukGlCC/jF8K6QSVK2zIaoLlBSB9WtHjYuUHUurVqWWW6QdCUUFDCnblBLUy4hlZ2ukE5fval97q5QSbrwrQkbbpBefwEs+lCukET7IYCD0O4QYNv8REp6LpBhQhp7VpvuUG4eTHI7ji5QYJz2ZoLkLhBvipSCZS4uUGIefVIPza5QT52P/hor7hBIWmbF+55uUG5/D3QQj65QZSUXfm6n7lBtYx3RUZHuUFoi2ZtUbC2QcEdgSyZ37lBVJQHk2OQuEE4kdHYCLm4QVpra+JZC7hB7BpSvaHXuEF4e8n0u7+4QZ1HBqw8IbhBtYtWOJ8JuUGdiGYF4q+4QZbj0H5yULlBrb7wpfj/uEGrJqiyMp22QUrLJCZ6LrlBXMbyi05TuEEx2o80PNa4QQ3YMCf39LdBkTd0RH5nuEGJhuQqvse4QdSKC796DrhBR9OdMFLxuEEVZBufy3m4QUvp0uH6FblBDljkq9vouEFAO2OvZNu2QfTcyKhIsLhBDYG+OmI8uEEggD0q8PC4QQ4y49Z62bdBurmgTsEDuEFYRY86MK+4QdzK7OBK2rdB8eDGCEK8uEFy8I7JVQ+4QQeP3h4ay7hB7F/FaBW6uEEkZccKi7S2QcKwzi7mb7lBdBvnjU3Yt0H9rhvBQM23Qb6Y6jzBKrdBLiGK3bBSuEEAvFYSgcO3QWbtFsLGSbdBZHThO3o/uEHDD+aCZv+3QXg6tCGjhbhB9FAAVKU0uEHlkdoOxau1QWCRwZc87bhBBne2f+7Yt0Hbto4WcR24QXGfFKXab7dB9SES67R1uEFGhuEoDHS4QR0ggvGeCLhBpauEOTvxuEHDlJ6GGbC4Qdg645dFgLlBFgOwX1NBuUE7tPTsXPm2QXukqj8rvrlBipE5/hL0uEHMm7Q5V4W5QZ8KFgIwxrhBIvR9vjx3uUHlGXR70cG5QfqCuhUmNblByolasc44ukEcfg6JFOi5Qfu6oiWfsbpBbBBJP+KfukHZdMaHh5W4QdXu2j/+oLpBRpA5dhszukFXL/tpzg+7QbzRvyG9DbpB/LYLOUh1ukFpsF9vmC67QZpnIBoXnrpBCBV+YoSgu0GyD8PEoRO7Qcjso5aV/btBppI4iVrpu0EFZzUKZS66QRD6HeSG/rxBcLBjjrucu0EATzZaTpm7QfQ9lKPCK7tBl+jm93aPvEHuSW7xdjS8QZmKmb8o17tBU+jBvOe+vEH7EkFFjMS8QWMTFdG1V71BuokkEiEOvUETrXEuA6e6QfAIDvd8971Bqbw4E7rxvEFZfvnq70C9QaCyqKHvmLxB9CWJ7pulvUEe+U6m1Z69QYwEvufOFb1BtZnUIP0dvkFxNQUOJwS+QcNeNoIUuL5BDxXR0TeLvkEKgAmxZUe8QbKApC69B79B5bQQzvdZvkFcsAUgZuK+QQWuppn5Hr5BlXBTEaDjvkHfI00F5Ta/QabsC29Epr5B8IP702W/v0F4CxunVFG/QQ==",
          "dtype": "f8"
         }
        }
       ],
       "layout": {
        "height": 600,
        "showlegend": false,
        "template": {
         "data": {
          "bar": [
           {
            "error_x": {
             "color": "#2a3f5f"
            },
            "error_y": {
             "color": "#2a3f5f"
            },
            "marker": {
             "line": {
              "color": "#E5ECF6",
              "width": 0.5
             },
             "pattern": {
              "fillmode": "overlay",
              "size": 10,
              "solidity": 0.2
             }
            },
            "type": "bar"
           }
          ],
          "barpolar": [
           {
            "marker": {
             "line": {
              "color": "#E5ECF6",
              "width": 0.5
             },
             "pattern": {
              "fillmode": "overlay",
              "size": 10,
              "solidity": 0.2
             }
            },
            "type": "barpolar"
           }
          ],
          "carpet": [
           {
            "aaxis": {
             "endlinecolor": "#2a3f5f",
             "gridcolor": "white",
             "linecolor": "white",
             "minorgridcolor": "white",
             "startlinecolor": "#2a3f5f"
            },
            "baxis": {
             "endlinecolor": "#2a3f5f",
             "gridcolor": "white",
             "linecolor": "white",
             "minorgridcolor": "white",
             "startlinecolor": "#2a3f5f"
            },
            "type": "carpet"
           }
          ],
          "choropleth": [
           {
            "colorbar": {
             "outlinewidth": 0,
             "ticks": ""
            },
            "type": "choropleth"
           }
          ],
          "contour": [
           {
            "colorbar": {
             "outlinewidth": 0,
             "ticks": ""
            },
            "colorscale": [
             [
              0,
              "#0d0887"
             ],
             [
              0.1111111111111111,
              "#46039f"
             ],
             [
              0.2222222222222222,
              "#7201a8"
             ],
             [
              0.3333333333333333,
              "#9c179e"
             ],
             [
              0.4444444444444444,
              "#bd3786"
             ],
             [
              0.5555555555555556,
              "#d8576b"
             ],
             [
              0.6666666666666666,
              "#ed7953"
             ],
             [
              0.7777777777777778,
              "#fb9f3a"
             ],
             [
              0.8888888888888888,
              "#fdca26"
             ],
             [
              1,
              "#f0f921"
             ]
            ],
            "type": "contour"
           }
          ],
          "contourcarpet": [
           {
            "colorbar": {
             "outlinewidth": 0,
             "ticks": ""
            },
            "type": "contourcarpet"
           }
          ],
          "heatmap": [
           {
            "colorbar": {
             "outlinewidth": 0,
             "ticks": ""
            },
            "colorscale": [
             [
              0,
              "#0d0887"
             ],
             [
              0.1111111111111111,
              "#46039f"
             ],
             [
              0.2222222222222222,
              "#7201a8"
             ],
             [
              0.3333333333333333,
              "#9c179e"
             ],
             [
              0.4444444444444444,
              "#bd3786"
             ],
             [
              0.5555555555555556,
              "#d8576b"
             ],
             [
              0.6666666666666666,
              "#ed7953"
             ],
             [
              0.7777777777777778,
              "#fb9f3a"
             ],
             [
              0.8888888888888888,
              "#fdca26"
             ],
             [
              1,
              "#f0f921"
             ]
            ],
            "type": "heatmap"
           }
          ],
          "histogram": [
           {
            "marker": {
             "pattern": {
              "fillmode": "overlay",
              "size": 10,
              "solidity": 0.2
             }
            },
            "type": "histogram"
           }
          ],
          "histogram2d": [
           {
            "colorbar": {
             "outlinewidth": 0,
             "ticks": ""
            },
            "colorscale": [
             [
              0,
              "#0d0887"
             ],
             [
              0.1111111111111111,
              "#46039f"
             ],
             [
              0.2222222222222222,
              "#7201a8"
             ],
             [
              0.3333333333333333,
              "#9c179e"
             ],
             [
              0.4444444444444444,
              "#bd3786"
             ],
             [
              0.5555555555555556,
              "#d8576b"
             ],
             [
              0.6666666666666666,
              "#ed7953"
             ],
             [
              0.7777777777777778,
              "#fb9f3a"
             ],
             [
              0.8888888888888888,
              "#fdca26"
             ],
             [
              1,
              "#f0f921"
             ]
            ],
            "type": "histogram2d"
           }
          ],
          "histogram2dcontour": [
           {
            "colorbar": {
             "outlinewidth": 0,
             "ticks": ""
            },
            "colorscale": [
             [
              0,
              "#0d0887"
             ],
             [
              0.1111111111111111,
              "#46039f"
             ],
             [
              0.2222222222222222,
              "#7201a8"
             ],
             [
              0.3333333333333333,
              "#9c179e"
             ],
             [
              0.4444444444444444,
              "#bd3786"
             ],
             [
              0.5555555555555556,
              "#d8576b"
             ],
             [
              0.6666666666666666,
              "#ed7953"
             ],
             [
              0.7777777777777778,
              "#fb9f3a"
             ],
             [
              0.8888888888888888,
              "#fdca26"
             ],
             [
              1,
              "#f0f921"
             ]
            ],
            "type": "histogram2dcontour"
           }
          ],
          "mesh3d": [
           {
            "colorbar": {
             "outlinewidth": 0,
             "ticks": ""
            },
            "type": "mesh3d"
           }
          ],
          "parcoords": [
           {
            "line": {
             "colorbar": {
              "outlinewidth": 0,
              "ticks": ""
             }
            },
            "type": "parcoords"
           }
          ],
          "pie": [
           {
            "automargin": true,
            "type": "pie"
           }
          ],
          "scatter": [
           {
            "fillpattern": {
             "fillmode": "overlay",
             "size": 10,
             "solidity": 0.2
            },
            "type": "scatter"
           }
          ],
          "scatter3d": [
           {
            "line": {
             "colorbar": {
              "outlinewidth": 0,
              "ticks": ""
             }
            },
            "marker": {
             "colorbar": {
              "outlinewidth": 0,
              "ticks": ""
             }
            },
            "type": "scatter3d"
           }
          ],
          "scattercarpet": [
           {
            "marker": {
             "colorbar": {
              "outlinewidth": 0,
              "ticks": ""
             }
            },
            "type": "scattercarpet"
           }
          ],
          "scattergeo": [
           {
            "marker": {
             "colorbar": {
              "outlinewidth": 0,
              "ticks": ""
             }
            },
            "type": "scattergeo"
           }
          ],
          "scattergl": [
           {
            "marker": {
             "colorbar": {
              "outlinewidth": 0,
              "ticks": ""
             }
            },
            "type": "scattergl"
           }
          ],
          "scattermap": [
           {
            "marker": {
             "colorbar": {
              "outlinewidth": 0,
              "ticks": ""
             }
            },
            "type": "scattermap"
           }
          ],
          "scattermapbox": [
           {
            "marker": {
             "colorbar": {
              "outlinewidth": 0,
              "ticks": ""
             }
            },
            "type": "scattermapbox"
           }
          ],
          "scatterpolar": [
           {
            "marker": {
             "colorbar": {
              "outlinewidth": 0,
              "ticks": ""
             }
            },
            "type": "scatterpolar"
           }
          ],
          "scatterpolargl": [
           {
            "marker": {
             "colorbar": {
              "outlinewidth": 0,
              "ticks": ""
             }
            },
            "type": "scatterpolargl"
           }
          ],
          "scatterternary": [
           {
            "marker": {
             "colorbar": {
              "outlinewidth": 0,
              "ticks": ""
             }
            },
            "type": "scatterternary"
           }
          ],
          "surface": [
           {
            "colorbar": {
             "outlinewidth": 0,
             "ticks": ""
            },
            "colorscale": [
             [
              0,
              "#0d0887"
             ],
             [
              0.1111111111111111,
              "#46039f"
             ],
             [
              0.2222222222222222,
              "#7201a8"
             ],
             [
              0.3333333333333333,
              "#9c179e"
             ],
             [
              0.4444444444444444,
              "#bd3786"
             ],
             [
              0.5555555555555556,
              "#d8576b"
             ],
             [
              0.6666666666666666,
              "#ed7953"
             ],
             [
              0.7777777777777778,
              "#fb9f3a"
             ],
             [
              0.8888888888888888,
              "#fdca26"
             ],
             [
              1,
              "#f0f921"
             ]
            ],
            "type": "surface"
           }
          ],
          "table": [
           {
            "cells": {
             "fill": {
              "color": "#EBF0F8"
             },
             "line": {
              "color": "white"
             }
            },
            "header": {
             "fill": {
              "color": "#C8D4E3"
             },
             "line": {
              "color": "white"
             }
            },
            "type": "table"
           }
          ]
         },
         "layout": {
          "annotationdefaults": {
           "arrowcolor": "#2a3f5f",
           "arrowhead": 0,
           "arrowwidth": 1
          },
          "autotypenumbers": "strict",
          "coloraxis": {
           "colorbar": {
            "outlinewidth": 0,
            "ticks": ""
           }
          },
          "colorscale": {
           "diverging": [
            [
             0,
             "#8e0152"
            ],
            [
             0.1,
             "#c51b7d"
            ],
            [
             0.2,
             "#de77ae"
            ],
            [
             0.3,
             "#f1b6da"
            ],
            [
             0.4,
             "#fde0ef"
            ],
            [
             0.5,
             "#f7f7f7"
            ],
            [
             0.6,
             "#e6f5d0"
            ],
            [
             0.7,
             "#b8e186"
            ],
            [
             0.8,
             "#7fbc41"
            ],
            [
             0.9,
             "#4d9221"
            ],
            [
             1,
             "#276419"
            ]
           ],
           "sequential": [
            [
             0,
             "#0d0887"
            ],
            [
             0.1111111111111111,
             "#46039f"
            ],
            [
             0.2222222222222222,
             "#7201a8"
            ],
            [
             0.3333333333333333,
             "#9c179e"
            ],
            [
             0.4444444444444444,
             "#bd3786"
            ],
            [
             0.5555555555555556,
             "#d8576b"
            ],
            [
             0.6666666666666666,
             "#ed7953"
            ],
            [
             0.7777777777777778,
             "#fb9f3a"
            ],
            [
             0.8888888888888888,
             "#fdca26"
            ],
            [
             1,
             "#f0f921"
            ]
           ],
           "sequentialminus": [
            [
             0,
             "#0d0887"
            ],
            [
             0.1111111111111111,
             "#46039f"
            ],
            [
             0.2222222222222222,
             "#7201a8"
            ],
            [
             0.3333333333333333,
             "#9c179e"
            ],
            [
             0.4444444444444444,
             "#bd3786"
            ],
            [
             0.5555555555555556,
             "#d8576b"
            ],
            [
             0.6666666666666666,
             "#ed7953"
            ],
            [
             0.7777777777777778,
             "#fb9f3a"
            ],
            [
             0.8888888888888888,
             "#fdca26"
            ],
            [
             1,
             "#f0f921"
            ]
           ]
          },
          "colorway": [
           "#636efa",
           "#EF553B",
           "#00cc96",
           "#ab63fa",
           "#FFA15A",
           "#19d3f3",
           "#FF6692",
           "#B6E880",
           "#FF97FF",
           "#FECB52"
          ],
          "font": {
           "color": "#2a3f5f"
          },
          "geo": {
           "bgcolor": "white",
           "lakecolor": "white",
           "landcolor": "#E5ECF6",
           "showlakes": true,
           "showland": true,
           "subunitcolor": "white"
          },
          "hoverlabel": {
           "align": "left"
          },
          "hovermode": "closest",
          "mapbox": {
           "style": "light"
          },
          "paper_bgcolor": "white",
          "plot_bgcolor": "#E5ECF6",
          "polar": {
           "angularaxis": {
            "gridcolor": "white",
            "linecolor": "white",
            "ticks": ""
           },
           "bgcolor": "#E5ECF6",
           "radialaxis": {
            "gridcolor": "white",
            "linecolor": "white",
            "ticks": ""
           }
          },
          "scene": {
           "xaxis": {
            "backgroundcolor": "#E5ECF6",
            "gridcolor": "white",
            "gridwidth": 2,
            "linecolor": "white",
            "showbackground": true,
            "ticks": "",
            "zerolinecolor": "white"
           },
           "yaxis": {
            "backgroundcolor": "#E5ECF6",
            "gridcolor": "white",
            "gridwidth": 2,
            "linecolor": "white",
            "showbackground": true,
            "ticks": "",
            "zerolinecolor": "white"
           },
           "zaxis": {
            "backgroundcolor": "#E5ECF6",
            "gridcolor": "white",
            "gridwidth": 2,
            "linecolor": "white",
            "showbackground": true,
            "ticks": "",
            "zerolinecolor": "white"
           }
          },
          "shapedefaults": {
           "line": {
            "color": "#2a3f5f"
           }
          },
          "ternary": {
           "aaxis": {
            "gridcolor": "white",
            "linecolor": "white",
            "ticks": ""
           },
           "baxis": {
            "gridcolor": "white",
            "linecolor": "white",
            "ticks": ""
           },
           "bgcolor": "#E5ECF6",
           "caxis": {
            "gridcolor": "white",
            "linecolor": "white",
            "ticks": ""
           }
          },
          "title": {
           "x": 0.05
          },
          "xaxis": {
           "automargin": true,
           "gridcolor": "white",
           "linecolor": "white",
           "ticks": "",
           "title": {
            "standoff": 15
           },
           "zerolinecolor": "white",
           "zerolinewidth": 2
          },
          "yaxis": {
           "automargin": true,
           "gridcolor": "white",
           "linecolor": "white",
           "ticks": "",
           "title": {
            "standoff": 15
           },
           "zerolinecolor": "white",
           "zerolinewidth": 2
          }
         }
        },
        "title": {
         "text": "Gas (Mcf) — Forecast"
        },
        "width": 900,
        "xaxis": {
         "rangeselector": {
          "buttons": [
           {
            "count": 7,
            "label": "1w",
            "step": "day",
            "stepmode": "backward"
           },
           {
            "count": 1,
            "label": "1m",
            "step": "month",
            "stepmode": "backward"
           },
           {
            "count": 6,
            "label": "6m",
            "step": "month",
            "stepmode": "backward"
           },
           {
            "count": 1,
            "label": "1y",
            "step": "year",
            "stepmode": "backward"
           },
           {
            "step": "all"
           }
          ]
         },
         "rangeslider": {
          "visible": true
         },
         "title": {
          "text": "ds"
         },
         "type": "date"
        },
        "yaxis": {
         "title": {
          "text": "y"
         }
        }
       }
      },
      "image/png": "[encoded data removed]"
     },
     "metadata": {},
     "output_type": "display_data"
    },
    {
     "data": {
      "application/vnd.plotly.v1+json": {
       "config": {
        "plotlyServerURL": "https://plot.ly"
       },
       "data": [
        {
         "line": {
          "color": "#0072B2",
          "width": 2
         },
         "mode": "lines",
         "name": "trend",
         "type": "scatter",
         "x": [
          "2015-01-01T00:00:00.000000000",
          "2015-02-01T00:00:00.000000000",
          "2015-03-01T00:00:00.000000000",
          "2015-04-01T00:00:00.000000000",
          "2015-05-01T00:00:00.000000000",
          "2015-06-01T00:00:00.000000000",
          "2015-07-01T00:00:00.000000000",
          "2015-08-01T00:00:00.000000000",
          "2015-09-01T00:00:00.000000000",
          "2015-10-01T00:00:00.000000000",
          "2015-11-01T00:00:00.000000000",
          "2015-12-01T00:00:00.000000000",
          "2016-01-01T00:00:00.000000000",
          "2016-02-01T00:00:00.000000000",
          "2016-03-01T00:00:00.000000000",
          "2016-04-01T00:00:00.000000000",
          "2016-05-01T00:00:00.000000000",
          "2016-06-01T00:00:00.000000000",
          "2016-07-01T00:00:00.000000000",
          "2016-08-01T00:00:00.000000000",
          "2016-09-01T00:00:00.000000000",
          "2016-10-01T00:00:00.000000000",
          "2016-11-01T00:00:00.000000000",
          "2016-12-01T00:00:00.000000000",
          "2017-01-01T00:00:00.000000000",
          "2017-02-01T00:00:00.000000000",
          "2017-03-01T00:00:00.000000000",
          "2017-04-01T00:00:00.000000000",
          "2017-05-01T00:00:00.000000000",
          "2017-06-01T00:00:00.000000000",
          "2017-07-01T00:00:00.000000000",
          "2017-08-01T00:00:00.000000000",
          "2017-09-01T00:00:00.000000000",
          "2017-10-01T00:00:00.000000000",
          "2017-11-01T00:00:00.000000000",
          "2017-12-01T00:00:00.000000000",
          "2018-01-01T00:00:00.000000000",
          "2018-02-01T00:00:00.000000000",
          "2018-03-01T00:00:00.000000000",
          "2018-04-01T00:00:00.000000000",
          "2018-05-01T00:00:00.000000000",
          "2018-06-01T00:00:00.000000000",
          "2018-07-01T00:00:00.000000000",
          "2018-08-01T00:00:00.000000000",
          "2018-09-01T00:00:00.000000000",
          "2018-10-01T00:00:00.000000000",
          "2018-11-01T00:00:00.000000000",
          "2018-12-01T00:00:00.000000000",
          "2019-01-01T00:00:00.000000000",
          "2019-02-01T00:00:00.000000000",
          "2019-03-01T00:00:00.000000000",
          "2019-04-01T00:00:00.000000000",
          "2019-05-01T00:00:00.000000000",
          "2019-06-01T00:00:00.000000000",
          "2019-07-01T00:00:00.000000000",
          "2019-08-01T00:00:00.000000000",
          "2019-09-01T00:00:00.000000000",
          "2019-10-01T00:00:00.000000000",
          "2019-11-01T00:00:00.000000000",
          "2019-12-01T00:00:00.000000000",
          "2020-01-01T00:00:00.000000000",
          "2020-02-01T00:00:00.000000000",
          "2020-03-01T00:00:00.000000000",
          "2020-04-01T00:00:00.000000000",
          "2020-05-01T00:00:00.000000000",
          "2020-06-01T00:00:00.000000000",
          "2020-07-01T00:00:00.000000000",
          "2020-08-01T00:00:00.000000000",
          "2020-09-01T00:00:00.000000000",
          "2020-10-01T00:00:00.000000000",
          "2020-11-01T00:00:00.000000000",
          "2020-12-01T00:00:00.000000000",
          "2021-01-01T00:00:00.000000000",
          "2021-02-01T00:00:00.000000000",
          "2021-03-01T00:00:00.000000000",
          "2021-04-01T00:00:00.000000000",
          "2021-05-01T00:00:00.000000000",
          "2021-06-01T00:00:00.000000000",
          "2021-07-01T00:00:00.000000000",
          "2021-08-01T00:00:00.000000000",
          "2021-09-01T00:00:00.000000000",
          "2021-10-01T00:00:00.000000000",
          "2021-11-01T00:00:00.000000000",
          "2021-12-01T00:00:00.000000000",
          "2022-01-01T00:00:00.000000000",
          "2022-02-01T00:00:00.000000000",
          "2022-03-01T00:00:00.000000000",
          "2022-04-01T00:00:00.000000000",
          "2022-05-01T00:00:00.000000000",
          "2022-06-01T00:00:00.000000000",
          "2022-07-01T00:00:00.000000000",
          "2022-08-01T00:00:00.000000000",
          "2022-09-01T00:00:00.000000000",
          "2022-10-01T00:00:00.000000000",
          "2022-11-01T00:00:00.000000000",
          "2022-12-01T00:00:00.000000000",
          "2023-01-01T00:00:00.000000000",
          "2023-02-01T00:00:00.000000000",
          "2023-03-01T00:00:00.000000000",
          "2023-04-01T00:00:00.000000000",
          "2023-05-01T00:00:00.000000000",
          "2023-06-01T00:00:00.000000000",
          "2023-07-01T00:00:00.000000000",
          "2023-08-01T00:00:00.000000000",
          "2023-09-01T00:00:00.000000000",
          "2023-10-01T00:00:00.000000000",
          "2023-11-01T00:00:00.000000000",
          "2023-12-01T00:00:00.000000000",
          "2024-01-01T00:00:00.000000000",
          "2024-02-01T00:00:00.000000000",
          "2024-03-01T00:00:00.000000000",
          "2024-04-01T00:00:00.000000000",
          "2024-05-01T00:00:00.000000000",
          "2024-06-01T00:00:00.000000000",
          "2024-07-01T00:00:00.000000000",
          "2024-08-01T00:00:00.000000000",
          "2024-09-01T00:00:00.000000000",
          "2024-10-01T00:00:00.000000000",
          "2024-11-01T00:00:00.000000000",
          "2024-12-01T00:00:00.000000000",
          "2025-01-01T00:00:00.000000000",
          "2025-02-01T00:00:00.000000000",
          "2025-03-01T00:00:00.000000000",
          "2025-04-01T00:00:00.000000000",
          "2025-05-01T00:00:00.000000000",
          "2025-06-01T00:00:00.000000000",
          "2025-07-01T00:00:00.000000000",
          "2025-08-01T00:00:00.000000000",
          "2025-09-01T00:00:00.000000000",
          "2025-10-01T00:00:00.000000000",
          "2025-11-01T00:00:00.000000000",
          "2025-12-01T00:00:00.000000000",
          "2026-01-01T00:00:00.000000000",
          "2026-02-01T00:00:00.000000000",
          "2026-03-01T00:00:00.000000000",
          "2026-04-01T00:00:00.000000000",
          "2026-05-01T00:00:00.000000000",
          "2026-06-01T00:00:00.000000000",
          "2026-07-01T00:00:00.000000000",
          "2026-08-01T00:00:00.000000000",
          "2026-09-01T00:00:00.000000000",
          "2026-10-01T00:00:00.000000000",
          "2026-11-01T00:00:00.000000000"
         ],
         "xaxis": "x",
         "y": {
          "bdata": "nzwkkay5uUHBSZzy36e5QfCfpUrMl7lBEq0drP+FuUEThqIKxnS5QdnuTWz5YrlB2sfSyr9RuUGgMH4s8z+5QYoL940mLrlBKvhK7OwcuUEU08NNIAu5QdXol6zm+bhBhDKVDhrouEEyfJJwTda4QQArhsymxbhB9kbRLtqzuEFYrPCNoKK4QU7IO/DTkLhBQEbzVZx/uEHt0B/Q0W24QZpbTEoHXLhBncMrdJZLuEEYr6NSmTq4QRsXg3woKrhBlgL7WisZuEFPRVfQNg64Qe3s9K1RBLhBpi9RI135t0G22BWMCfO3QWmHWPh/7LdBeDAdYSzmt0FLTDm1muK3QR5oVQkJ37dBJOaZ1pTbt0H3AbYqA9i3QRDWkPiO1LdB1EpITf3Qt0GYv/+ha823QW39TGIyyrdBB8s0t6DGt0G0aD6FLMO3QRsUJ9qav7dBb4gxqCa8t0HWMxr9lLi3QT7fAlIDtbdBqgGBH4+xt0HDrdhz/a23QS/QVkGJqrdBt1ZulPemt0E/3YXnZaO3QR3CL6YsoLdBiUHlZs2at0HxH3yEmpW3QV2fMUU7kLdBxX3IYgiLt0FGQjeDQIO3QccGpqN4e7dBn3oZBfFzt0FufFkyxGm3QUjhZWbrX7dBF+Olk75Vt0GIzvHAkUu3QU271fsMQrdBv6YhKeA3t0HakjldBy63QRj2g4raI7dBpmaavgEat0HkyeTr1A+3QaLL6cX+DLdBL0mDDEAKt0HtSojmaQe3QXvIIS2rBLdBT77MLNsNt0EktHcsCxe3QfSqQ49XH7dBSgSmLYEyt0Gm9x2NDEW3Qf5QgCs2WLdBkIu5vQBxt0HjFFvdnoq3QTae/Pw8pLdBydg1jwe9t0FESKlx2di3QYpAIZfF87dBBbCUeZcPuEGwkCNcaSu4Qd5jvQeKRLhBiURM6ltguEFfy94PSHu4QQmsbfIZl7hB3zIAGAayuEGKE4/61824QTP0Hd2p6bhBCnuwApYEuUG0Wz/lZyC5QYvi0QpUO7lBNMNg7SVXuUHeo+/P93K5QQ13iXsYjLlBt1cYXuqnuUGN3qqD1sK5QTi/OWao3rlBDkbMi5T5uUG4JltuZhW6QWMH6lA4MbpBOY58diRMukHjbgtZ9me6Qbn1nX7igrpBZNYsYbSeukEOt7tDhrq6QRDkUayM1LpBusTgjl7wukGQS3O0Sgu7QTssApccJ7tBEbOUvAhCu0G7kyOf2l27QWZ0soGsebtBPPtEp5iUu0Hl29OJarC7QbxiZq9Wy7tBZ0P1kSjnu0EQJIR0+gK8QT73HSAbHLxB6desAu03vEHAXj8o2VK8QWk/zgqrbrxBQcZgMJeJvEHqpu8SaaW8QZSHfvU6wbxBag4RGyfcvEEV75/9+Pe8Qet1MiPlEr1BlVbBBbcuvUFAN1DoiEq9QW4K6pOpY71BF+t4dnt/vUHvcQucZ5q9QZhSmn45tr1Bb9kspCXRvUEYuruG9+y9QcSaSmnJCL5BmSHdjrUjvkFDAmxxhz++QQ==",
          "dtype": "f8"
         },
         "yaxis": "y"
        },
        {
         "line": {
          "color": "rgba(0, 114, 178, 0.2)",
          "width": 0
         },
         "mode": "lines",
         "name": "trend_upper",
         "type": "scatter",
         "x": [
          "2015-01-01T00:00:00.000000000",
          "2015-02-01T00:00:00.000000000",
          "2015-03-01T00:00:00.000000000",
          "2015-04-01T00:00:00.000000000",
          "2015-05-01T00:00:00.000000000",
          "2015-06-01T00:00:00.000000000",
          "2015-07-01T00:00:00.000000000",
          "2015-08-01T00:00:00.000000000",
          "2015-09-01T00:00:00.000000000",
          "2015-10-01T00:00:00.000000000",
          "2015-11-01T00:00:00.000000000",
          "2015-12-01T00:00:00.000000000",
          "2016-01-01T00:00:00.000000000",
          "2016-02-01T00:00:00.000000000",
          "2016-03-01T00:00:00.000000000",
          "2016-04-01T00:00:00.000000000",
          "2016-05-01T00:00:00.000000000",
          "2016-06-01T00:00:00.000000000",
          "2016-07-01T00:00:00.000000000",
          "2016-08-01T00:00:00.000000000",
          "2016-09-01T00:00:00.000000000",
          "2016-10-01T00:00:00.000000000",
          "2016-11-01T00:00:00.000000000",
          "2016-12-01T00:00:00.000000000",
          "2017-01-01T00:00:00.000000000",
          "2017-02-01T00:00:00.000000000",
          "2017-03-01T00:00:00.000000000",
          "2017-04-01T00:00:00.000000000",
          "2017-05-01T00:00:00.000000000",
          "2017-06-01T00:00:00.000000000",
          "2017-07-01T00:00:00.000000000",
          "2017-08-01T00:00:00.000000000",
          "2017-09-01T00:00:00.000000000",
          "2017-10-01T00:00:00.000000000",
          "2017-11-01T00:00:00.000000000",
          "2017-12-01T00:00:00.000000000",
          "2018-01-01T00:00:00.000000000",
          "2018-02-01T00:00:00.000000000",
          "2018-03-01T00:00:00.000000000",
          "2018-04-01T00:00:00.000000000",
          "2018-05-01T00:00:00.000000000",
          "2018-06-01T00:00:00.000000000",
          "2018-07-01T00:00:00.000000000",
          "2018-08-01T00:00:00.000000000",
          "2018-09-01T00:00:00.000000000",
          "2018-10-01T00:00:00.000000000",
          "2018-11-01T00:00:00.000000000",
          "2018-12-01T00:00:00.000000000",
          "2019-01-01T00:00:00.000000000",
          "2019-02-01T00:00:00.000000000",
          "2019-03-01T00:00:00.000000000",
          "2019-04-01T00:00:00.000000000",
          "2019-05-01T00:00:00.000000000",
          "2019-06-01T00:00:00.000000000",
          "2019-07-01T00:00:00.000000000",
          "2019-08-01T00:00:00.000000000",
          "2019-09-01T00:00:00.000000000",
          "2019-10-01T00:00:00.000000000",
          "2019-11-01T00:00:00.000000000",
          "2019-12-01T00:00:00.000000000",
          "2020-01-01T00:00:00.000000000",
          "2020-02-01T00:00:00.000000000",
          "2020-03-01T00:00:00.000000000",
          "2020-04-01T00:00:00.000000000",
          "2020-05-01T00:00:00.000000000",
          "2020-06-01T00:00:00.000000000",
          "2020-07-01T00:00:00.000000000",
          "2020-08-01T00:00:00.000000000",
          "2020-09-01T00:00:00.000000000",
          "2020-10-01T00:00:00.000000000",
          "2020-11-01T00:00:00.000000000",
          "2020-12-01T00:00:00.000000000",
          "2021-01-01T00:00:00.000000000",
          "2021-02-01T00:00:00.000000000",
          "2021-03-01T00:00:00.000000000",
          "2021-04-01T00:00:00.000000000",
          "2021-05-01T00:00:00.000000000",
          "2021-06-01T00:00:00.000000000",
          "2021-07-01T00:00:00.000000000",
          "2021-08-01T00:00:00.000000000",
          "2021-09-01T00:00:00.000000000",
          "2021-10-01T00:00:00.000000000",
          "2021-11-01T00:00:00.000000000",
          "2021-12-01T00:00:00.000000000",
          "2022-01-01T00:00:00.000000000",
          "2022-02-01T00:00:00.000000000",
          "2022-03-01T00:00:00.000000000",
          "2022-04-01T00:00:00.000000000",
          "2022-05-01T00:00:00.000000000",
          "2022-06-01T00:00:00.000000000",
          "2022-07-01T00:00:00.000000000",
          "2022-08-01T00:00:00.000000000",
          "2022-09-01T00:00:00.000000000",
          "2022-10-01T00:00:00.000000000",
          "2022-11-01T00:00:00.000000000",
          "2022-12-01T00:00:00.000000000",
          "2023-01-01T00:00:00.000000000",
          "2023-02-01T00:00:00.000000000",
          "2023-03-01T00:00:00.000000000",
          "2023-04-01T00:00:00.000000000",
          "2023-05-01T00:00:00.000000000",
          "2023-06-01T00:00:00.000000000",
          "2023-07-01T00:00:00.000000000",
          "2023-08-01T00:00:00.000000000",
          "2023-09-01T00:00:00.000000000",
          "2023-10-01T00:00:00.000000000",
          "2023-11-01T00:00:00.000000000",
          "2023-12-01T00:00:00.000000000",
          "2024-01-01T00:00:00.000000000",
          "2024-02-01T00:00:00.000000000",
          "2024-03-01T00:00:00.000000000",
          "2024-04-01T00:00:00.000000000",
          "2024-05-01T00:00:00.000000000",
          "2024-06-01T00:00:00.000000000",
          "2024-07-01T00:00:00.000000000",
          "2024-08-01T00:00:00.000000000",
          "2024-09-01T00:00:00.000000000",
          "2024-10-01T00:00:00.000000000",
          "2024-11-01T00:00:00.000000000",
          "2024-12-01T00:00:00.000000000",
          "2025-01-01T00:00:00.000000000",
          "2025-02-01T00:00:00.000000000",
          "2025-03-01T00:00:00.000000000",
          "2025-04-01T00:00:00.000000000",
          "2025-05-01T00:00:00.000000000",
          "2025-06-01T00:00:00.000000000",
          "2025-07-01T00:00:00.000000000",
          "2025-08-01T00:00:00.000000000",
          "2025-09-01T00:00:00.000000000",
          "2025-10-01T00:00:00.000000000",
          "2025-11-01T00:00:00.000000000",
          "2025-12-01T00:00:00.000000000",
          "2026-01-01T00:00:00.000000000",
          "2026-02-01T00:00:00.000000000",
          "2026-03-01T00:00:00.000000000",
          "2026-04-01T00:00:00.000000000",
          "2026-05-01T00:00:00.000000000",
          "2026-06-01T00:00:00.000000000",
          "2026-07-01T00:00:00.000000000",
          "2026-08-01T00:00:00.000000000",
          "2026-09-01T00:00:00.000000000",
          "2026-10-01T00:00:00.000000000",
          "2026-11-01T00:00:00.000000000"
         ],
         "xaxis": "x",
         "y": {
          "bdata": "nzwkkay5uUHBSZzy36e5QfCfpUrMl7lBEq0drP+FuUEThqIKxnS5QdnuTWz5YrlB2sfSyr9RuUGgMH4s8z+5QYoL940mLrlBKvhK7OwcuUEU08NNIAu5QdXol6zm+bhBhDKVDhrouEEyfJJwTda4QQArhsymxbhB9kbRLtqzuEFYrPCNoKK4QU7IO/DTkLhBQEbzVZx/uEHt0B/Q0W24QZpbTEoHXLhBncMrdJZLuEEYr6NSmTq4QRsXg3woKrhBlgL7WisZuEFPRVfQNg64Qe3s9K1RBLhBpi9RI135t0G22BWMCfO3QWmHWPh/7LdBeDAdYSzmt0FLTDm1muK3QR5oVQkJ37dBJOaZ1pTbt0H3AbYqA9i3QRDWkPiO1LdB1EpITf3Qt0GYv/+ha823QW39TGIyyrdBB8s0t6DGt0G0aD6FLMO3QRsUJ9qav7dBb4gxqCa8t0HWMxr9lLi3QT7fAlIDtbdBqgGBH4+xt0HDrdhz/a23QS/QVkGJqrdBt1ZulPemt0E/3YXnZaO3QR3CL6YsoLdBiUHlZs2at0HxH3yEmpW3QV2fMUU7kLdBxX3IYgiLt0FGQjeDQIO3QccGpqN4e7dBn3oZBfFzt0FufFkyxGm3QUjhZWbrX7dBF+Olk75Vt0GIzvHAkUu3QU271fsMQrdBv6YhKeA3t0HakjldBy63QRj2g4raI7dBpmaavgEat0HkyeTr1A+3QaLL6cX+DLdBL0mDDEAKt0HtSojmaQe3QXvIIS2rBLdBT77MLNsNt0EktHcsCxe3QfSqQ49XH7dBSgSmLYEyt0Gm9x2NDEW3Qf5QgCs2WLdBkIu5vQBxt0HjFFvdnoq3QTae/Pw8pLdBydg1jwe9t0FESKlx2di3QYpAIZfF87dBBbCUeZcPuEGwkCNcaSu4Qd5jvQeKRLhBiURM6ltguEFfy94PSHu4QQmsbfIZl7hB3zIAGAayuEGKE4/61824QTP0Hd2p6bhBCnuwApYEuUG0Wz/lZyC5QYvi0QpUO7lBNMNg7SVXuUHeo+/P93K5QQ13iXsYjLlBt1cYXuqnuUGN3qqD1sK5QTi/OWao3rlBDkbMi5T5uUG4JltuZhW6QWMH6lA4MbpBOY58diRMukHjbgtZ9me6QfWZ9mETg7pBUAOCgJKgukGd2puGLr+6QUZ/zJYU3LpB3J3RBKP7ukHywF92+hq7QRj/4SCbOrtBY9B6gNdZu0ER7MlN9nq7Qf3busXDm7tBo4ig0qi6u0ED7swI4tq7Qf7mZTHI+rtBosvrXz4dvEEjmlwvHkG8QerUBbIeYbxBPimvq+SCvEGyMYBvtaS8QRZGNfn/xrxBh0Mrgf/ovEE8npyaKw29QeXaW78XML1BBjVdWDRSvUFdYM9/AHe9QYCTO1XYm71Byym42VfAvUGDwWO56OW9QWgwWjarBr5Bi7AqGTYpvkEEAK/MmEy+QfYSQzljc75BsLTIDDCXvkEBC5WQrLe+QTy2E3Zz4L5Bd1k8270Fv0E7StuNvS2/QQ==",
          "dtype": "f8"
         },
         "yaxis": "y"
        },
        {
         "fill": "tonexty",
         "fillcolor": "rgba(0, 114, 178, 0.2)",
         "line": {
          "color": "rgba(0, 114, 178, 0.2)",
          "width": 0
         },
         "mode": "lines",
         "name": "trend_lower",
         "type": "scatter",
         "x": [
          "2015-01-01T00:00:00.000000000",
          "2015-02-01T00:00:00.000000000",
          "2015-03-01T00:00:00.000000000",
          "2015-04-01T00:00:00.000000000",
          "2015-05-01T00:00:00.000000000",
          "2015-06-01T00:00:00.000000000",
          "2015-07-01T00:00:00.000000000",
          "2015-08-01T00:00:00.000000000",
          "2015-09-01T00:00:00.000000000",
          "2015-10-01T00:00:00.000000000",
          "2015-11-01T00:00:00.000000000",
          "2015-12-01T00:00:00.000000000",
          "2016-01-01T00:00:00.000000000",
          "2016-02-01T00:00:00.000000000",
          "2016-03-01T00:00:00.000000000",
          "2016-04-01T00:00:00.000000000",
          "2016-05-01T00:00:00.000000000",
          "2016-06-01T00:00:00.000000000",
          "2016-07-01T00:00:00.000000000",
          "2016-08-01T00:00:00.000000000",
          "2016-09-01T00:00:00.000000000",
          "2016-10-01T00:00:00.000000000",
          "2016-11-01T00:00:00.000000000",
          "2016-12-01T00:00:00.000000000",
          "2017-01-01T00:00:00.000000000",
          "2017-02-01T00:00:00.000000000",
          "2017-03-01T00:00:00.000000000",
          "2017-04-01T00:00:00.000000000",
          "2017-05-01T00:00:00.000000000",
          "2017-06-01T00:00:00.000000000",
          "2017-07-01T00:00:00.000000000",
          "2017-08-01T00:00:00.000000000",
          "2017-09-01T00:00:00.000000000",
          "2017-10-01T00:00:00.000000000",
          "2017-11-01T00:00:00.000000000",
          "2017-12-01T00:00:00.000000000",
          "2018-01-01T00:00:00.000000000",
          "2018-02-01T00:00:00.000000000",
          "2018-03-01T00:00:00.000000000",
          "2018-04-01T00:00:00.000000000",
          "2018-05-01T00:00:00.000000000",
          "2018-06-01T00:00:00.000000000",
          "2018-07-01T00:00:00.000000000",
          "2018-08-01T00:00:00.000000000",
          "2018-09-01T00:00:00.000000000",
          "2018-10-01T00:00:00.000000000",
          "2018-11-01T00:00:00.000000000",
          "2018-12-01T00:00:00.000000000",
          "2019-01-01T00:00:00.000000000",
          "2019-02-01T00:00:00.000000000",
          "2019-03-01T00:00:00.000000000",
          "2019-04-01T00:00:00.000000000",
          "2019-05-01T00:00:00.000000000",
          "2019-06-01T00:00:00.000000000",
          "2019-07-01T00:00:00.000000000",
          "2019-08-01T00:00:00.000000000",
          "2019-09-01T00:00:00.000000000",
          "2019-10-01T00:00:00.000000000",
          "2019-11-01T00:00:00.000000000",
          "2019-12-01T00:00:00.000000000",
          "2020-01-01T00:00:00.000000000",
          "2020-02-01T00:00:00.000000000",
          "2020-03-01T00:00:00.000000000",
          "2020-04-01T00:00:00.000000000",
          "2020-05-01T00:00:00.000000000",
          "2020-06-01T00:00:00.000000000",
          "2020-07-01T00:00:00.000000000",
          "2020-08-01T00:00:00.000000000",
          "2020-09-01T00:00:00.000000000",
          "2020-10-01T00:00:00.000000000",
          "2020-11-01T00:00:00.000000000",
          "2020-12-01T00:00:00.000000000",
          "2021-01-01T00:00:00.000000000",
          "2021-02-01T00:00:00.000000000",
          "2021-03-01T00:00:00.000000000",
          "2021-04-01T00:00:00.000000000",
          "2021-05-01T00:00:00.000000000",
          "2021-06-01T00:00:00.000000000",
          "2021-07-01T00:00:00.000000000",
          "2021-08-01T00:00:00.000000000",
          "2021-09-01T00:00:00.000000000",
          "2021-10-01T00:00:00.000000000",
          "2021-11-01T00:00:00.000000000",
          "2021-12-01T00:00:00.000000000",
          "2022-01-01T00:00:00.000000000",
          "2022-02-01T00:00:00.000000000",
          "2022-03-01T00:00:00.000000000",
          "2022-04-01T00:00:00.000000000",
          "2022-05-01T00:00:00.000000000",
          "2022-06-01T00:00:00.000000000",
          "2022-07-01T00:00:00.000000000",
          "2022-08-01T00:00:00.000000000",
          "2022-09-01T00:00:00.000000000",
          "2022-10-01T00:00:00.000000000",
          "2022-11-01T00:00:00.000000000",
          "2022-12-01T00:00:00.000000000",
          "2023-01-01T00:00:00.000000000",
          "2023-02-01T00:00:00.000000000",
          "2023-03-01T00:00:00.000000000",
          "2023-04-01T00:00:00.000000000",
          "2023-05-01T00:00:00.000000000",
          "2023-06-01T00:00:00.000000000",
          "2023-07-01T00:00:00.000000000",
          "2023-08-01T00:00:00.000000000",
          "2023-09-01T00:00:00.000000000",
          "2023-10-01T00:00:00.000000000",
          "2023-11-01T00:00:00.000000000",
          "2023-12-01T00:00:00.000000000",
          "2024-01-01T00:00:00.000000000",
          "2024-02-01T00:00:00.000000000",
          "2024-03-01T00:00:00.000000000",
          "2024-04-01T00:00:00.000000000",
          "2024-05-01T00:00:00.000000000",
          "2024-06-01T00:00:00.000000000",
          "2024-07-01T00:00:00.000000000",
          "2024-08-01T00:00:00.000000000",
          "2024-09-01T00:00:00.000000000",
          "2024-10-01T00:00:00.000000000",
          "2024-11-01T00:00:00.000000000",
          "2024-12-01T00:00:00.000000000",
          "2025-01-01T00:00:00.000000000",
          "2025-02-01T00:00:00.000000000",
          "2025-03-01T00:00:00.000000000",
          "2025-04-01T00:00:00.000000000",
          "2025-05-01T00:00:00.000000000",
          "2025-06-01T00:00:00.000000000",
          "2025-07-01T00:00:00.000000000",
          "2025-08-01T00:00:00.000000000",
          "2025-09-01T00:00:00.000000000",
          "2025-10-01T00:00:00.000000000",
          "2025-11-01T00:00:00.000000000",
          "2025-12-01T00:00:00.000000000",
          "2026-01-01T00:00:00.000000000",
          "2026-02-01T00:00:00.000000000",
          "2026-03-01T00:00:00.000000000",
          "2026-04-01T00:00:00.000000000",
          "2026-05-01T00:00:00.000000000",
          "2026-06-01T00:00:00.000000000",
          "2026-07-01T00:00:00.000000000",
          "2026-08-01T00:00:00.000000000",
          "2026-09-01T00:00:00.000000000",
          "2026-10-01T00:00:00.000000000",
          "2026-11-01T00:00:00.000000000"
         ],
         "xaxis": "x",
         "y": {
          "bdata": "nzwkkay5uUHBSZzy36e5QfCfpUrMl7lBEq0drP+FuUEThqIKxnS5QdnuTWz5YrlB2sfSyr9RuUGgMH4s8z+5QYoL940mLrlBKvhK7OwcuUEU08NNIAu5QdXol6zm+bhBhDKVDhrouEEyfJJwTda4QQArhsymxbhB9kbRLtqzuEFYrPCNoKK4QU7IO/DTkLhBQEbzVZx/uEHt0B/Q0W24QZpbTEoHXLhBncMrdJZLuEEYr6NSmTq4QRsXg3woKrhBlgL7WisZuEFPRVfQNg64Qe3s9K1RBLhBpi9RI135t0G22BWMCfO3QWmHWPh/7LdBeDAdYSzmt0FLTDm1muK3QR5oVQkJ37dBJOaZ1pTbt0H3AbYqA9i3QRDWkPiO1LdB1EpITf3Qt0GYv/+ha823QW39TGIyyrdBB8s0t6DGt0G0aD6FLMO3QRsUJ9qav7dBb4gxqCa8t0HWMxr9lLi3QT7fAlIDtbdBqgGBH4+xt0HDrdhz/a23QS/QVkGJqrdBt1ZulPemt0E/3YXnZaO3QR3CL6YsoLdBiUHlZs2at0HxH3yEmpW3QV2fMUU7kLdBxX3IYgiLt0FGQjeDQIO3QccGpqN4e7dBn3oZBfFzt0FufFkyxGm3QUjhZWbrX7dBF+Olk75Vt0GIzvHAkUu3QU271fsMQrdBv6YhKeA3t0HakjldBy63QRj2g4raI7dBpmaavgEat0HkyeTr1A+3QaLL6cX+DLdBL0mDDEAKt0HtSojmaQe3QXvIIS2rBLdBT77MLNsNt0EktHcsCxe3QfSqQ49XH7dBSgSmLYEyt0Gm9x2NDEW3Qf5QgCs2WLdBkIu5vQBxt0HjFFvdnoq3QTae/Pw8pLdBydg1jwe9t0FESKlx2di3QYpAIZfF87dBBbCUeZcPuEGwkCNcaSu4Qd5jvQeKRLhBiURM6ltguEFfy94PSHu4QQmsbfIZl7hB3zIAGAayuEGKE4/61824QTP0Hd2p6bhBCnuwApYEuUG0Wz/lZyC5QYvi0QpUO7lBNMNg7SVXuUHeo+/P93K5QQ13iXsYjLlBt1cYXuqnuUGN3qqD1sK5QTi/OWao3rlBDkbMi5T5uUG4JltuZhW6QWMH6lA4MbpBOY58diRMukHjbgtZ9me6QT9z5szbgrpBTPXmV2WdukHIQIgsb7e6Qemu4MHazrpBUgJdNKLnukFK3NpoTv+6QfR/xPpCF7tBGFYLosktu0FM3A9FYUW7QWC5BbyIWrtB51+tDy5xu0HkTHmkO4i7QZPmrSLbnLtBS2Mr0Ieyu0FH+6j//8e7QVOSxqgm2rtBdkoAqrLwu0EXvgU2BwW8QQaafsGjG7xBpfxsssosvEHfqyz+x0G8QcYvsYvyUrxBebat3idlvEEInBrOSni8QV61gFU1ibxBjF3yCEmcvEFeMD8bi6y8QefItvSLu7xB3xH1gM/NvEFpvcbgttq8QVrBuP7T6bxBuWrc+XT8vEH8V80RcQy9QY6MQyU8Hr1B0M80mlcsvUE/XJXlJTq9QQ==",
          "dtype": "f8"
         },
         "yaxis": "y"
        },
        {
         "line": {
          "color": "#0072B2",
          "width": 2
         },
         "mode": "lines",
         "name": "yearly",
         "type": "scatter",
         "x": [
          "2017-01-01T00:00:00.000000000",
          "2017-01-02T00:00:59.178082304",
          "2017-01-03T00:01:58.356164352",
          "2017-01-04T00:02:57.534246656",
          "2017-01-05T00:03:56.712328704",
          "2017-01-06T00:04:55.890411008",
          "2017-01-07T00:05:55.068493056",
          "2017-01-08T00:06:54.246575360",
          "2017-01-09T00:07:53.424657408",
          "2017-01-10T00:08:52.602739712",
          "2017-01-11T00:09:51.780822016",
          "2017-01-12T00:10:50.958904064",
          "2017-01-13T00:11:50.136986368",
          "2017-01-14T00:12:49.315068416",
          "2017-01-15T00:13:48.493150720",
          "2017-01-16T00:14:47.671232768",
          "2017-01-17T00:15:46.849315072",
          "2017-01-18T00:16:46.027397376",
          "2017-01-19T00:17:45.205479424",
          "2017-01-20T00:18:44.383561728",
          "2017-01-21T00:19:43.561643776",
          "2017-01-22T00:20:42.739726080",
          "2017-01-23T00:21:41.917808128",
          "2017-01-24T00:22:41.095890432",
          "2017-01-25T00:23:40.273972480",
          "2017-01-26T00:24:39.452054784",
          "2017-01-27T00:25:38.630137088",
          "2017-01-28T00:26:37.808219136",
          "2017-01-29T00:27:36.986301440",
          "2017-01-30T00:28:36.164383488",
          "2017-01-31T00:29:35.342465792",
          "2017-02-01T00:30:34.520547840",
          "2017-02-02T00:31:33.698630144",
          "2017-02-03T00:32:32.876712448",
          "2017-02-04T00:33:32.054794496",
          "2017-02-05T00:34:31.232876800",
          "2017-02-06T00:35:30.410958848",
          "2017-02-07T00:36:29.589041152",
          "2017-02-08T00:37:28.767123200",
          "2017-02-09T00:38:27.945205504",
          "2017-02-10T00:39:27.123287552",
          "2017-02-11T00:40:26.301369856",
          "2017-02-12T00:41:25.479452160",
          "2017-02-13T00:42:24.657534208",
          "2017-02-14T00:43:23.835616512",
          "2017-02-15T00:44:23.013698560",
          "2017-02-16T00:45:22.191780864",
          "2017-02-17T00:46:21.369862912",
          "2017-02-18T00:47:20.547945216",
          "2017-02-19T00:48:19.726027520",
          "2017-02-20T00:49:18.904109568",
          "2017-02-21T00:50:18.082191872",
          "2017-02-22T00:51:17.260273920",
          "2017-02-23T00:52:16.438356224",
          "2017-02-24T00:53:15.616438272",
          "2017-02-25T00:54:14.794520576",
          "2017-02-26T00:55:13.972602624",
          "2017-02-27T00:56:13.150684928",
          "2017-02-28T00:57:12.328767232",
          "2017-03-01T00:58:11.506849280",
          "2017-03-02T00:59:10.684931584",
          "2017-03-03T01:00:09.863013632",
          "2017-03-04T01:01:09.041095936",
          "2017-03-05T01:02:08.219177984",
          "2017-03-06T01:03:07.397260288",
          "2017-03-07T01:04:06.575342592",
          "2017-03-08T01:05:05.753424640",
          "2017-03-09T01:06:04.931506944",
          "2017-03-10T01:07:04.109588992",
          "2017-03-11T01:08:03.287671296",
          "2017-03-12T01:09:02.465753344",
          "2017-03-13T01:10:01.643835648",
          "2017-03-14T01:11:00.821917696",
          "2017-03-15T01:12:00.000000000",
          "2017-03-16T01:12:59.178082304",
          "2017-03-17T01:13:58.356164352",
          "2017-03-18T01:14:57.534246656",
          "2017-03-19T01:15:56.712328704",
          "2017-03-20T01:16:55.890411008",
          "2017-03-21T01:17:55.068493056",
          "2017-03-22T01:18:54.246575360",
          "2017-03-23T01:19:53.424657408",
          "2017-03-24T01:20:52.602739712",
          "2017-03-25T01:21:51.780822016",
          "2017-03-26T01:22:50.958904064",
          "2017-03-27T01:23:50.136986368",
          "2017-03-28T01:24:49.315068416",
          "2017-03-29T01:25:48.493150720",
          "2017-03-30T01:26:47.671232768",
          "2017-03-31T01:27:46.849315072",
          "2017-04-01T01:28:46.027397376",
          "2017-04-02T01:29:45.205479424",
          "2017-04-03T01:30:44.383561728",
          "2017-04-04T01:31:43.561643776",
          "2017-04-05T01:32:42.739726080",
          "2017-04-06T01:33:41.917808128",
          "2017-04-07T01:34:41.095890432",
          "2017-04-08T01:35:40.273972480",
          "2017-04-09T01:36:39.452054784",
          "2017-04-10T01:37:38.630137088",
          "2017-04-11T01:38:37.808219136",
          "2017-04-12T01:39:36.986301440",
          "2017-04-13T01:40:36.164383488",
          "2017-04-14T01:41:35.342465792",
          "2017-04-15T01:42:34.520547840",
          "2017-04-16T01:43:33.698630144",
          "2017-04-17T01:44:32.876712448",
          "2017-04-18T01:45:32.054794496",
          "2017-04-19T01:46:31.232876800",
          "2017-04-20T01:47:30.410958848",
          "2017-04-21T01:48:29.589041152",
          "2017-04-22T01:49:28.767123200",
          "2017-04-23T01:50:27.945205504",
          "2017-04-24T01:51:27.123287552",
          "2017-04-25T01:52:26.301369856",
          "2017-04-26T01:53:25.479452160",
          "2017-04-27T01:54:24.657534208",
          "2017-04-28T01:55:23.835616512",
          "2017-04-29T01:56:23.013698560",
          "2017-04-30T01:57:22.191780864",
          "2017-05-01T01:58:21.369862912",
          "2017-05-02T01:59:20.547945216",
          "2017-05-03T02:00:19.726027520",
          "2017-05-04T02:01:18.904109568",
          "2017-05-05T02:02:18.082191872",
          "2017-05-06T02:03:17.260273920",
          "2017-05-07T02:04:16.438356224",
          "2017-05-08T02:05:15.616438272",
          "2017-05-09T02:06:14.794520576",
          "2017-05-10T02:07:13.972602624",
          "2017-05-11T02:08:13.150684928",
          "2017-05-12T02:09:12.328767232",
          "2017-05-13T02:10:11.506849280",
          "2017-05-14T02:11:10.684931584",
          "2017-05-15T02:12:09.863013632",
          "2017-05-16T02:13:09.041095936",
          "2017-05-17T02:14:08.219177984",
          "2017-05-18T02:15:07.397260288",
          "2017-05-19T02:16:06.575342592",
          "2017-05-20T02:17:05.753424640",
          "2017-05-21T02:18:04.931506944",
          "2017-05-22T02:19:04.109588992",
          "2017-05-23T02:20:03.287671296",
          "2017-05-24T02:21:02.465753344",
          "2017-05-25T02:22:01.643835648",
          "2017-05-26T02:23:00.821917696",
          "2017-05-27T02:24:00.000000000",
          "2017-05-28T02:24:59.178082304",
          "2017-05-29T02:25:58.356164352",
          "2017-05-30T02:26:57.534246656",
          "2017-05-31T02:27:56.712328704",
          "2017-06-01T02:28:55.890411008",
          "2017-06-02T02:29:55.068493056",
          "2017-06-03T02:30:54.246575360",
          "2017-06-04T02:31:53.424657408",
          "2017-06-05T02:32:52.602739712",
          "2017-06-06T02:33:51.780822016",
          "2017-06-07T02:34:50.958904064",
          "2017-06-08T02:35:50.136986368",
          "2017-06-09T02:36:49.315068416",
          "2017-06-10T02:37:48.493150720",
          "2017-06-11T02:38:47.671232768",
          "2017-06-12T02:39:46.849315072",
          "2017-06-13T02:40:46.027397376",
          "2017-06-14T02:41:45.205479424",
          "2017-06-15T02:42:44.383561728",
          "2017-06-16T02:43:43.561643776",
          "2017-06-17T02:44:42.739726080",
          "2017-06-18T02:45:41.917808128",
          "2017-06-19T02:46:41.095890432",
          "2017-06-20T02:47:40.273972480",
          "2017-06-21T02:48:39.452054784",
          "2017-06-22T02:49:38.630137088",
          "2017-06-23T02:50:37.808219136",
          "2017-06-24T02:51:36.986301440",
          "2017-06-25T02:52:36.164383488",
          "2017-06-26T02:53:35.342465792",
          "2017-06-27T02:54:34.520547840",
          "2017-06-28T02:55:33.698630144",
          "2017-06-29T02:56:32.876712448",
          "2017-06-30T02:57:32.054794496",
          "2017-07-01T02:58:31.232876800",
          "2017-07-02T02:59:30.410958848",
          "2017-07-03T03:00:29.589041152",
          "2017-07-04T03:01:28.767123200",
          "2017-07-05T03:02:27.945205504",
          "2017-07-06T03:03:27.123287552",
          "2017-07-07T03:04:26.301369856",
          "2017-07-08T03:05:25.479452160",
          "2017-07-09T03:06:24.657534208",
          "2017-07-10T03:07:23.835616512",
          "2017-07-11T03:08:23.013698560",
          "2017-07-12T03:09:22.191780864",
          "2017-07-13T03:10:21.369862912",
          "2017-07-14T03:11:20.547945216",
          "2017-07-15T03:12:19.726027520",
          "2017-07-16T03:13:18.904109568",
          "2017-07-17T03:14:18.082191872",
          "2017-07-18T03:15:17.260273920",
          "2017-07-19T03:16:16.438356224",
          "2017-07-20T03:17:15.616438272",
          "2017-07-21T03:18:14.794520576",
          "2017-07-22T03:19:13.972602624",
          "2017-07-23T03:20:13.150684928",
          "2017-07-24T03:21:12.328767232",
          "2017-07-25T03:22:11.506849280",
          "2017-07-26T03:23:10.684931584",
          "2017-07-27T03:24:09.863013632",
          "2017-07-28T03:25:09.041095936",
          "2017-07-29T03:26:08.219177984",
          "2017-07-30T03:27:07.397260288",
          "2017-07-31T03:28:06.575342592",
          "2017-08-01T03:29:05.753424640",
          "2017-08-02T03:30:04.931506944",
          "2017-08-03T03:31:04.109588992",
          "2017-08-04T03:32:03.287671296",
          "2017-08-05T03:33:02.465753344",
          "2017-08-06T03:34:01.643835648",
          "2017-08-07T03:35:00.821917696",
          "2017-08-08T03:36:00.000000000",
          "2017-08-09T03:36:59.178082304",
          "2017-08-10T03:37:58.356164352",
          "2017-08-11T03:38:57.534246656",
          "2017-08-12T03:39:56.712328704",
          "2017-08-13T03:40:55.890411008",
          "2017-08-14T03:41:55.068493056",
          "2017-08-15T03:42:54.246575360",
          "2017-08-16T03:43:53.424657408",
          "2017-08-17T03:44:52.602739712",
          "2017-08-18T03:45:51.780822016",
          "2017-08-19T03:46:50.958904064",
          "2017-08-20T03:47:50.136986368",
          "2017-08-21T03:48:49.315068416",
          "2017-08-22T03:49:48.493150720",
          "2017-08-23T03:50:47.671232768",
          "2017-08-24T03:51:46.849315072",
          "2017-08-25T03:52:46.027397376",
          "2017-08-26T03:53:45.205479424",
          "2017-08-27T03:54:44.383561728",
          "2017-08-28T03:55:43.561643776",
          "2017-08-29T03:56:42.739726080",
          "2017-08-30T03:57:41.917808128",
          "2017-08-31T03:58:41.095890432",
          "2017-09-01T03:59:40.273972480",
          "2017-09-02T04:00:39.452054784",
          "2017-09-03T04:01:38.630137088",
          "2017-09-04T04:02:37.808219136",
          "2017-09-05T04:03:36.986301440",
          "2017-09-06T04:04:36.164383488",
          "2017-09-07T04:05:35.342465792",
          "2017-09-08T04:06:34.520547840",
          "2017-09-09T04:07:33.698630144",
          "2017-09-10T04:08:32.876712448",
          "2017-09-11T04:09:32.054794496",
          "2017-09-12T04:10:31.232876800",
          "2017-09-13T04:11:30.410958848",
          "2017-09-14T04:12:29.589041152",
          "2017-09-15T04:13:28.767123200",
          "2017-09-16T04:14:27.945205504",
          "2017-09-17T04:15:27.123287552",
          "2017-09-18T04:16:26.301369856",
          "2017-09-19T04:17:25.479452160",
          "2017-09-20T04:18:24.657534208",
          "2017-09-21T04:19:23.835616512",
          "2017-09-22T04:20:23.013698560",
          "2017-09-23T04:21:22.191780864",
          "2017-09-24T04:22:21.369862912",
          "2017-09-25T04:23:20.547945216",
          "2017-09-26T04:24:19.726027520",
          "2017-09-27T04:25:18.904109568",
          "2017-09-28T04:26:18.082191872",
          "2017-09-29T04:27:17.260273920",
          "2017-09-30T04:28:16.438356224",
          "2017-10-01T04:29:15.616438272",
          "2017-10-02T04:30:14.794520576",
          "2017-10-03T04:31:13.972602624",
          "2017-10-04T04:32:13.150684928",
          "2017-10-05T04:33:12.328767232",
          "2017-10-06T04:34:11.506849280",
          "2017-10-07T04:35:10.684931584",
          "2017-10-08T04:36:09.863013632",
          "2017-10-09T04:37:09.041095936",
          "2017-10-10T04:38:08.219177984",
          "2017-10-11T04:39:07.397260288",
          "2017-10-12T04:40:06.575342592",
          "2017-10-13T04:41:05.753424640",
          "2017-10-14T04:42:04.931506944",
          "2017-10-15T04:43:04.109588992",
          "2017-10-16T04:44:03.287671296",
          "2017-10-17T04:45:02.465753344",
          "2017-10-18T04:46:01.643835648",
          "2017-10-19T04:47:00.821917696",
          "2017-10-20T04:48:00.000000000",
          "2017-10-21T04:48:59.178082304",
          "2017-10-22T04:49:58.356164352",
          "2017-10-23T04:50:57.534246656",
          "2017-10-24T04:51:56.712328704",
          "2017-10-25T04:52:55.890411008",
          "2017-10-26T04:53:55.068493056",
          "2017-10-27T04:54:54.246575360",
          "2017-10-28T04:55:53.424657408",
          "2017-10-29T04:56:52.602739712",
          "2017-10-30T04:57:51.780822016",
          "2017-10-31T04:58:50.958904064",
          "2017-11-01T04:59:50.136986368",
          "2017-11-02T05:00:49.315068416",
          "2017-11-03T05:01:48.493150720",
          "2017-11-04T05:02:47.671232768",
          "2017-11-05T05:03:46.849315072",
          "2017-11-06T05:04:46.027397376",
          "2017-11-07T05:05:45.205479424",
          "2017-11-08T05:06:44.383561728",
          "2017-11-09T05:07:43.561643776",
          "2017-11-10T05:08:42.739726080",
          "2017-11-11T05:09:41.917808128",
          "2017-11-12T05:10:41.095890432",
          "2017-11-13T05:11:40.273972480",
          "2017-11-14T05:12:39.452054784",
          "2017-11-15T05:13:38.630137088",
          "2017-11-16T05:14:37.808219136",
          "2017-11-17T05:15:36.986301440",
          "2017-11-18T05:16:36.164383488",
          "2017-11-19T05:17:35.342465792",
          "2017-11-20T05:18:34.520547840",
          "2017-11-21T05:19:33.698630144",
          "2017-11-22T05:20:32.876712448",
          "2017-11-23T05:21:32.054794496",
          "2017-11-24T05:22:31.232876800",
          "2017-11-25T05:23:30.410958848",
          "2017-11-26T05:24:29.589041152",
          "2017-11-27T05:25:28.767123200",
          "2017-11-28T05:26:27.945205504",
          "2017-11-29T05:27:27.123287552",
          "2017-11-30T05:28:26.301369856",
          "2017-12-01T05:29:25.479452160",
          "2017-12-02T05:30:24.657534208",
          "2017-12-03T05:31:23.835616512",
          "2017-12-04T05:32:23.013698560",
          "2017-12-05T05:33:22.191780864",
          "2017-12-06T05:34:21.369862912",
          "2017-12-07T05:35:20.547945216",
          "2017-12-08T05:36:19.726027520",
          "2017-12-09T05:37:18.904109568",
          "2017-12-10T05:38:18.082191872",
          "2017-12-11T05:39:17.260273920",
          "2017-12-12T05:40:16.438356224",
          "2017-12-13T05:41:15.616438272",
          "2017-12-14T05:42:14.794520576",
          "2017-12-15T05:43:13.972602624",
          "2017-12-16T05:44:13.150684928",
          "2017-12-17T05:45:12.328767232",
          "2017-12-18T05:46:11.506849280",
          "2017-12-19T05:47:10.684931584",
          "2017-12-20T05:48:09.863013632",
          "2017-12-21T05:49:09.041095936",
          "2017-12-22T05:50:08.219177984",
          "2017-12-23T05:51:07.397260288",
          "2017-12-24T05:52:06.575342592",
          "2017-12-25T05:53:05.753424640",
          "2017-12-26T05:54:04.931506944",
          "2017-12-27T05:55:04.109588992",
          "2017-12-28T05:56:03.287671296",
          "2017-12-29T05:57:02.465753344",
          "2017-12-30T05:58:01.643835648",
          "2017-12-31T05:59:00.821917696"
         ],
         "xaxis": "x2",
         "y": {
          "bdata": "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",
          "dtype": "f8"
         },
         "yaxis": "y2"
        }
       ],
       "layout": {
        "height": 400,
        "showlegend": false,
        "template": {
         "data": {
          "bar": [
           {
            "error_x": {
             "color": "#2a3f5f"
            },
            "error_y": {
             "color": "#2a3f5f"
            },
            "marker": {
             "line": {
              "color": "#E5ECF6",
              "width": 0.5
             },
             "pattern": {
              "fillmode": "overlay",
              "size": 10,
              "solidity": 0.2
             }
            },
            "type": "bar"
           }
          ],
          "barpolar": [
           {
            "marker": {
             "line": {
              "color": "#E5ECF6",
              "width": 0.5
             },
             "pattern": {
              "fillmode": "overlay",
              "size": 10,
              "solidity": 0.2
             }
            },
            "type": "barpolar"
           }
          ],
          "carpet": [
           {
            "aaxis": {
             "endlinecolor": "#2a3f5f",
             "gridcolor": "white",
             "linecolor": "white",
             "minorgridcolor": "white",
             "startlinecolor": "#2a3f5f"
            },
            "baxis": {
             "endlinecolor": "#2a3f5f",
             "gridcolor": "white",
             "linecolor": "white",
             "minorgridcolor": "white",
             "startlinecolor": "#2a3f5f"
            },
            "type": "carpet"
           }
          ],
          "choropleth": [
           {
            "colorbar": {
             "outlinewidth": 0,
             "ticks": ""
            },
            "type": "choropleth"
           }
          ],
          "contour": [
           {
            "colorbar": {
             "outlinewidth": 0,
             "ticks": ""
            },
            "colorscale": [
             [
              0,
              "#0d0887"
             ],
             [
              0.1111111111111111,
              "#46039f"
             ],
             [
              0.2222222222222222,
              "#7201a8"
             ],
             [
              0.3333333333333333,
              "#9c179e"
             ],
             [
              0.4444444444444444,
              "#bd3786"
             ],
             [
              0.5555555555555556,
              "#d8576b"
             ],
             [
              0.6666666666666666,
              "#ed7953"
             ],
             [
              0.7777777777777778,
              "#fb9f3a"
             ],
             [
              0.8888888888888888,
              "#fdca26"
             ],
             [
              1,
              "#f0f921"
             ]
            ],
            "type": "contour"
           }
          ],
          "contourcarpet": [
           {
            "colorbar": {
             "outlinewidth": 0,
             "ticks": ""
            },
            "type": "contourcarpet"
           }
          ],
          "heatmap": [
           {
            "colorbar": {
             "outlinewidth": 0,
             "ticks": ""
            },
            "colorscale": [
             [
              0,
              "#0d0887"
             ],
             [
              0.1111111111111111,
              "#46039f"
             ],
             [
              0.2222222222222222,
              "#7201a8"
             ],
             [
              0.3333333333333333,
              "#9c179e"
             ],
             [
              0.4444444444444444,
              "#bd3786"
             ],
             [
              0.5555555555555556,
              "#d8576b"
             ],
             [
              0.6666666666666666,
              "#ed7953"
             ],
             [
              0.7777777777777778,
              "#fb9f3a"
             ],
             [
              0.8888888888888888,
              "#fdca26"
             ],
             [
              1,
              "#f0f921"
             ]
            ],
            "type": "heatmap"
           }
          ],
          "histogram": [
           {
            "marker": {
             "pattern": {
              "fillmode": "overlay",
              "size": 10,
              "solidity": 0.2
             }
            },
            "type": "histogram"
           }
          ],
          "histogram2d": [
           {
            "colorbar": {
             "outlinewidth": 0,
             "ticks": ""
            },
            "colorscale": [
             [
              0,
              "#0d0887"
             ],
             [
              0.1111111111111111,
              "#46039f"
             ],
             [
              0.2222222222222222,
              "#7201a8"
             ],
             [
              0.3333333333333333,
              "#9c179e"
             ],
             [
              0.4444444444444444,
              "#bd3786"
             ],
             [
              0.5555555555555556,
              "#d8576b"
             ],
             [
              0.6666666666666666,
              "#ed7953"
             ],
             [
              0.7777777777777778,
              "#fb9f3a"
             ],
             [
              0.8888888888888888,
              "#fdca26"
             ],
             [
              1,
              "#f0f921"
             ]
            ],
            "type": "histogram2d"
           }
          ],
          "histogram2dcontour": [
           {
            "colorbar": {
             "outlinewidth": 0,
             "ticks": ""
            },
            "colorscale": [
             [
              0,
              "#0d0887"
             ],
             [
              0.1111111111111111,
              "#46039f"
             ],
             [
              0.2222222222222222,
              "#7201a8"
             ],
             [
              0.3333333333333333,
              "#9c179e"
             ],
             [
              0.4444444444444444,
              "#bd3786"
             ],
             [
              0.5555555555555556,
              "#d8576b"
             ],
             [
              0.6666666666666666,
              "#ed7953"
             ],
             [
              0.7777777777777778,
              "#fb9f3a"
             ],
             [
              0.8888888888888888,
              "#fdca26"
             ],
             [
              1,
              "#f0f921"
             ]
            ],
            "type": "histogram2dcontour"
           }
          ],
          "mesh3d": [
           {
            "colorbar": {
             "outlinewidth": 0,
             "ticks": ""
            },
            "type": "mesh3d"
           }
          ],
          "parcoords": [
           {
            "line": {
             "colorbar": {
              "outlinewidth": 0,
              "ticks": ""
             }
            },
            "type": "parcoords"
           }
          ],
          "pie": [
           {
            "automargin": true,
            "type": "pie"
           }
          ],
          "scatter": [
           {
            "fillpattern": {
             "fillmode": "overlay",
             "size": 10,
             "solidity": 0.2
            },
            "type": "scatter"
           }
          ],
          "scatter3d": [
           {
            "line": {
             "colorbar": {
              "outlinewidth": 0,
              "ticks": ""
             }
            },
            "marker": {
             "colorbar": {
              "outlinewidth": 0,
              "ticks": ""
             }
            },
            "type": "scatter3d"
           }
          ],
          "scattercarpet": [
           {
            "marker": {
             "colorbar": {
              "outlinewidth": 0,
              "ticks": ""
             }
            },
            "type": "scattercarpet"
           }
          ],
          "scattergeo": [
           {
            "marker": {
             "colorbar": {
              "outlinewidth": 0,
              "ticks": ""
             }
            },
            "type": "scattergeo"
           }
          ],
          "scattergl": [
           {
            "marker": {
             "colorbar": {
              "outlinewidth": 0,
              "ticks": ""
             }
            },
            "type": "scattergl"
           }
          ],
          "scattermap": [
           {
            "marker": {
             "colorbar": {
              "outlinewidth": 0,
              "ticks": ""
             }
            },
            "type": "scattermap"
           }
          ],
          "scattermapbox": [
           {
            "marker": {
             "colorbar": {
              "outlinewidth": 0,
              "ticks": ""
             }
            },
            "type": "scattermapbox"
           }
          ],
          "scatterpolar": [
           {
            "marker": {
             "colorbar": {
              "outlinewidth": 0,
              "ticks": ""
             }
            },
            "type": "scatterpolar"
           }
          ],
          "scatterpolargl": [
           {
            "marker": {
             "colorbar": {
              "outlinewidth": 0,
              "ticks": ""
             }
            },
            "type": "scatterpolargl"
           }
          ],
          "scatterternary": [
           {
            "marker": {
             "colorbar": {
              "outlinewidth": 0,
              "ticks": ""
             }
            },
            "type": "scatterternary"
           }
          ],
          "surface": [
           {
            "colorbar": {
             "outlinewidth": 0,
             "ticks": ""
            },
            "colorscale": [
             [
              0,
              "#0d0887"
             ],
             [
              0.1111111111111111,
              "#46039f"
             ],
             [
              0.2222222222222222,
              "#7201a8"
             ],
             [
              0.3333333333333333,
              "#9c179e"
             ],
             [
              0.4444444444444444,
              "#bd3786"
             ],
             [
              0.5555555555555556,
              "#d8576b"
             ],
             [
              0.6666666666666666,
              "#ed7953"
             ],
             [
              0.7777777777777778,
              "#fb9f3a"
             ],
             [
              0.8888888888888888,
              "#fdca26"
             ],
             [
              1,
              "#f0f921"
             ]
            ],
            "type": "surface"
           }
          ],
          "table": [
           {
            "cells": {
             "fill": {
              "color": "#EBF0F8"
             },
             "line": {
              "color": "white"
             }
            },
            "header": {
             "fill": {
              "color": "#C8D4E3"
             },
             "line": {
              "color": "white"
             }
            },
            "type": "table"
           }
          ]
         },
         "layout": {
          "annotationdefaults": {
           "arrowcolor": "#2a3f5f",
           "arrowhead": 0,
           "arrowwidth": 1
          },
          "autotypenumbers": "strict",
          "coloraxis": {
           "colorbar": {
            "outlinewidth": 0,
            "ticks": ""
           }
          },
          "colorscale": {
           "diverging": [
            [
             0,
             "#8e0152"
            ],
            [
             0.1,
             "#c51b7d"
            ],
            [
             0.2,
             "#de77ae"
            ],
            [
             0.3,
             "#f1b6da"
            ],
            [
             0.4,
             "#fde0ef"
            ],
            [
             0.5,
             "#f7f7f7"
            ],
            [
             0.6,
             "#e6f5d0"
            ],
            [
             0.7,
             "#b8e186"
            ],
            [
             0.8,
             "#7fbc41"
            ],
            [
             0.9,
             "#4d9221"
            ],
            [
             1,
             "#276419"
            ]
           ],
           "sequential": [
            [
             0,
             "#0d0887"
            ],
            [
             0.1111111111111111,
             "#46039f"
            ],
            [
             0.2222222222222222,
             "#7201a8"
            ],
            [
             0.3333333333333333,
             "#9c179e"
            ],
            [
             0.4444444444444444,
             "#bd3786"
            ],
            [
             0.5555555555555556,
             "#d8576b"
            ],
            [
             0.6666666666666666,
             "#ed7953"
            ],
            [
             0.7777777777777778,
             "#fb9f3a"
            ],
            [
             0.8888888888888888,
             "#fdca26"
            ],
            [
             1,
             "#f0f921"
            ]
           ],
           "sequentialminus": [
            [
             0,
             "#0d0887"
            ],
            [
             0.1111111111111111,
             "#46039f"
            ],
            [
             0.2222222222222222,
             "#7201a8"
            ],
            [
             0.3333333333333333,
             "#9c179e"
            ],
            [
             0.4444444444444444,
             "#bd3786"
            ],
            [
             0.5555555555555556,
             "#d8576b"
            ],
            [
             0.6666666666666666,
             "#ed7953"
            ],
            [
             0.7777777777777778,
             "#fb9f3a"
            ],
            [
             0.8888888888888888,
             "#fdca26"
            ],
            [
             1,
             "#f0f921"
            ]
           ]
          },
          "colorway": [
           "#636efa",
           "#EF553B",
           "#00cc96",
           "#ab63fa",
           "#FFA15A",
           "#19d3f3",
           "#FF6692",
           "#B6E880",
           "#FF97FF",
           "#FECB52"
          ],
          "font": {
           "color": "#2a3f5f"
          },
          "geo": {
           "bgcolor": "white",
           "lakecolor": "white",
           "landcolor": "#E5ECF6",
           "showlakes": true,
           "showland": true,
           "subunitcolor": "white"
          },
          "hoverlabel": {
           "align": "left"
          },
          "hovermode": "closest",
          "mapbox": {
           "style": "light"
          },
          "paper_bgcolor": "white",
          "plot_bgcolor": "#E5ECF6",
          "polar": {
           "angularaxis": {
            "gridcolor": "white",
            "linecolor": "white",
            "ticks": ""
           },
           "bgcolor": "#E5ECF6",
           "radialaxis": {
            "gridcolor": "white",
            "linecolor": "white",
            "ticks": ""
           }
          },
          "scene": {
           "xaxis": {
            "backgroundcolor": "#E5ECF6",
            "gridcolor": "white",
            "gridwidth": 2,
            "linecolor": "white",
            "showbackground": true,
            "ticks": "",
            "zerolinecolor": "white"
           },
           "yaxis": {
            "backgroundcolor": "#E5ECF6",
            "gridcolor": "white",
            "gridwidth": 2,
            "linecolor": "white",
            "showbackground": true,
            "ticks": "",
            "zerolinecolor": "white"
           },
           "zaxis": {
            "backgroundcolor": "#E5ECF6",
            "gridcolor": "white",
            "gridwidth": 2,
            "linecolor": "white",
            "showbackground": true,
            "ticks": "",
            "zerolinecolor": "white"
           }
          },
          "shapedefaults": {
           "line": {
            "color": "#2a3f5f"
           }
          },
          "ternary": {
           "aaxis": {
            "gridcolor": "white",
            "linecolor": "white",
            "ticks": ""
           },
           "baxis": {
            "gridcolor": "white",
            "linecolor": "white",
            "ticks": ""
           },
           "bgcolor": "#E5ECF6",
           "caxis": {
            "gridcolor": "white",
            "linecolor": "white",
            "ticks": ""
           }
          },
          "title": {
           "x": 0.05
          },
          "xaxis": {
           "automargin": true,
           "gridcolor": "white",
           "linecolor": "white",
           "ticks": "",
           "title": {
            "standoff": 15
           },
           "zerolinecolor": "white",
           "zerolinewidth": 2
          },
          "yaxis": {
           "automargin": true,
           "gridcolor": "white",
           "linecolor": "white",
           "ticks": "",
           "title": {
            "standoff": 15
           },
           "zerolinecolor": "white",
           "zerolinewidth": 2
          }
         }
        },
        "title": {
         "text": "Gas (Mcf) — Trend & Seasonality"
        },
        "width": 900,
        "xaxis": {
         "anchor": "y",
         "domain": [
          0,
          1
         ],
         "range": [
          "2014-05-29T21:36:00",
          "2027-06-05T02:24:00"
         ],
         "type": "date"
        },
        "xaxis2": {
         "anchor": "y2",
         "domain": [
          0,
          1
         ],
         "range": [
          "2016-12-13T18:54:02.958904115",
          "2018-01-18T11:04:57.863013581"
         ],
         "tickformat": "%B %e",
         "type": "date"
        },
        "yaxis": {
         "anchor": "x",
         "domain": [
          0.575,
          1
         ],
         "rangemode": "normal",
         "title": {
          "text": "trend"
         },
         "zerolinecolor": "#AAA"
        },
        "yaxis2": {
         "anchor": "x2",
         "domain": [
          0,
          0.425
         ],
         "title": {
          "text": "yearly"
         },
         "zerolinecolor": "#AAA"
        }
       }
      },
      "image/png": "[encoded data removed]"
     },
     "metadata": {},
     "output_type": "display_data"
    }
   ],
   "source": [
    "res_df = pd.DataFrame(results).sort_values(\"mape\")\n",
    "if not res_df.empty:\n",
    "    sel = res_df.iloc[0][\"commodity\"]\n",
    "    from prophet.plot import plot_components_plotly\n",
    "\n",
    "    fig1 = plot_plotly(models[sel], forecasts[sel])\n",
    "    fig1.update_layout(title=f\"{sel} — Forecast\")\n",
    "    fig1.show()\n",
    "\n",
    "    fig2 = plot_components_plotly(models[sel], forecasts[sel])\n",
    "    fig2.update_layout(title=f\"{sel} — Trend & Seasonality\")\n",
    "    fig2.show()\n",
    "else:\n",
    "    print(\"No per-commodity models built (insufficient history).\")"
   ]
  },
  {
   "cell_type": "markdown",
   "id": "d94f43e5-1975-4b71-855c-a2d855ec4d79",
   "metadata": {},
   "source": [
    "---\n",
    "\n",
    "# — Conclusions\n",
    "\n",
    "- **Forecast accuracy (MAPE)**: Prophet’s performance on the last 18 months was around X%.  \n",
    "- **Trends**: Oil vs. gas showed distinct seasonality and long-term trajectories.  \n",
    "- **By-commodity analysis**: Certain commodities were easier to forecast with lower error.  \n",
    "- **Next steps**:  \n",
    "  - Explore regressors (e.g., commodity prices).  \n",
    "  - Test multiplicative seasonality if scale varies.  \n",
    "  - Deploy a dashboard for interactive forecasts.  "
   ]
  },
  {
   "cell_type": "code",
   "execution_count": null,
   "id": "a6f871cb-5b0d-4c0a-bf5e-eae060f6fd78",
   "metadata": {},
   "outputs": [],
   "source": []
  }
 ],
 "metadata": {
  "kernelspec": {
   "display_name": "Python (oilgas)",
   "language": "python",
   "name": "oilgas"
  },
  "language_info": {
   "codemirror_mode": {
    "name": "ipython",
    "version": 3
   },
   "file_extension": ".py",
   "mimetype": "text/x-python",
   "name": "python",
   "nbconvert_exporter": "python",
   "pygments_lexer": "ipython3",
   "version": "3.11.13"
  }
 },
 "nbformat": 4,
 "nbformat_minor": 5
}
